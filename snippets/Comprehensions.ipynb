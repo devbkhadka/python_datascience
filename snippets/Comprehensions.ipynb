{
 "cells": [
  {
   "cell_type": "markdown",
   "metadata": {},
   "source": [
    "### Simple Comprehensions"
   ]
  },
  {
   "cell_type": "code",
   "execution_count": 4,
   "metadata": {},
   "outputs": [
    {
     "name": "stdout",
     "output_type": "stream",
     "text": [
      "[0, 1, 4, 9, 16, 25, 36, 49, 64, 81]\n",
      "{0: 0, 1: 1, 2: 4, 3: 9, 4: 16, 5: 25, 6: 36, 7: 49, 8: 64, 9: 81}\n",
      "{0, 1, 64, 4, 36, 9, 16, 49, 81, 25}\n"
     ]
    }
   ],
   "source": [
    "squares_lst = [i*i for i in  range(10)]\n",
    "print(squares_lst)\n",
    "squares_dict = {i: i*i for i in range(10)}\n",
    "print(squares_dict)\n",
    "squares_set = {i*i for i in range(10)}\n",
    "print(squares_set)\n"
   ]
  },
  {
   "cell_type": "markdown",
   "metadata": {},
   "source": [
    "### With condition"
   ]
  },
  {
   "cell_type": "code",
   "execution_count": 7,
   "metadata": {},
   "outputs": [
    {
     "name": "stdout",
     "output_type": "stream",
     "text": [
      "[1, 3, 5, 7, 9]\n"
     ]
    }
   ],
   "source": [
    "odds = [i for i in range(10) if i%2!=0]\n",
    "print(odds)"
   ]
  },
  {
   "cell_type": "markdown",
   "metadata": {},
   "source": [
    "### Nested Comprehensions"
   ]
  },
  {
   "cell_type": "code",
   "execution_count": 12,
   "metadata": {},
   "outputs": [
    {
     "name": "stdout",
     "output_type": "stream",
     "text": [
      "{0: [1, 1, 1, 1, 1], 1: [0, 1, 2, 3, 4], 2: [0, 1, 4, 9, 16], 3: [0, 1, 8, 27, 64]}\n"
     ]
    }
   ],
   "source": [
    "#### Create list inside dictionary ####\n",
    "powers = {p:[i**p for i in range(5)] for p in range(4)}\n",
    "print(powers)"
   ]
  },
  {
   "cell_type": "code",
   "execution_count": 16,
   "metadata": {},
   "outputs": [
    {
     "name": "stdout",
     "output_type": "stream",
     "text": [
      "[(0, 1), (0, 2), (0, 3), (0, 4), (1, 0), (1, 2), (1, 3), (1, 4), (2, 0), (2, 1), (2, 3), (2, 4), (3, 0), (3, 1), (3, 2), (3, 4), (4, 0), (4, 1), (4, 2), (4, 3)]\n"
     ]
    }
   ],
   "source": [
    "#### Create single list ####\n",
    "combinations = [(i,j) for i in range(5) for j in range(5) if i!=j]\n",
    "print(combinations)"
   ]
  },
  {
   "cell_type": "code",
   "execution_count": 23,
   "metadata": {},
   "outputs": [
    {
     "name": "stdout",
     "output_type": "stream",
     "text": [
      "['tooth paste', 'sampoo', 'rice', 'boot polish', 'shower gel', 'dish washing ge1', 'sponge', 'hair color', 'boot polish', 'rice', 'shower gel']\n"
     ]
    }
   ],
   "source": [
    "orders = {\n",
    "    'tom': ['tooth paste', 'sampoo', 'rice', 'boot polish'],\n",
    "    'jim': ['shower gel', 'dish washing ge1', 'sponge'],\n",
    "    'ram': ['hair color', 'boot polish', 'rice', 'shower gel']\n",
    "}\n",
    "\n",
    "#### order of 'for' statement in comprehensions is same as if we are writing nested loop.\n",
    "#### latter 'for' statement can refer variables of previous statements\n",
    "all_orders = [item for user, items in orders.items() for item in items]\n",
    "print(all_orders)"
   ]
  },
  {
   "cell_type": "code",
   "execution_count": null,
   "metadata": {},
   "outputs": [],
   "source": []
  }
 ],
 "metadata": {
  "kernelspec": {
   "display_name": "Python 3",
   "language": "python",
   "name": "python3"
  },
  "language_info": {
   "codemirror_mode": {
    "name": "ipython",
    "version": 3
   },
   "file_extension": ".py",
   "mimetype": "text/x-python",
   "name": "python",
   "nbconvert_exporter": "python",
   "pygments_lexer": "ipython3",
   "version": "3.6.5"
  }
 },
 "nbformat": 4,
 "nbformat_minor": 2
}
