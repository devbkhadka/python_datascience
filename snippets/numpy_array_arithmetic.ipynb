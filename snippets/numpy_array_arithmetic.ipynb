{
 "cells": [
  {
   "cell_type": "markdown",
   "metadata": {},
   "source": [
    "### Array Arithmetic"
   ]
  },
  {
   "cell_type": "code",
   "execution_count": 14,
   "metadata": {},
   "outputs": [
    {
     "name": "stdout",
     "output_type": "stream",
     "text": [
      "arr1\n",
      " [[0 8 7 1 2 1 4 6 5 2]\n",
      " [6 3 2 8 8 7 3 7 0 2]\n",
      " [6 4 7 3 0 3 6 7 4 7]]\n",
      "arr2\n",
      " [[8 6 2 9 6 0 9 6 3 5]\n",
      " [3 2 8 8 8 2 4 6 9 4]\n",
      " [9 2 1 3 5 4 0 5 4 7]]\n",
      "arr1*arr2\n",
      " [[ 0 48 14  9 12  0 36 36 15 10]\n",
      " [18  6 16 64 64 14 12 42  0  8]\n",
      " [54  8  7  9  0 12  0 35 16 49]]\n"
     ]
    }
   ],
   "source": [
    "import numpy as np\n",
    "arr1 = np.random.randint(10, size=(3,10))\n",
    "print('arr1\\n', arr1) \n",
    "arr2 = np.random.randint(10, size=(3,10))\n",
    "print('arr2\\n', arr2)\n",
    "\n",
    "print('arr1*arr2\\n', arr1 * arr2) ## arithmetic operation between same shape array perform the operation element wise"
   ]
  },
  {
   "cell_type": "markdown",
   "metadata": {},
   "source": [
    "### Scalar Operation"
   ]
  },
  {
   "cell_type": "code",
   "execution_count": 16,
   "metadata": {},
   "outputs": [
    {
     "name": "stdout",
     "output_type": "stream",
     "text": [
      "1/arr1\n",
      " [[1.         0.11111111 0.125      0.5        0.33333333 0.5\n",
      "  0.2        0.14285714 0.16666667 0.33333333]\n",
      " [0.14285714 0.25       0.33333333 0.11111111 0.11111111 0.125\n",
      "  0.25       0.125      1.         0.33333333]\n",
      " [0.14285714 0.2        0.125      0.25       1.         0.25\n",
      "  0.14285714 0.125      0.2        0.125     ]]\n"
     ]
    }
   ],
   "source": [
    "print('1/arr1\\n', 1/(arr1+1)) # scalar operation is performed in individual element"
   ]
  },
  {
   "cell_type": "markdown",
   "metadata": {},
   "source": [
    "### Comparision"
   ]
  },
  {
   "cell_type": "code",
   "execution_count": 20,
   "metadata": {},
   "outputs": [
    {
     "name": "stdout",
     "output_type": "stream",
     "text": [
      "arr1\n",
      " [[0 8 7 1 2 1 4 6 5 2]\n",
      " [6 3 2 8 8 7 3 7 0 2]\n",
      " [6 4 7 3 0 3 6 7 4 7]]\n",
      "arr2\n",
      " [[8 6 2 9 6 0 9 6 3 5]\n",
      " [3 2 8 8 8 2 4 6 9 4]\n",
      " [9 2 1 3 5 4 0 5 4 7]]\n",
      "arr1>5\n",
      " [[False  True  True False False False False  True False False]\n",
      " [ True False False  True  True  True False  True False False]\n",
      " [ True False  True False False False  True  True False  True]]\n",
      "arr1==arr2\n",
      " [[False False False False False False False  True False False]\n",
      " [False False False  True  True False False False False False]\n",
      " [False False False  True False False False False  True  True]]\n"
     ]
    }
   ],
   "source": [
    "print('arr1\\n', arr1)\n",
    "print('arr2\\n', arr2)\n",
    "print('arr1>5\\n', arr1>5) ## compares element wise and creates boolean array of same shape as operated array\n",
    "print('arr1==arr2\\n', arr1==arr2)"
   ]
  },
  {
   "cell_type": "code",
   "execution_count": null,
   "metadata": {},
   "outputs": [],
   "source": []
  }
 ],
 "metadata": {
  "kernelspec": {
   "display_name": "Python 3",
   "language": "python",
   "name": "python3"
  },
  "language_info": {
   "codemirror_mode": {
    "name": "ipython",
    "version": 3
   },
   "file_extension": ".py",
   "mimetype": "text/x-python",
   "name": "python",
   "nbconvert_exporter": "python",
   "pygments_lexer": "ipython3",
   "version": "3.6.5"
  }
 },
 "nbformat": 4,
 "nbformat_minor": 2
}
