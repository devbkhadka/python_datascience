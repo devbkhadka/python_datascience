{
 "cells": [
  {
   "cell_type": "code",
   "execution_count": 1,
   "metadata": {},
   "outputs": [
    {
     "data": {
      "text/plain": [
       "Period('2019-04', 'M')"
      ]
     },
     "execution_count": 1,
     "metadata": {},
     "output_type": "execute_result"
    }
   ],
   "source": [
    "import pandas as pd\n",
    "jan_019=pd.Period(\"2019\", \"M\")\n",
    "apr_019=jan_019 + 3\n",
    "apr_019"
   ]
  },
  {
   "cell_type": "code",
   "execution_count": 2,
   "metadata": {},
   "outputs": [
    {
     "data": {
      "text/plain": [
       "3"
      ]
     },
     "execution_count": 2,
     "metadata": {},
     "output_type": "execute_result"
    }
   ],
   "source": [
    "apr_019 - jan_019"
   ]
  },
  {
   "cell_type": "markdown",
   "metadata": {},
   "source": [
    "### Period Range"
   ]
  },
  {
   "cell_type": "code",
   "execution_count": 3,
   "metadata": {},
   "outputs": [
    {
     "data": {
      "text/plain": [
       "2010    0.964635\n",
       "2011    0.763930\n",
       "2012    0.923033\n",
       "2013    0.772578\n",
       "2014    0.936442\n",
       "2015    0.671649\n",
       "2016    0.491729\n",
       "2017    0.237706\n",
       "2018    0.581671\n",
       "2019    0.091599\n",
       "Freq: A-JUL, dtype: float64"
      ]
     },
     "execution_count": 3,
     "metadata": {},
     "output_type": "execute_result"
    }
   ],
   "source": [
    "import numpy as np\n",
    "period_range = pd.period_range(\"2010\", \"2019\", freq=\"A-Jul\")\n",
    "rand = np.random.rand(len(period_range))\n",
    "pd.Series(rand, index=period_range)"
   ]
  },
  {
   "cell_type": "markdown",
   "metadata": {},
   "source": [
    "### Frequency Conversion"
   ]
  },
  {
   "cell_type": "code",
   "execution_count": 4,
   "metadata": {},
   "outputs": [
    {
     "data": {
      "text/plain": [
       "PeriodIndex(['2009-08-01', '2010-08-01', '2011-08-01', '2012-08-01',\n",
       "             '2013-08-01', '2014-08-01', '2015-08-01', '2016-08-01',\n",
       "             '2017-08-01', '2018-08-01'],\n",
       "            dtype='period[D]', freq='D')"
      ]
     },
     "execution_count": 4,
     "metadata": {},
     "output_type": "execute_result"
    }
   ],
   "source": [
    "## convert starting day of anual period to day period\n",
    "period_range.asfreq(\"D\", \"Start\")"
   ]
  },
  {
   "cell_type": "code",
   "execution_count": 5,
   "metadata": {},
   "outputs": [
    {
     "data": {
      "text/plain": [
       "PeriodIndex(['2010Q3', '2011Q3', '2012Q3', '2013Q3', '2014Q3', '2015Q3',\n",
       "             '2016Q3', '2017Q3', '2018Q3', '2019Q3'],\n",
       "            dtype='period[Q-DEC]', freq='Q-DEC')"
      ]
     },
     "execution_count": 5,
     "metadata": {},
     "output_type": "execute_result"
    }
   ],
   "source": [
    "## convert ending day of anual peroid to quater\n",
    "period_range.asfreq(\"Q\", how=\"end\")"
   ]
  },
  {
   "cell_type": "code",
   "execution_count": 6,
   "metadata": {},
   "outputs": [
    {
     "data": {
      "text/plain": [
       "PeriodIndex(['2011Q2', '2012Q2', '2013Q2', '2014Q2', '2015Q2', '2016Q2',\n",
       "             '2017Q2', '2018Q2', '2019Q2', '2020Q2'],\n",
       "            dtype='period[Q-DEC]', freq='Q-DEC')"
      ]
     },
     "execution_count": 6,
     "metadata": {},
     "output_type": "execute_result"
    }
   ],
   "source": [
    "## change anual period ending on July to end on June and convert that to quater (last quater ending on dec by default)\n",
    "period_range.asfreq(\"A-Jun\").asfreq(\"Q\")"
   ]
  },
  {
   "cell_type": "code",
   "execution_count": 7,
   "metadata": {},
   "outputs": [
    {
     "data": {
      "text/plain": [
       "PeriodIndex(['2011Q1', '2012Q1', '2013Q1', '2014Q1', '2015Q1', '2016Q1',\n",
       "             '2017Q1', '2018Q1', '2019Q1', '2020Q1'],\n",
       "            dtype='period[Q-JUN]', freq='Q-JUN')"
      ]
     },
     "execution_count": 7,
     "metadata": {},
     "output_type": "execute_result"
    }
   ],
   "source": [
    "## convert A-Jul period to quater (last quater ending on Jun)\n",
    "period_range.asfreq(\"Q-Jun\", \"end\")"
   ]
  },
  {
   "cell_type": "code",
   "execution_count": 9,
   "metadata": {},
   "outputs": [
    {
     "data": {
      "text/plain": [
       "PeriodIndex(['2009-08-03', '2010-08-02', '2011-08-01', '2012-08-01',\n",
       "             '2013-08-01', '2014-08-01', '2015-08-03', '2016-08-01',\n",
       "             '2017-08-01', '2018-08-01'],\n",
       "            dtype='period[B]', freq='B')"
      ]
     },
     "execution_count": 9,
     "metadata": {},
     "output_type": "execute_result"
    }
   ],
   "source": [
    "## convert start of A-Jul period to Business day\n",
    "period_range.asfreq(\"B\", how=\"start\")"
   ]
  },
  {
   "cell_type": "markdown",
   "metadata": {},
   "source": [
    "### Custom Quater Period"
   ]
  },
  {
   "cell_type": "code",
   "execution_count": 10,
   "metadata": {},
   "outputs": [
    {
     "data": {
      "text/plain": [
       "Period('2020', 'A-JUN')"
      ]
     },
     "execution_count": 10,
     "metadata": {},
     "output_type": "execute_result"
    }
   ],
   "source": [
    "july_019 = pd.Period(\"July-2019\")\n",
    "july_019.asfreq(\"A-Jun\")"
   ]
  },
  {
   "cell_type": "code",
   "execution_count": 11,
   "metadata": {},
   "outputs": [
    {
     "data": {
      "text/plain": [
       "Period('2019Q3', 'Q-JUN')"
      ]
     },
     "execution_count": 11,
     "metadata": {},
     "output_type": "execute_result"
    }
   ],
   "source": [
    "q3=pd.Period(\"2019-1\", freq=\"Q-Jun\") ## Quater endind on Jun\n",
    "q3"
   ]
  },
  {
   "cell_type": "code",
   "execution_count": 12,
   "metadata": {},
   "outputs": [
    {
     "data": {
      "text/plain": [
       "Period('2019-03-31', 'D')"
      ]
     },
     "execution_count": 12,
     "metadata": {},
     "output_type": "execute_result"
    }
   ],
   "source": [
    "q3.asfreq(\"D\", \"end\")"
   ]
  },
  {
   "cell_type": "code",
   "execution_count": 17,
   "metadata": {},
   "outputs": [
    {
     "data": {
      "text/plain": [
       "Period('2019-06-28', 'B')"
      ]
     },
     "execution_count": 17,
     "metadata": {},
     "output_type": "execute_result"
    }
   ],
   "source": [
    "q2 = pd.Period(\"2019Q2\")\n",
    "last_bday_q2 = q2.asfreq(\"B\", \"e\")\n",
    "last_bday_q2"
   ]
  },
  {
   "cell_type": "code",
   "execution_count": 14,
   "metadata": {},
   "outputs": [
    {
     "data": {
      "text/plain": [
       "Period('2019-03-29 23:59', 'T')"
      ]
     },
     "execution_count": 14,
     "metadata": {},
     "output_type": "execute_result"
    }
   ],
   "source": [
    "second_last_bday_q2 = last_bday_q2-1\n",
    "second_last_bday_q2.asfreq(\"T\", 'e') "
   ]
  },
  {
   "cell_type": "markdown",
   "metadata": {},
   "source": [
    "### Timestamp to Period"
   ]
  },
  {
   "cell_type": "code",
   "execution_count": 35,
   "metadata": {},
   "outputs": [
    {
     "data": {
      "text/plain": [
       "2018-05-31    0.997021\n",
       "2018-06-30    0.080074\n",
       "2018-07-31    0.054977\n",
       "2018-08-31    0.987060\n",
       "2018-09-30    0.630005\n",
       "2018-10-31    0.397727\n",
       "2018-11-30    0.076151\n",
       "2018-12-31    0.543896\n",
       "2019-01-31    0.781364\n",
       "2019-02-28    0.378443\n",
       "2018-08-26    0.595793\n",
       "2018-09-02    0.691418\n",
       "2018-09-09    0.795304\n",
       "dtype: float64"
      ]
     },
     "execution_count": 35,
     "metadata": {},
     "output_type": "execute_result"
    }
   ],
   "source": [
    "date_range = pd.date_range(\"2018-05-26\", periods=10, freq=\"M\")\n",
    "rng = pd.date_range(\"2018-08-26\", periods=3, freq=\"W\")\n",
    "date_range = date_range.append(rng)\n",
    "ts = pd.Series(np.random.rand(len(date_range)), index=date_range)\n",
    "ts"
   ]
  },
  {
   "cell_type": "code",
   "execution_count": 39,
   "metadata": {},
   "outputs": [
    {
     "data": {
      "text/plain": [
       "2018-05    0.997021\n",
       "2018-06    0.080074\n",
       "2018-07    0.054977\n",
       "2018-08    0.987060\n",
       "2018-09    0.630005\n",
       "2018-10    0.397727\n",
       "2018-11    0.076151\n",
       "2018-12    0.543896\n",
       "2019-01    0.781364\n",
       "2019-02    0.378443\n",
       "2018-08    0.595793\n",
       "2018-09    0.691418\n",
       "2018-09    0.795304\n",
       "Freq: M, dtype: float64"
      ]
     },
     "execution_count": 39,
     "metadata": {},
     "output_type": "execute_result"
    }
   ],
   "source": [
    "ts_period = ts.to_period(\"M\")\n",
    "ts_period"
   ]
  },
  {
   "cell_type": "code",
   "execution_count": 42,
   "metadata": {},
   "outputs": [
    {
     "data": {
      "text/plain": [
       "2018-05-31    0.997021\n",
       "2018-06-30    0.080074\n",
       "2018-07-31    0.054977\n",
       "2018-08-31    0.987060\n",
       "2018-09-30    0.630005\n",
       "2018-10-31    0.397727\n",
       "2018-11-30    0.076151\n",
       "2018-12-31    0.543896\n",
       "2019-01-31    0.781364\n",
       "2019-02-28    0.378443\n",
       "2018-08-31    0.595793\n",
       "2018-09-30    0.691418\n",
       "2018-09-30    0.795304\n",
       "dtype: float64"
      ]
     },
     "execution_count": 42,
     "metadata": {},
     "output_type": "execute_result"
    }
   ],
   "source": [
    "ts_period.to_timestamp(freq=\"M\")"
   ]
  },
  {
   "cell_type": "markdown",
   "metadata": {},
   "source": [
    "### Period Index From Series"
   ]
  },
  {
   "cell_type": "code",
   "execution_count": 48,
   "metadata": {},
   "outputs": [
    {
     "data": {
      "text/html": [
       "<div>\n",
       "<style scoped>\n",
       "    .dataframe tbody tr th:only-of-type {\n",
       "        vertical-align: middle;\n",
       "    }\n",
       "\n",
       "    .dataframe tbody tr th {\n",
       "        vertical-align: top;\n",
       "    }\n",
       "\n",
       "    .dataframe thead th {\n",
       "        text-align: right;\n",
       "    }\n",
       "</style>\n",
       "<table border=\"1\" class=\"dataframe\">\n",
       "  <thead>\n",
       "    <tr style=\"text-align: right;\">\n",
       "      <th></th>\n",
       "      <th>year</th>\n",
       "      <th>quarter</th>\n",
       "      <th>realgdp</th>\n",
       "      <th>realcons</th>\n",
       "      <th>realinv</th>\n",
       "      <th>realgovt</th>\n",
       "      <th>realdpi</th>\n",
       "      <th>cpi</th>\n",
       "      <th>m1</th>\n",
       "      <th>tbilrate</th>\n",
       "      <th>unemp</th>\n",
       "      <th>pop</th>\n",
       "      <th>infl</th>\n",
       "      <th>realint</th>\n",
       "    </tr>\n",
       "  </thead>\n",
       "  <tbody>\n",
       "    <tr>\n",
       "      <th>0</th>\n",
       "      <td>1959</td>\n",
       "      <td>1</td>\n",
       "      <td>2710.349</td>\n",
       "      <td>1707.4</td>\n",
       "      <td>286.898</td>\n",
       "      <td>470.045</td>\n",
       "      <td>1886.9</td>\n",
       "      <td>28.98</td>\n",
       "      <td>139.7</td>\n",
       "      <td>2.82</td>\n",
       "      <td>5.8</td>\n",
       "      <td>177.146</td>\n",
       "      <td>0.00</td>\n",
       "      <td>0.00</td>\n",
       "    </tr>\n",
       "    <tr>\n",
       "      <th>1</th>\n",
       "      <td>1959</td>\n",
       "      <td>2</td>\n",
       "      <td>2778.801</td>\n",
       "      <td>1733.7</td>\n",
       "      <td>310.859</td>\n",
       "      <td>481.301</td>\n",
       "      <td>1919.7</td>\n",
       "      <td>29.15</td>\n",
       "      <td>141.7</td>\n",
       "      <td>3.08</td>\n",
       "      <td>5.1</td>\n",
       "      <td>177.830</td>\n",
       "      <td>2.34</td>\n",
       "      <td>0.74</td>\n",
       "    </tr>\n",
       "    <tr>\n",
       "      <th>2</th>\n",
       "      <td>1959</td>\n",
       "      <td>3</td>\n",
       "      <td>2775.488</td>\n",
       "      <td>1751.8</td>\n",
       "      <td>289.226</td>\n",
       "      <td>491.260</td>\n",
       "      <td>1916.4</td>\n",
       "      <td>29.35</td>\n",
       "      <td>140.5</td>\n",
       "      <td>3.82</td>\n",
       "      <td>5.3</td>\n",
       "      <td>178.657</td>\n",
       "      <td>2.74</td>\n",
       "      <td>1.09</td>\n",
       "    </tr>\n",
       "    <tr>\n",
       "      <th>3</th>\n",
       "      <td>1959</td>\n",
       "      <td>4</td>\n",
       "      <td>2785.204</td>\n",
       "      <td>1753.7</td>\n",
       "      <td>299.356</td>\n",
       "      <td>484.052</td>\n",
       "      <td>1931.3</td>\n",
       "      <td>29.37</td>\n",
       "      <td>140.0</td>\n",
       "      <td>4.33</td>\n",
       "      <td>5.6</td>\n",
       "      <td>179.386</td>\n",
       "      <td>0.27</td>\n",
       "      <td>4.06</td>\n",
       "    </tr>\n",
       "    <tr>\n",
       "      <th>4</th>\n",
       "      <td>1960</td>\n",
       "      <td>1</td>\n",
       "      <td>2847.699</td>\n",
       "      <td>1770.5</td>\n",
       "      <td>331.722</td>\n",
       "      <td>462.199</td>\n",
       "      <td>1955.5</td>\n",
       "      <td>29.54</td>\n",
       "      <td>139.6</td>\n",
       "      <td>3.50</td>\n",
       "      <td>5.2</td>\n",
       "      <td>180.007</td>\n",
       "      <td>2.31</td>\n",
       "      <td>1.19</td>\n",
       "    </tr>\n",
       "  </tbody>\n",
       "</table>\n",
       "</div>"
      ],
      "text/plain": [
       "   year  quarter   realgdp  realcons  realinv  realgovt  realdpi    cpi  \\\n",
       "0  1959        1  2710.349    1707.4  286.898   470.045   1886.9  28.98   \n",
       "1  1959        2  2778.801    1733.7  310.859   481.301   1919.7  29.15   \n",
       "2  1959        3  2775.488    1751.8  289.226   491.260   1916.4  29.35   \n",
       "3  1959        4  2785.204    1753.7  299.356   484.052   1931.3  29.37   \n",
       "4  1960        1  2847.699    1770.5  331.722   462.199   1955.5  29.54   \n",
       "\n",
       "      m1  tbilrate  unemp      pop  infl  realint  \n",
       "0  139.7      2.82    5.8  177.146  0.00     0.00  \n",
       "1  141.7      3.08    5.1  177.830  2.34     0.74  \n",
       "2  140.5      3.82    5.3  178.657  2.74     1.09  \n",
       "3  140.0      4.33    5.6  179.386  0.27     4.06  \n",
       "4  139.6      3.50    5.2  180.007  2.31     1.19  "
      ]
     },
     "execution_count": 48,
     "metadata": {},
     "output_type": "execute_result"
    }
   ],
   "source": [
    "macrodata = pd.read_csv(\"data/macrodata.csv\")\n",
    "macrodata.head()"
   ]
  },
  {
   "cell_type": "code",
   "execution_count": 50,
   "metadata": {},
   "outputs": [
    {
     "data": {
      "text/plain": [
       "1959Q1    0.00\n",
       "1959Q2    2.34\n",
       "1959Q3    2.74\n",
       "1959Q4    0.27\n",
       "1960Q1    2.31\n",
       "1960Q2    0.14\n",
       "1960Q3    2.70\n",
       "1960Q4    1.21\n",
       "1961Q1   -0.40\n",
       "1961Q2    1.47\n",
       "Freq: Q-DEC, Name: infl, dtype: float64"
      ]
     },
     "execution_count": 50,
     "metadata": {},
     "output_type": "execute_result"
    }
   ],
   "source": [
    "p_index = pd.PeriodIndex(year=macrodata.year, quarter=macrodata.quarter, freq=\"Q-Dec\")\n",
    "macrodata.index = p_index\n",
    "macrodata.infl.head(10)"
   ]
  },
  {
   "cell_type": "markdown",
   "metadata": {},
   "source": [
    "### Resampling"
   ]
  },
  {
   "cell_type": "code",
   "execution_count": 52,
   "metadata": {},
   "outputs": [
    {
     "data": {
      "text/html": [
       "<div>\n",
       "<style scoped>\n",
       "    .dataframe tbody tr th:only-of-type {\n",
       "        vertical-align: middle;\n",
       "    }\n",
       "\n",
       "    .dataframe tbody tr th {\n",
       "        vertical-align: top;\n",
       "    }\n",
       "\n",
       "    .dataframe thead th {\n",
       "        text-align: right;\n",
       "    }\n",
       "</style>\n",
       "<table border=\"1\" class=\"dataframe\">\n",
       "  <thead>\n",
       "    <tr style=\"text-align: right;\">\n",
       "      <th></th>\n",
       "      <th>year</th>\n",
       "      <th>quarter</th>\n",
       "      <th>realgdp</th>\n",
       "      <th>realcons</th>\n",
       "      <th>realinv</th>\n",
       "      <th>realgovt</th>\n",
       "      <th>realdpi</th>\n",
       "      <th>cpi</th>\n",
       "      <th>m1</th>\n",
       "      <th>tbilrate</th>\n",
       "      <th>unemp</th>\n",
       "      <th>pop</th>\n",
       "      <th>infl</th>\n",
       "      <th>realint</th>\n",
       "    </tr>\n",
       "  </thead>\n",
       "  <tbody>\n",
       "    <tr>\n",
       "      <th>1959</th>\n",
       "      <td>1959.0</td>\n",
       "      <td>2.5</td>\n",
       "      <td>2762.46050</td>\n",
       "      <td>1736.650</td>\n",
       "      <td>296.58475</td>\n",
       "      <td>481.66450</td>\n",
       "      <td>1913.575</td>\n",
       "      <td>29.2125</td>\n",
       "      <td>140.475</td>\n",
       "      <td>3.5125</td>\n",
       "      <td>5.450</td>\n",
       "      <td>178.25475</td>\n",
       "      <td>1.3375</td>\n",
       "      <td>1.4725</td>\n",
       "    </tr>\n",
       "    <tr>\n",
       "      <th>1960</th>\n",
       "      <td>1960.0</td>\n",
       "      <td>2.5</td>\n",
       "      <td>2830.93175</td>\n",
       "      <td>1784.350</td>\n",
       "      <td>296.50325</td>\n",
       "      <td>468.42725</td>\n",
       "      <td>1964.000</td>\n",
       "      <td>29.6700</td>\n",
       "      <td>140.450</td>\n",
       "      <td>2.7075</td>\n",
       "      <td>5.575</td>\n",
       "      <td>181.12325</td>\n",
       "      <td>1.5900</td>\n",
       "      <td>1.1200</td>\n",
       "    </tr>\n",
       "    <tr>\n",
       "      <th>1961</th>\n",
       "      <td>1961.0</td>\n",
       "      <td>2.5</td>\n",
       "      <td>2896.87950</td>\n",
       "      <td>1821.175</td>\n",
       "      <td>294.58525</td>\n",
       "      <td>488.13275</td>\n",
       "      <td>2030.700</td>\n",
       "      <td>29.9375</td>\n",
       "      <td>143.575</td>\n",
       "      <td>2.3950</td>\n",
       "      <td>6.700</td>\n",
       "      <td>184.11225</td>\n",
       "      <td>0.6675</td>\n",
       "      <td>1.7250</td>\n",
       "    </tr>\n",
       "    <tr>\n",
       "      <th>1962</th>\n",
       "      <td>1962.0</td>\n",
       "      <td>2.5</td>\n",
       "      <td>3072.39000</td>\n",
       "      <td>1911.225</td>\n",
       "      <td>331.98050</td>\n",
       "      <td>529.69400</td>\n",
       "      <td>2129.625</td>\n",
       "      <td>30.3125</td>\n",
       "      <td>146.975</td>\n",
       "      <td>2.7900</td>\n",
       "      <td>5.550</td>\n",
       "      <td>186.93700</td>\n",
       "      <td>1.3225</td>\n",
       "      <td>1.4675</td>\n",
       "    </tr>\n",
       "    <tr>\n",
       "      <th>1963</th>\n",
       "      <td>1963.0</td>\n",
       "      <td>2.5</td>\n",
       "      <td>3206.70825</td>\n",
       "      <td>1989.875</td>\n",
       "      <td>354.27175</td>\n",
       "      <td>530.07525</td>\n",
       "      <td>2209.525</td>\n",
       "      <td>30.7150</td>\n",
       "      <td>151.825</td>\n",
       "      <td>3.2075</td>\n",
       "      <td>5.650</td>\n",
       "      <td>189.62950</td>\n",
       "      <td>1.6300</td>\n",
       "      <td>1.5825</td>\n",
       "    </tr>\n",
       "    <tr>\n",
       "      <th>1964</th>\n",
       "      <td>1964.0</td>\n",
       "      <td>2.5</td>\n",
       "      <td>3392.31475</td>\n",
       "      <td>2108.400</td>\n",
       "      <td>383.49125</td>\n",
       "      <td>523.11800</td>\n",
       "      <td>2368.700</td>\n",
       "      <td>31.0925</td>\n",
       "      <td>157.875</td>\n",
       "      <td>3.5675</td>\n",
       "      <td>5.175</td>\n",
       "      <td>192.24700</td>\n",
       "      <td>1.0925</td>\n",
       "      <td>2.4775</td>\n",
       "    </tr>\n",
       "    <tr>\n",
       "      <th>1965</th>\n",
       "      <td>1965.0</td>\n",
       "      <td>2.5</td>\n",
       "      <td>3610.12750</td>\n",
       "      <td>2241.775</td>\n",
       "      <td>437.30025</td>\n",
       "      <td>522.62600</td>\n",
       "      <td>2514.650</td>\n",
       "      <td>31.6225</td>\n",
       "      <td>165.050</td>\n",
       "      <td>4.0125</td>\n",
       "      <td>4.525</td>\n",
       "      <td>194.63700</td>\n",
       "      <td>1.9025</td>\n",
       "      <td>2.1125</td>\n",
       "    </tr>\n",
       "    <tr>\n",
       "      <th>1966</th>\n",
       "      <td>1966.0</td>\n",
       "      <td>2.5</td>\n",
       "      <td>3845.34200</td>\n",
       "      <td>2368.975</td>\n",
       "      <td>475.82650</td>\n",
       "      <td>580.50150</td>\n",
       "      <td>2647.275</td>\n",
       "      <td>32.6200</td>\n",
       "      <td>171.300</td>\n",
       "      <td>4.8750</td>\n",
       "      <td>3.800</td>\n",
       "      <td>196.87550</td>\n",
       "      <td>3.1500</td>\n",
       "      <td>1.7250</td>\n",
       "    </tr>\n",
       "    <tr>\n",
       "      <th>1967</th>\n",
       "      <td>1967.0</td>\n",
       "      <td>2.5</td>\n",
       "      <td>3942.52300</td>\n",
       "      <td>2439.925</td>\n",
       "      <td>454.06675</td>\n",
       "      <td>638.46250</td>\n",
       "      <td>2763.425</td>\n",
       "      <td>33.5750</td>\n",
       "      <td>179.550</td>\n",
       "      <td>4.3300</td>\n",
       "      <td>3.825</td>\n",
       "      <td>199.00925</td>\n",
       "      <td>3.5825</td>\n",
       "      <td>0.7475</td>\n",
       "    </tr>\n",
       "    <tr>\n",
       "      <th>1968</th>\n",
       "      <td>1968.0</td>\n",
       "      <td>2.5</td>\n",
       "      <td>4133.39275</td>\n",
       "      <td>2580.725</td>\n",
       "      <td>480.49600</td>\n",
       "      <td>643.71675</td>\n",
       "      <td>2889.350</td>\n",
       "      <td>35.0750</td>\n",
       "      <td>192.450</td>\n",
       "      <td>5.4350</td>\n",
       "      <td>3.525</td>\n",
       "      <td>200.99100</td>\n",
       "      <td>4.5850</td>\n",
       "      <td>0.8450</td>\n",
       "    </tr>\n",
       "  </tbody>\n",
       "</table>\n",
       "</div>"
      ],
      "text/plain": [
       "        year  quarter     realgdp  realcons    realinv   realgovt   realdpi  \\\n",
       "1959  1959.0      2.5  2762.46050  1736.650  296.58475  481.66450  1913.575   \n",
       "1960  1960.0      2.5  2830.93175  1784.350  296.50325  468.42725  1964.000   \n",
       "1961  1961.0      2.5  2896.87950  1821.175  294.58525  488.13275  2030.700   \n",
       "1962  1962.0      2.5  3072.39000  1911.225  331.98050  529.69400  2129.625   \n",
       "1963  1963.0      2.5  3206.70825  1989.875  354.27175  530.07525  2209.525   \n",
       "1964  1964.0      2.5  3392.31475  2108.400  383.49125  523.11800  2368.700   \n",
       "1965  1965.0      2.5  3610.12750  2241.775  437.30025  522.62600  2514.650   \n",
       "1966  1966.0      2.5  3845.34200  2368.975  475.82650  580.50150  2647.275   \n",
       "1967  1967.0      2.5  3942.52300  2439.925  454.06675  638.46250  2763.425   \n",
       "1968  1968.0      2.5  4133.39275  2580.725  480.49600  643.71675  2889.350   \n",
       "\n",
       "          cpi       m1  tbilrate  unemp        pop    infl  realint  \n",
       "1959  29.2125  140.475    3.5125  5.450  178.25475  1.3375   1.4725  \n",
       "1960  29.6700  140.450    2.7075  5.575  181.12325  1.5900   1.1200  \n",
       "1961  29.9375  143.575    2.3950  6.700  184.11225  0.6675   1.7250  \n",
       "1962  30.3125  146.975    2.7900  5.550  186.93700  1.3225   1.4675  \n",
       "1963  30.7150  151.825    3.2075  5.650  189.62950  1.6300   1.5825  \n",
       "1964  31.0925  157.875    3.5675  5.175  192.24700  1.0925   2.4775  \n",
       "1965  31.6225  165.050    4.0125  4.525  194.63700  1.9025   2.1125  \n",
       "1966  32.6200  171.300    4.8750  3.800  196.87550  3.1500   1.7250  \n",
       "1967  33.5750  179.550    4.3300  3.825  199.00925  3.5825   0.7475  \n",
       "1968  35.0750  192.450    5.4350  3.525  200.99100  4.5850   0.8450  "
      ]
     },
     "execution_count": 52,
     "metadata": {},
     "output_type": "execute_result"
    }
   ],
   "source": [
    "macrodata.resample(\"A-Dec\").mean().head(10)"
   ]
  },
  {
   "cell_type": "code",
   "execution_count": null,
   "metadata": {},
   "outputs": [],
   "source": []
  }
 ],
 "metadata": {
  "kernelspec": {
   "display_name": "Python 3",
   "language": "python",
   "name": "python3"
  },
  "language_info": {
   "codemirror_mode": {
    "name": "ipython",
    "version": 3
   },
   "file_extension": ".py",
   "mimetype": "text/x-python",
   "name": "python",
   "nbconvert_exporter": "python",
   "pygments_lexer": "ipython3",
   "version": "3.6.5"
  }
 },
 "nbformat": 4,
 "nbformat_minor": 2
}
