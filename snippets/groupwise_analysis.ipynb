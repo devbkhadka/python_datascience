{
 "cells": [
  {
   "cell_type": "markdown",
   "metadata": {},
   "source": [
    "### Permutation"
   ]
  },
  {
   "cell_type": "code",
   "execution_count": 9,
   "metadata": {},
   "outputs": [
    {
     "data": {
      "text/plain": [
       "3_S     3\n",
       "J_C    10\n",
       "A_C     1\n",
       "K_C    10\n",
       "A_S     1\n",
       "dtype: int64"
      ]
     },
     "execution_count": 9,
     "metadata": {},
     "output_type": "execute_result"
    }
   ],
   "source": [
    "import pandas as pd\n",
    "suits = \"H,S,C,D\".split(\",\")\n",
    "card_numbers = [\"A\"] + list(range(2,11)) + \"J,Q,K\".split(\",\")\n",
    "card_values = list(range(1,11)) + [10]*3\n",
    "\n",
    "cards = []\n",
    "for suit in suits:\n",
    "    cards.extend(str(num) + \"_\" + suit for num in card_numbers)\n",
    "\n",
    "deck = pd.Series(card_values*4, cards)\n",
    "deck.sample(5)\n"
   ]
  },
  {
   "cell_type": "code",
   "execution_count": 13,
   "metadata": {},
   "outputs": [
    {
     "data": {
      "text/plain": [
       "C  9_C     9\n",
       "   J_C    10\n",
       "D  7_D     7\n",
       "   Q_D    10\n",
       "H  K_H    10\n",
       "   A_H     1\n",
       "S  6_S     6\n",
       "   2_S     2\n",
       "dtype: int64"
      ]
     },
     "execution_count": 13,
     "metadata": {},
     "output_type": "execute_result"
    }
   ],
   "source": [
    "def get_suit(card):\n",
    "    return card[-1]\n",
    "\n",
    "def draw(cards, size=2):\n",
    "    return cards.sample(size)\n",
    "\n",
    "deck.groupby(get_suit).apply(draw)"
   ]
  },
  {
   "cell_type": "markdown",
   "metadata": {},
   "source": [
    "### Groupwise Weighted Average"
   ]
  },
  {
   "cell_type": "code",
   "execution_count": 3,
   "metadata": {},
   "outputs": [
    {
     "data": {
      "text/plain": [
       "category\n",
       "a   -0.309472\n",
       "b   -0.261428\n",
       "c    0.218933\n",
       "d    0.156017\n",
       "dtype: float64"
      ]
     },
     "execution_count": 3,
     "metadata": {},
     "output_type": "execute_result"
    }
   ],
   "source": [
    "import numpy as np\n",
    "import pandas as pd\n",
    "\n",
    "data = {\n",
    "    \"category\": np.random.choice(list(\"abcd\"), 100),\n",
    "    \"value\": np.random.randn(100),\n",
    "    \"weight\": np.random.rand(100)\n",
    "}\n",
    "\n",
    "df_data = pd.DataFrame(data)\n",
    "grouped = df_data.groupby(\"category\")\n",
    "\n",
    "weighted_average = lambda g: np.average(g[\"value\"], weights=g[\"weight\"])\n",
    "\n",
    "grouped.apply(weighted_average)"
   ]
  },
  {
   "cell_type": "markdown",
   "metadata": {},
   "source": [
    "### Group Wise Correlation"
   ]
  },
  {
   "cell_type": "code",
   "execution_count": 22,
   "metadata": {},
   "outputs": [
    {
     "data": {
      "text/html": [
       "<div>\n",
       "<style scoped>\n",
       "    .dataframe tbody tr th:only-of-type {\n",
       "        vertical-align: middle;\n",
       "    }\n",
       "\n",
       "    .dataframe tbody tr th {\n",
       "        vertical-align: top;\n",
       "    }\n",
       "\n",
       "    .dataframe thead th {\n",
       "        text-align: right;\n",
       "    }\n",
       "</style>\n",
       "<table border=\"1\" class=\"dataframe\">\n",
       "  <thead>\n",
       "    <tr style=\"text-align: right;\">\n",
       "      <th></th>\n",
       "      <th>AAPL</th>\n",
       "      <th>IBM</th>\n",
       "      <th>MSFT</th>\n",
       "      <th>GOOG</th>\n",
       "    </tr>\n",
       "    <tr>\n",
       "      <th>Date</th>\n",
       "      <th></th>\n",
       "      <th></th>\n",
       "      <th></th>\n",
       "      <th></th>\n",
       "    </tr>\n",
       "  </thead>\n",
       "  <tbody>\n",
       "    <tr>\n",
       "      <th>2009-12-31</th>\n",
       "      <td>30.104286</td>\n",
       "      <td>130.899994</td>\n",
       "      <td>30.480000</td>\n",
       "      <td>307.986847</td>\n",
       "    </tr>\n",
       "    <tr>\n",
       "      <th>2010-01-04</th>\n",
       "      <td>30.572857</td>\n",
       "      <td>132.449997</td>\n",
       "      <td>30.950001</td>\n",
       "      <td>311.349976</td>\n",
       "    </tr>\n",
       "    <tr>\n",
       "      <th>2010-01-05</th>\n",
       "      <td>30.625713</td>\n",
       "      <td>130.850006</td>\n",
       "      <td>30.959999</td>\n",
       "      <td>309.978882</td>\n",
       "    </tr>\n",
       "    <tr>\n",
       "      <th>2010-01-06</th>\n",
       "      <td>30.138571</td>\n",
       "      <td>130.000000</td>\n",
       "      <td>30.770000</td>\n",
       "      <td>302.164703</td>\n",
       "    </tr>\n",
       "    <tr>\n",
       "      <th>2010-01-07</th>\n",
       "      <td>30.082857</td>\n",
       "      <td>129.550003</td>\n",
       "      <td>30.450001</td>\n",
       "      <td>295.130463</td>\n",
       "    </tr>\n",
       "  </tbody>\n",
       "</table>\n",
       "</div>"
      ],
      "text/plain": [
       "                 AAPL         IBM       MSFT        GOOG\n",
       "Date                                                    \n",
       "2009-12-31  30.104286  130.899994  30.480000  307.986847\n",
       "2010-01-04  30.572857  132.449997  30.950001  311.349976\n",
       "2010-01-05  30.625713  130.850006  30.959999  309.978882\n",
       "2010-01-06  30.138571  130.000000  30.770000  302.164703\n",
       "2010-01-07  30.082857  129.550003  30.450001  295.130463"
      ]
     },
     "execution_count": 22,
     "metadata": {},
     "output_type": "execute_result"
    }
   ],
   "source": [
    "from pandas_datareader import data as pdata\n",
    "stock_data = {ticker: pdata.get_data_yahoo(ticker) for ticker in ['AAPL', 'IBM', 'MSFT', 'GOOG']}\n",
    "df_stock_data = pd.DataFrame({ticker:a[\"Close\"] for ticker,a in stock_data.items()})\n",
    "df_stock_data.head()"
   ]
  },
  {
   "cell_type": "code",
   "execution_count": 33,
   "metadata": {},
   "outputs": [
    {
     "data": {
      "text/html": [
       "<div>\n",
       "<style scoped>\n",
       "    .dataframe tbody tr th:only-of-type {\n",
       "        vertical-align: middle;\n",
       "    }\n",
       "\n",
       "    .dataframe tbody tr th {\n",
       "        vertical-align: top;\n",
       "    }\n",
       "\n",
       "    .dataframe thead th {\n",
       "        text-align: right;\n",
       "    }\n",
       "</style>\n",
       "<table border=\"1\" class=\"dataframe\">\n",
       "  <thead>\n",
       "    <tr style=\"text-align: right;\">\n",
       "      <th></th>\n",
       "      <th>AAPL</th>\n",
       "      <th>IBM</th>\n",
       "      <th>MSFT</th>\n",
       "      <th>GOOG</th>\n",
       "    </tr>\n",
       "  </thead>\n",
       "  <tbody>\n",
       "    <tr>\n",
       "      <th>2010</th>\n",
       "      <td>0.571708</td>\n",
       "      <td>0.669974</td>\n",
       "      <td>1.0</td>\n",
       "      <td>0.521277</td>\n",
       "    </tr>\n",
       "    <tr>\n",
       "      <th>2011</th>\n",
       "      <td>0.575583</td>\n",
       "      <td>0.682193</td>\n",
       "      <td>1.0</td>\n",
       "      <td>0.616243</td>\n",
       "    </tr>\n",
       "    <tr>\n",
       "      <th>2012</th>\n",
       "      <td>0.277431</td>\n",
       "      <td>0.572112</td>\n",
       "      <td>1.0</td>\n",
       "      <td>0.204794</td>\n",
       "    </tr>\n",
       "    <tr>\n",
       "      <th>2013</th>\n",
       "      <td>0.083793</td>\n",
       "      <td>0.184057</td>\n",
       "      <td>1.0</td>\n",
       "      <td>0.231380</td>\n",
       "    </tr>\n",
       "    <tr>\n",
       "      <th>2014</th>\n",
       "      <td>0.228143</td>\n",
       "      <td>0.385934</td>\n",
       "      <td>1.0</td>\n",
       "      <td>0.469504</td>\n",
       "    </tr>\n",
       "    <tr>\n",
       "      <th>2015</th>\n",
       "      <td>0.522070</td>\n",
       "      <td>0.550173</td>\n",
       "      <td>1.0</td>\n",
       "      <td>0.521514</td>\n",
       "    </tr>\n",
       "    <tr>\n",
       "      <th>2016</th>\n",
       "      <td>0.488847</td>\n",
       "      <td>0.435455</td>\n",
       "      <td>1.0</td>\n",
       "      <td>0.697408</td>\n",
       "    </tr>\n",
       "    <tr>\n",
       "      <th>2017</th>\n",
       "      <td>0.438259</td>\n",
       "      <td>0.064651</td>\n",
       "      <td>1.0</td>\n",
       "      <td>0.618830</td>\n",
       "    </tr>\n",
       "    <tr>\n",
       "      <th>2018</th>\n",
       "      <td>0.695287</td>\n",
       "      <td>0.592144</td>\n",
       "      <td>1.0</td>\n",
       "      <td>0.822209</td>\n",
       "    </tr>\n",
       "    <tr>\n",
       "      <th>2019</th>\n",
       "      <td>0.754762</td>\n",
       "      <td>0.516972</td>\n",
       "      <td>1.0</td>\n",
       "      <td>0.706914</td>\n",
       "    </tr>\n",
       "  </tbody>\n",
       "</table>\n",
       "</div>"
      ],
      "text/plain": [
       "          AAPL       IBM  MSFT      GOOG\n",
       "2010  0.571708  0.669974   1.0  0.521277\n",
       "2011  0.575583  0.682193   1.0  0.616243\n",
       "2012  0.277431  0.572112   1.0  0.204794\n",
       "2013  0.083793  0.184057   1.0  0.231380\n",
       "2014  0.228143  0.385934   1.0  0.469504\n",
       "2015  0.522070  0.550173   1.0  0.521514\n",
       "2016  0.488847  0.435455   1.0  0.697408\n",
       "2017  0.438259  0.064651   1.0  0.618830\n",
       "2018  0.695287  0.592144   1.0  0.822209\n",
       "2019  0.754762  0.516972   1.0  0.706914"
      ]
     },
     "execution_count": 33,
     "metadata": {},
     "output_type": "execute_result"
    }
   ],
   "source": [
    "def correlation(g, col=\"MSFT\"):\n",
    "    return g.corrwith(g[col])\n",
    "\n",
    "get_year = lambda x: x.year\n",
    "    \n",
    "correlation(df_stock_data, \"AAPL\")\n",
    "pct_change = df_stock_data.pct_change().dropna()\n",
    "grouped_by_year = pct_change.groupby(get_year)\n",
    "grouped_by_year.apply(correlation)"
   ]
  },
  {
   "cell_type": "markdown",
   "metadata": {},
   "source": [
    "### Regress"
   ]
  },
  {
   "cell_type": "code",
   "execution_count": 37,
   "metadata": {},
   "outputs": [
    {
     "data": {
      "text/html": [
       "<div>\n",
       "<style scoped>\n",
       "    .dataframe tbody tr th:only-of-type {\n",
       "        vertical-align: middle;\n",
       "    }\n",
       "\n",
       "    .dataframe tbody tr th {\n",
       "        vertical-align: top;\n",
       "    }\n",
       "\n",
       "    .dataframe thead th {\n",
       "        text-align: right;\n",
       "    }\n",
       "</style>\n",
       "<table border=\"1\" class=\"dataframe\">\n",
       "  <thead>\n",
       "    <tr style=\"text-align: right;\">\n",
       "      <th></th>\n",
       "      <th></th>\n",
       "      <th>0</th>\n",
       "      <th>1</th>\n",
       "    </tr>\n",
       "  </thead>\n",
       "  <tbody>\n",
       "    <tr>\n",
       "      <th>2010</th>\n",
       "      <th>AAPL</th>\n",
       "      <td>0.461871</td>\n",
       "      <td>6.396786</td>\n",
       "    </tr>\n",
       "    <tr>\n",
       "      <th>2011</th>\n",
       "      <th>AAPL</th>\n",
       "      <td>0.511457</td>\n",
       "      <td>3.801129</td>\n",
       "    </tr>\n",
       "    <tr>\n",
       "      <th>2012</th>\n",
       "      <th>AAPL</th>\n",
       "      <td>0.197188</td>\n",
       "      <td>3.649948</td>\n",
       "    </tr>\n",
       "    <tr>\n",
       "      <th>2013</th>\n",
       "      <th>AAPL</th>\n",
       "      <td>0.074893</td>\n",
       "      <td>1.157898</td>\n",
       "    </tr>\n",
       "    <tr>\n",
       "      <th>2014</th>\n",
       "      <th>AAPL</th>\n",
       "      <td>0.204650</td>\n",
       "      <td>7.269445</td>\n",
       "    </tr>\n",
       "    <tr>\n",
       "      <th>2015</th>\n",
       "      <th>AAPL</th>\n",
       "      <td>0.551677</td>\n",
       "      <td>-0.166938</td>\n",
       "    </tr>\n",
       "    <tr>\n",
       "      <th>2016</th>\n",
       "      <th>AAPL</th>\n",
       "      <td>0.475362</td>\n",
       "      <td>2.256277</td>\n",
       "    </tr>\n",
       "    <tr>\n",
       "      <th>2017</th>\n",
       "      <th>AAPL</th>\n",
       "      <td>0.376087</td>\n",
       "      <td>12.491371</td>\n",
       "    </tr>\n",
       "    <tr>\n",
       "      <th>2018</th>\n",
       "      <th>AAPL</th>\n",
       "      <td>0.683949</td>\n",
       "      <td>-0.356881</td>\n",
       "    </tr>\n",
       "    <tr>\n",
       "      <th>2019</th>\n",
       "      <th>AAPL</th>\n",
       "      <td>0.539258</td>\n",
       "      <td>7.223102</td>\n",
       "    </tr>\n",
       "  </tbody>\n",
       "</table>\n",
       "</div>"
      ],
      "text/plain": [
       "                  0          1\n",
       "2010 AAPL  0.461871   6.396786\n",
       "2011 AAPL  0.511457   3.801129\n",
       "2012 AAPL  0.197188   3.649948\n",
       "2013 AAPL  0.074893   1.157898\n",
       "2014 AAPL  0.204650   7.269445\n",
       "2015 AAPL  0.551677  -0.166938\n",
       "2016 AAPL  0.475362   2.256277\n",
       "2017 AAPL  0.376087  12.491371\n",
       "2018 AAPL  0.683949  -0.356881\n",
       "2019 AAPL  0.539258   7.223102"
      ]
     },
     "execution_count": 37,
     "metadata": {},
     "output_type": "execute_result"
    }
   ],
   "source": [
    "import statsmodels.api as sm\n",
    "def regress(data, yvar_col, xvar_cols):\n",
    "    y = data[yvar_col]\n",
    "    x = data[xvar_cols]\n",
    "    x['intercept'] = 1.\n",
    "    result = sm.OLS(x,y).fit()\n",
    "    return result.params\n",
    "\n",
    "grouped_by_year.apply(regress, \"AAPL\", [\"MSFT\"])\n",
    "    "
   ]
  },
  {
   "cell_type": "code",
   "execution_count": null,
   "metadata": {},
   "outputs": [],
   "source": []
  }
 ],
 "metadata": {
  "kernelspec": {
   "display_name": "Python 3",
   "language": "python",
   "name": "python3"
  },
  "language_info": {
   "codemirror_mode": {
    "name": "ipython",
    "version": 3
   },
   "file_extension": ".py",
   "mimetype": "text/x-python",
   "name": "python",
   "nbconvert_exporter": "python",
   "pygments_lexer": "ipython3",
   "version": "3.6.5"
  }
 },
 "nbformat": 4,
 "nbformat_minor": 2
}
