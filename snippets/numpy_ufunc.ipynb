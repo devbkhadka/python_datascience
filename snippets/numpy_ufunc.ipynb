{
 "cells": [
  {
   "cell_type": "markdown",
   "metadata": {},
   "source": [
    "### Unary Universal Function (ufunc)\n",
    "- function that takes and array and perform operation array and return an array (sometimes 2 or more)\n",
    "- must of these function also have corresponding operator"
   ]
  },
  {
   "cell_type": "code",
   "execution_count": 10,
   "metadata": {},
   "outputs": [
    {
     "name": "stdout",
     "output_type": "stream",
     "text": [
      "np.square(arr)\n",
      " [[  0   1   4   9]\n",
      " [ 16  25  36  49]\n",
      " [ 64  81 100 121]]\n",
      "np.modf(new_arr)\n",
      " [[0. 0. 1. 1.]\n",
      " [2. 2. 3. 3.]\n",
      " [4. 4. 5. 5.]] \n",
      "\n",
      "\n",
      " [[0.  0.5 0.  0.5]\n",
      " [0.  0.5 0.  0.5]\n",
      " [0.  0.5 0.  0.5]]\n"
     ]
    }
   ],
   "source": [
    "import numpy as np\n",
    "arr = np.arange(12).reshape(3,4)\n",
    "## unary ufunc, eg: sqrt, abs, celi, rint, modf etc\n",
    "print('np.square(arr)\\n', np.square(arr))\n",
    "new_arr = arr/2\n",
    "arr_fraction_part, arr_int_part  = np.modf(new_arr)\n",
    "print('np.modf(new_arr)\\n', arr_int_part, '\\n\\n\\n', arr_fraction_part)\n",
    "\n"
   ]
  },
  {
   "cell_type": "markdown",
   "metadata": {},
   "source": [
    "### Binary ufuncs"
   ]
  },
  {
   "cell_type": "code",
   "execution_count": 24,
   "metadata": {},
   "outputs": [
    {
     "name": "stdout",
     "output_type": "stream",
     "text": [
      "[[ 1  2  3  4]\n",
      " [ 5  6  7  8]\n",
      " [ 9 10 11 12]] \n",
      " [[ 8  9 10 11]\n",
      " [12 13 14 15]\n",
      " [16 17 18 19]]\n"
     ]
    },
    {
     "data": {
      "text/plain": [
       "array([[0, 1, 1, 3],\n",
       "       [2, 1, 0, 7],\n",
       "       [7, 7, 7, 7]])"
      ]
     },
     "execution_count": 24,
     "metadata": {},
     "output_type": "execute_result"
    }
   ],
   "source": [
    "arr1 = np.arange(1,13).reshape(3,4)\n",
    "arr2 = np.arange(8,20).reshape(3,4)\n",
    "print(arr1, '\\n',arr2)\n",
    "np.mod(arr2,  arr1)\n",
    "arr2%arr1\n",
    "\n"
   ]
  },
  {
   "cell_type": "code",
   "execution_count": null,
   "metadata": {},
   "outputs": [],
   "source": []
  }
 ],
 "metadata": {
  "kernelspec": {
   "display_name": "Python 3",
   "language": "python",
   "name": "python3"
  },
  "language_info": {
   "codemirror_mode": {
    "name": "ipython",
    "version": 3
   },
   "file_extension": ".py",
   "mimetype": "text/x-python",
   "name": "python",
   "nbconvert_exporter": "python",
   "pygments_lexer": "ipython3",
   "version": "3.6.5"
  }
 },
 "nbformat": 4,
 "nbformat_minor": 2
}
