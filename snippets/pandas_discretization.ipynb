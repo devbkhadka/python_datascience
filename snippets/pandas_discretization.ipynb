{
 "cells": [
  {
   "cell_type": "markdown",
   "metadata": {},
   "source": [
    "### Discretization\n",
    "- Categorizing continious data in discrete bins"
   ]
  },
  {
   "cell_type": "code",
   "execution_count": 14,
   "metadata": {},
   "outputs": [
    {
     "data": {
      "text/plain": [
       "[(35, 60], (60, 100], (35, 60], (35, 60], (35, 60], ..., (60, 100], (18, 25], (60, 100], (35, 60], (35, 60]]\n",
       "Length: 161\n",
       "Categories (4, interval[int64]): [(18, 25] < (25, 35] < (35, 60] < (60, 100]]"
      ]
     },
     "execution_count": 14,
     "metadata": {},
     "output_type": "execute_result"
    }
   ],
   "source": [
    "import numpy as np\n",
    "import pandas as pd\n",
    "\n",
    "# age data with mean age 35 and std dev 20\n",
    "age_data = 20*np.random.randn(200) + 35\n",
    "age_data = age_data[age_data>18] ## only take ages>18\n",
    "\n",
    "bins = [18,25,35,60, 100]\n",
    "cats = pd.cut(age_data, bins)\n",
    "\n",
    "cats\n"
   ]
  },
  {
   "cell_type": "code",
   "execution_count": 19,
   "metadata": {},
   "outputs": [
    {
     "data": {
      "text/plain": [
       "[[35, 60), [60, 100), [35, 60), [35, 60), [35, 60), ..., [60, 100), [18, 25), [60, 100), [35, 60), [35, 60)]\n",
       "Length: 161\n",
       "Categories (4, interval[int64]): [[18, 25) < [25, 35) < [35, 60) < [60, 100)]"
      ]
     },
     "execution_count": 19,
     "metadata": {},
     "output_type": "execute_result"
    }
   ],
   "source": [
    "cats = pd.cut(age_data, bins, right=False)\n",
    "cats ## range closed in right"
   ]
  },
  {
   "cell_type": "code",
   "execution_count": 15,
   "metadata": {},
   "outputs": [
    {
     "data": {
      "text/plain": [
       "array([2, 3, 2, 2, 2, 0, 2, 3, 2, 3, 0, 1, 0, 2, 3, 2, 2, 2, 1, 1, 2, 2,\n",
       "       2, 3, 2, 0, 1, 1, 1, 0, 2, 1, 2, 0, 2, 2, 2, 2, 2, 1, 2, 2, 1, 2,\n",
       "       2, 2, 2, 3, 3, 2, 1, 2, 2, 0, 2, 2, 1, 2, 1, 3, 2, 1, 2, 3, 1, 1,\n",
       "       2, 2, 0, 1, 1, 1, 2, 2, 1, 1, 3, 3, 1, 3, 2, 3, 2, 0, 2, 0, 2, 2,\n",
       "       2, 1, 3, 1, 2, 1, 0, 3, 0, 2, 3, 2, 2, 3, 3, 2, 2, 1, 2, 2, 2, 2,\n",
       "       0, 2, 0, 1, 2, 3, 0, 0, 2, 1, 1, 3, 0, 0, 1, 1, 0, 2, 1, 0, 2, 1,\n",
       "       2, 2, 2, 2, 2, 1, 2, 2, 2, 2, 2, 2, 1, 0, 0, 1, 2, 2, 3, 1, 2, 2,\n",
       "       2, 3, 3, 0, 3, 2, 2], dtype=int8)"
      ]
     },
     "execution_count": 15,
     "metadata": {},
     "output_type": "execute_result"
    }
   ],
   "source": [
    "cats.codes"
   ]
  },
  {
   "cell_type": "code",
   "execution_count": 16,
   "metadata": {},
   "outputs": [
    {
     "data": {
      "text/plain": [
       "IntervalIndex([(18, 25], (25, 35], (35, 60], (60, 100]]\n",
       "              closed='right',\n",
       "              dtype='interval[int64]')"
      ]
     },
     "execution_count": 16,
     "metadata": {},
     "output_type": "execute_result"
    }
   ],
   "source": [
    "cats.categories"
   ]
  },
  {
   "cell_type": "markdown",
   "metadata": {},
   "source": [
    "### Named Categories"
   ]
  },
  {
   "cell_type": "code",
   "execution_count": 22,
   "metadata": {},
   "outputs": [
    {
     "data": {
      "text/plain": [
       "[middle-aged, old, middle-aged, middle-aged, middle-aged, ..., old, young, old, middle-aged, middle-aged]\n",
       "Length: 161\n",
       "Categories (4, object): [young < young-adult < middle-aged < old]"
      ]
     },
     "execution_count": 22,
     "metadata": {},
     "output_type": "execute_result"
    }
   ],
   "source": [
    "pd.cut(age_data, bins, labels=['young', 'young-adult', 'middle-aged', 'old'])"
   ]
  },
  {
   "cell_type": "markdown",
   "metadata": {},
   "source": [
    "### Cut in Equal Intervals"
   ]
  },
  {
   "cell_type": "code",
   "execution_count": 24,
   "metadata": {},
   "outputs": [
    {
     "data": {
      "text/plain": [
       "[(51.021, 67.414], (67.414, 83.806], (34.628, 51.021], (34.628, 51.021], (34.628, 51.021], ..., (51.021, 67.414], (18.17, 34.628], (67.414, 83.806], (34.628, 51.021], (34.628, 51.021]]\n",
       "Length: 161\n",
       "Categories (4, interval[float64]): [(18.17, 34.628] < (34.628, 51.021] < (51.021, 67.414] < (67.414, 83.806]]"
      ]
     },
     "execution_count": 24,
     "metadata": {},
     "output_type": "execute_result"
    }
   ],
   "source": [
    "cats = pd.cut(age_data, 4)\n",
    "cats"
   ]
  },
  {
   "cell_type": "code",
   "execution_count": 25,
   "metadata": {},
   "outputs": [
    {
     "data": {
      "text/plain": [
       "(34.628, 51.021]    62\n",
       "(18.17, 34.628]     56\n",
       "(51.021, 67.414]    34\n",
       "(67.414, 83.806]     9\n",
       "dtype: int64"
      ]
     },
     "execution_count": 25,
     "metadata": {},
     "output_type": "execute_result"
    }
   ],
   "source": [
    "pd.value_counts(cats)"
   ]
  },
  {
   "cell_type": "markdown",
   "metadata": {},
   "source": [
    "### Cut in Quantiles (qcut)"
   ]
  },
  {
   "cell_type": "code",
   "execution_count": 27,
   "metadata": {},
   "outputs": [
    {
     "data": {
      "text/plain": [
       "[(41.694, 52.103], (52.103, 83.806], (41.694, 52.103], (41.694, 52.103], (30.523, 41.694], ..., (52.103, 83.806], (18.233999999999998, 30.523], (52.103, 83.806], (41.694, 52.103], (41.694, 52.103]]\n",
       "Length: 161\n",
       "Categories (4, interval[float64]): [(18.233999999999998, 30.523] < (30.523, 41.694] < (41.694, 52.103] < (52.103, 83.806]]"
      ]
     },
     "execution_count": 27,
     "metadata": {},
     "output_type": "execute_result"
    }
   ],
   "source": [
    "cats = pd.qcut(age_data, 4)\n",
    "cats"
   ]
  },
  {
   "cell_type": "code",
   "execution_count": 28,
   "metadata": {},
   "outputs": [
    {
     "data": {
      "text/plain": [
       "(18.233999999999998, 30.523]    41\n",
       "(52.103, 83.806]                40\n",
       "(41.694, 52.103]                40\n",
       "(30.523, 41.694]                40\n",
       "dtype: int64"
      ]
     },
     "execution_count": 28,
     "metadata": {},
     "output_type": "execute_result"
    }
   ],
   "source": [
    "pd.value_counts(cats)"
   ]
  },
  {
   "cell_type": "markdown",
   "metadata": {},
   "source": [
    "#### Custom Quantiles"
   ]
  },
  {
   "cell_type": "code",
   "execution_count": 29,
   "metadata": {},
   "outputs": [
    {
     "data": {
      "text/plain": [
       "[(27.774, 55.325], (55.325, 83.806], (27.774, 55.325], (27.774, 55.325], (27.774, 55.325], ..., (55.325, 83.806], (18.233999999999998, 27.774], (55.325, 83.806], (27.774, 55.325], (27.774, 55.325]]\n",
       "Length: 161\n",
       "Categories (3, interval[float64]): [(18.233999999999998, 27.774] < (27.774, 55.325] < (55.325, 83.806]]"
      ]
     },
     "execution_count": 29,
     "metadata": {},
     "output_type": "execute_result"
    }
   ],
   "source": [
    "cats = pd.qcut(age_data, [0,0.2,0.8,1])\n",
    "cats"
   ]
  },
  {
   "cell_type": "code",
   "execution_count": 30,
   "metadata": {},
   "outputs": [
    {
     "data": {
      "text/plain": [
       "(27.774, 55.325]                96\n",
       "(18.233999999999998, 27.774]    33\n",
       "(55.325, 83.806]                32\n",
       "dtype: int64"
      ]
     },
     "execution_count": 30,
     "metadata": {},
     "output_type": "execute_result"
    }
   ],
   "source": [
    "pd.value_counts(cats)"
   ]
  },
  {
   "cell_type": "code",
   "execution_count": null,
   "metadata": {},
   "outputs": [],
   "source": []
  }
 ],
 "metadata": {
  "kernelspec": {
   "display_name": "Python 3",
   "language": "python",
   "name": "python3"
  },
  "language_info": {
   "codemirror_mode": {
    "name": "ipython",
    "version": 3
   },
   "file_extension": ".py",
   "mimetype": "text/x-python",
   "name": "python",
   "nbconvert_exporter": "python",
   "pygments_lexer": "ipython3",
   "version": "3.6.5"
  }
 },
 "nbformat": 4,
 "nbformat_minor": 2
}
