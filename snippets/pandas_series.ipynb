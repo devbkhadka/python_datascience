{
 "cells": [
  {
   "cell_type": "markdown",
   "metadata": {},
   "source": [
    "### Panda Series\n",
    "- Panda series are array of key and value pair"
   ]
  },
  {
   "cell_type": "code",
   "execution_count": 18,
   "metadata": {},
   "outputs": [
    {
     "name": "stdout",
     "output_type": "stream",
     "text": [
      "RangeIndex(start=0, stop=5, step=1)\n",
      "[  2  -1   5   3 -11]\n",
      "a     2\n",
      "b    -1\n",
      "d     5\n",
      "e     3\n",
      "c   -11\n",
      "dtype: int64\n",
      "series['a'] 2\n",
      "series[['b','c','d']]\n",
      " b    -1\n",
      "c   -11\n",
      "d     5\n",
      "dtype: int64\n"
     ]
    }
   ],
   "source": [
    "import pandas as pd\n",
    "series = pd.Series([2,-1,5,3,-11])\n",
    "print(series.index)\n",
    "print(series.values)\n",
    "\n",
    "series.index = ['a', 'b','d', 'e', 'c']\n",
    "print(series)\n",
    "print(\"series['a']\", series['a'])\n",
    "print(\"series[['b','c','d']]\\n\", series[['b','c','d']])\n"
   ]
  },
  {
   "cell_type": "markdown",
   "metadata": {},
   "source": [
    "### Indexing Panda Series"
   ]
  },
  {
   "cell_type": "code",
   "execution_count": 40,
   "metadata": {},
   "outputs": [
    {
     "name": "stdout",
     "output_type": "stream",
     "text": [
      "galaxy s10    1.0\n",
      "iphone 6      4.5\n",
      "one plus 5    3.7\n",
      "Sony          2.5\n",
      "xiomi         2.8\n",
      "dtype: float64\n",
      "\n",
      "ratings[2] 3.7\n",
      "\n",
      "ratings['iphone 6'] 4.5\n",
      "\n",
      "ratings[['galaxy s10', 'Sony']]\n",
      " galaxy s10    1.0\n",
      "Sony          2.5\n",
      "dtype: float64\n",
      "\n",
      "ratings[ratings>3]\n",
      " iphone 6      4.5\n",
      "one plus 5    3.7\n",
      "dtype: float64\n",
      "\n",
      "ratings[[True, False, False, True, True]]\n",
      " galaxy s10    1.0\n",
      "Sony          2.5\n",
      "xiomi         2.8\n",
      "dtype: float64\n",
      "ratings[2:]\n",
      " one plus 5    3.7\n",
      "Sony          2.5\n",
      "xiomi         2.8\n",
      "dtype: float64\n"
     ]
    }
   ],
   "source": [
    "ratings = pd.Series([1, 4.5, 3.7, 2.5, 2.8], ['galaxy s10', 'iphone 6', 'one plus 5', 'Sony', 'xiomi'])\n",
    "print(ratings)\n",
    "# indexing by position\n",
    "print('\\nratings[2]', ratings[2])\n",
    "# indexing by key\n",
    "print(\"\\nratings['iphone 6']\",ratings['iphone 6'])\n",
    "# indexing by key array\n",
    "print(\"\\nratings[['galaxy s10', 'Sony']]\\n\", ratings[['galaxy s10', 'Sony']])\n",
    "# boolean indexing\n",
    "print('\\nratings[ratings>3]\\n', ratings[ratings>3])\n",
    "print('\\nratings[[True, False, False, True, True]]\\n',ratings[[True, False, False, True, True]])\n",
    "# range indexing\n",
    "print('ratings[2:]\\n', ratings[2:])"
   ]
  },
  {
   "cell_type": "markdown",
   "metadata": {},
   "source": [
    "### Arithmetic Operations"
   ]
  },
  {
   "cell_type": "code",
   "execution_count": 57,
   "metadata": {},
   "outputs": [
    {
     "name": "stdout",
     "output_type": "stream",
     "text": [
      "Gel             NaN\n",
      "Oat Meal        5.0\n",
      "Salt            NaN\n",
      "Soap           11.0\n",
      "Tooth Paste     9.0\n",
      "dtype: float64\n"
     ]
    }
   ],
   "source": [
    "order1 = pd.Series({\"Tooth Paste\": 2, \"Salt\": 1, \"Soap\": 4, \"Oat Meal\":1}, name=\"Ram's Order\")\n",
    "order2 = pd.Series ({\"Tooth Paste\":5, \"Soap\":3, \"Oat Meal\": 3, \"Gel\":3}, name=\"Shyam's Order\")\n",
    "\n",
    "print(2*order1 + order2)\n",
    "order1.index.name\n"
   ]
  },
  {
   "cell_type": "code",
   "execution_count": 55,
   "metadata": {},
   "outputs": [],
   "source": [
    "pd.Series?"
   ]
  },
  {
   "cell_type": "code",
   "execution_count": null,
   "metadata": {},
   "outputs": [],
   "source": []
  }
 ],
 "metadata": {
  "kernelspec": {
   "display_name": "Python 3",
   "language": "python",
   "name": "python3"
  },
  "language_info": {
   "codemirror_mode": {
    "name": "ipython",
    "version": 3
   },
   "file_extension": ".py",
   "mimetype": "text/x-python",
   "name": "python",
   "nbconvert_exporter": "python",
   "pygments_lexer": "ipython3",
   "version": "3.6.5"
  }
 },
 "nbformat": 4,
 "nbformat_minor": 2
}
