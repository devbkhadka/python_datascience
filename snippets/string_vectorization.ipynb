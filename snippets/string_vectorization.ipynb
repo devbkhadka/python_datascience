{
 "cells": [
  {
   "cell_type": "code",
   "execution_count": 16,
   "metadata": {},
   "outputs": [
    {
     "data": {
      "text/plain": [
       "id\n",
       "1      Animation|Children's|Comedy\n",
       "2     Adventure|Children's|Fantasy\n",
       "3                   Comedy|Romance\n",
       "4                     Comedy|Drama\n",
       "5                           Comedy\n",
       "6            Action|Crime|Thriller\n",
       "7                   Comedy|Romance\n",
       "8             Adventure|Children's\n",
       "9                           Action\n",
       "10       Action|Adventure|Thriller\n",
       "Name: genre, dtype: object"
      ]
     },
     "execution_count": 16,
     "metadata": {},
     "output_type": "execute_result"
    }
   ],
   "source": [
    "import pandas as pd\n",
    "\n",
    "movies = pd.read_table(\"data/movies/movies.dat\", sep=\"::\", engine='python', header=None, index_col=0, \n",
    "              names=[\"id\", \"title\", \"genre\"], nrows=100)\n",
    "\n",
    "genres = movies['genre']\n",
    "genres.head(10)"
   ]
  },
  {
   "cell_type": "code",
   "execution_count": 19,
   "metadata": {},
   "outputs": [
    {
     "data": {
      "text/plain": [
       "id\n",
       "1     False\n",
       "2     False\n",
       "3     False\n",
       "4     False\n",
       "5     False\n",
       "6     False\n",
       "7     False\n",
       "8     False\n",
       "9     False\n",
       "10    False\n",
       "Name: genre, dtype: bool"
      ]
     },
     "execution_count": 19,
     "metadata": {},
     "output_type": "execute_result"
    }
   ],
   "source": [
    "## str attribute of series provides array oriented methods for strings\n",
    "genres.str.contains('Horror').head(10)"
   ]
  },
  {
   "cell_type": "code",
   "execution_count": 35,
   "metadata": {},
   "outputs": [
    {
     "data": {
      "text/plain": [
       "id\n",
       "1      True\n",
       "2      True\n",
       "3      True\n",
       "4      True\n",
       "5     False\n",
       "6      True\n",
       "7      True\n",
       "8      True\n",
       "9     False\n",
       "10     True\n",
       "Name: genre, dtype: bool"
      ]
     },
     "execution_count": 35,
     "metadata": {},
     "output_type": "execute_result"
    }
   ],
   "source": [
    "genres.str.match(r'.*\\|.*').head(10)"
   ]
  },
  {
   "cell_type": "code",
   "execution_count": 31,
   "metadata": {},
   "outputs": [
    {
     "data": {
      "text/plain": [
       "id\n",
       "1      [Animation, Children's, Comedy]\n",
       "2     [Adventure, Children's, Fantasy]\n",
       "3                    [Comedy, Romance]\n",
       "4                      [Comedy, Drama]\n",
       "5                             [Comedy]\n",
       "6            [Action, Crime, Thriller]\n",
       "7                    [Comedy, Romance]\n",
       "8              [Adventure, Children's]\n",
       "9                             [Action]\n",
       "10       [Action, Adventure, Thriller]\n",
       "Name: genre, dtype: object"
      ]
     },
     "execution_count": 31,
     "metadata": {},
     "output_type": "execute_result"
    }
   ],
   "source": [
    "genres.str.split(r'\\|').head(10)"
   ]
  },
  {
   "cell_type": "code",
   "execution_count": 38,
   "metadata": {},
   "outputs": [
    {
     "data": {
      "text/plain": [
       "id\n",
       "1     Anima\n",
       "2     Adven\n",
       "3     Comed\n",
       "4     Comed\n",
       "5     Comed\n",
       "6     Actio\n",
       "7     Comed\n",
       "8     Adven\n",
       "9     Actio\n",
       "10    Actio\n",
       "Name: genre, dtype: object"
      ]
     },
     "execution_count": 38,
     "metadata": {},
     "output_type": "execute_result"
    }
   ],
   "source": [
    "genres.str[:5].head(10)"
   ]
  },
  {
   "cell_type": "code",
   "execution_count": null,
   "metadata": {},
   "outputs": [],
   "source": []
  }
 ],
 "metadata": {
  "kernelspec": {
   "display_name": "Python 3",
   "language": "python",
   "name": "python3"
  },
  "language_info": {
   "codemirror_mode": {
    "name": "ipython",
    "version": 3
   },
   "file_extension": ".py",
   "mimetype": "text/x-python",
   "name": "python",
   "nbconvert_exporter": "python",
   "pygments_lexer": "ipython3",
   "version": "3.6.5"
  }
 },
 "nbformat": 4,
 "nbformat_minor": 2
}
