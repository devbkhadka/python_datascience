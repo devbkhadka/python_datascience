{
 "cells": [
  {
   "cell_type": "code",
   "execution_count": 19,
   "metadata": {},
   "outputs": [
    {
     "name": "stdout",
     "output_type": "stream",
     "text": [
      "[[7 9 8 6]\n",
      " [2 5 0 2]]\n",
      "np.unique(arr) [0 2 5 6 7 8 9]\n",
      "np.in1d(arr, [3,6,4])\n",
      " [False False False  True False False False False]\n",
      "np.intersect1d(arr, arr2)\n",
      " [0 5 9]\n",
      "np.setxor1d(arr, arr2)\n",
      " [2 3 6 7 8]\n"
     ]
    }
   ],
   "source": [
    "import numpy as np\n",
    "arr = np.random.choice(range(10), (2,4))\n",
    "arr2 = np.random.choice(range(10), (2,4))\n",
    "print(arr)\n",
    "print('np.unique(arr)', np.unique(arr)) ## find unique elements from array\n",
    "\n",
    "print('np.in1d(arr, [3,6,4])\\n', np.in1d(arr, [3,6,4])) ## check if each element of arr in [3,6,4]\n",
    "print('np.intersect1d(arr, arr2)\\n', np.intersect1d(arr, arr2))\n",
    "print('np.setxor1d(arr, arr2)\\n', np.setxor1d(arr, arr2))"
   ]
  },
  {
   "cell_type": "code",
   "execution_count": null,
   "metadata": {},
   "outputs": [],
   "source": []
  }
 ],
 "metadata": {
  "kernelspec": {
   "display_name": "Python 3",
   "language": "python",
   "name": "python3"
  },
  "language_info": {
   "codemirror_mode": {
    "name": "ipython",
    "version": 3
   },
   "file_extension": ".py",
   "mimetype": "text/x-python",
   "name": "python",
   "nbconvert_exporter": "python",
   "pygments_lexer": "ipython3",
   "version": "3.6.5"
  }
 },
 "nbformat": 4,
 "nbformat_minor": 2
}
