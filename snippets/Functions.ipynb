{
 "cells": [
  {
   "cell_type": "markdown",
   "metadata": {},
   "source": [
    "### Positional and keyword arguments\n",
    "- keyword arguments must follow positional argument\n",
    "- keyword arguments are usually used to set default value"
   ]
  },
  {
   "cell_type": "code",
   "execution_count": 16,
   "metadata": {},
   "outputs": [
    {
     "name": "stdout",
     "output_type": "stream",
     "text": [
      "10\n",
      "-10\n",
      "-10\n",
      "20\n",
      "20\n"
     ]
    }
   ],
   "source": [
    "def func(x, y, z=5):\n",
    "    return z*(y-x)\n",
    "\n",
    "print(func(2,4))\n",
    "print(func(y=2, x=4)) # positional params can also be sent using keword format in which case order are irrelevent\n",
    "print(func(z=5, y=2, x=4))\n",
    "print(func(2,4,10))\n",
    "print(func(2,y=4, z=10))"
   ]
  },
  {
   "cell_type": "markdown",
   "metadata": {},
   "source": [
    "### Followings will not work"
   ]
  },
  {
   "cell_type": "code",
   "execution_count": 14,
   "metadata": {},
   "outputs": [
    {
     "ename": "SyntaxError",
     "evalue": "positional argument follows keyword argument (<ipython-input-14-f20dbd8bcea7>, line 2)",
     "output_type": "error",
     "traceback": [
      "\u001b[0;36m  File \u001b[0;32m\"<ipython-input-14-f20dbd8bcea7>\"\u001b[0;36m, line \u001b[0;32m2\u001b[0m\n\u001b[0;31m    func(z=10,2,4)\u001b[0m\n\u001b[0m             ^\u001b[0m\n\u001b[0;31mSyntaxError\u001b[0m\u001b[0;31m:\u001b[0m positional argument follows keyword argument\n"
     ]
    }
   ],
   "source": [
    "func(2) # must provide all params with out default values\n",
    "func(z=10,2,4) # keyword argument must follow positional params"
   ]
  },
  {
   "cell_type": "markdown",
   "metadata": {},
   "source": [
    "### Lambda"
   ]
  },
  {
   "cell_type": "code",
   "execution_count": 18,
   "metadata": {},
   "outputs": [
    {
     "name": "stdout",
     "output_type": "stream",
     "text": [
      "[0, 1, 4, 9, 16, 25, 36, 49, 64, 81]\n"
     ]
    }
   ],
   "source": [
    "def custom_map(items, func):\n",
    "    return [func(item) for item in items]\n",
    "\n",
    "squares = custom_map(range(10), lambda x: x*x)\n",
    "print(squares)"
   ]
  },
  {
   "cell_type": "markdown",
   "metadata": {},
   "source": [
    "### Currying-Partial function"
   ]
  },
  {
   "cell_type": "code",
   "execution_count": 19,
   "metadata": {},
   "outputs": [
    {
     "name": "stdout",
     "output_type": "stream",
     "text": [
      "15\n"
     ]
    }
   ],
   "source": [
    "from functools import partial\n",
    "def add(x,y):\n",
    "    return x+y\n",
    "\n",
    "add_five = partial(add, 5) ## create new function 'add_five' using 'add' giving 5 as first parameter for 'add'\n",
    "\n",
    "print(add_five(10))\n"
   ]
  },
  {
   "cell_type": "markdown",
   "metadata": {},
   "source": [
    "### Generators\n",
    "function pauses at the point of 'yeild' until the iterator asks for next item."
   ]
  },
  {
   "cell_type": "code",
   "execution_count": 24,
   "metadata": {},
   "outputs": [
    {
     "name": "stdout",
     "output_type": "stream",
     "text": [
      "<generator object get_squares at 0x11110c620>\n",
      "In get_squares\n",
      "Before yeild:  0\n",
      "loop:  0\n",
      "After yeild:  0\n",
      "Before yeild:  1\n",
      "loop:  1\n",
      "After yeild:  1\n",
      "Before yeild:  2\n",
      "loop:  4\n",
      "After yeild:  2\n",
      "Before yeild:  3\n",
      "loop:  9\n",
      "After yeild:  3\n",
      "Before yeild:  4\n",
      "loop:  16\n",
      "After yeild:  4\n",
      "Before yeild:  5\n",
      "loop:  25\n",
      "After yeild:  5\n"
     ]
    }
   ],
   "source": [
    "def get_squares(n=5):\n",
    "    print('In get_squares')\n",
    "    for i in range(n+1):\n",
    "        print(\"Before yeild: \", i)\n",
    "        yield i*i ## function pauses here\n",
    "        print(\"After yeild: \", i)\n",
    "\n",
    "square_generator = get_squares()\n",
    "print(square_generator)\n",
    "for sq in square_generator:\n",
    "    print(\"loop: \", sq)"
   ]
  },
  {
   "cell_type": "markdown",
   "metadata": {},
   "source": [
    "### Generator expressions\n",
    "Similar to list comprehension but returns generators. Use () instead of []"
   ]
  },
  {
   "cell_type": "code",
   "execution_count": 27,
   "metadata": {},
   "outputs": [
    {
     "name": "stdout",
     "output_type": "stream",
     "text": [
      "<generator object <genexpr> at 0x11110cfc0>\n",
      "0\n",
      "1\n",
      "4\n",
      "9\n",
      "16\n"
     ]
    }
   ],
   "source": [
    "square_generator = (i*i for i in range(5))\n",
    "print(square_generator)\n",
    "for sq in square_generator:\n",
    "    print(sq)"
   ]
  },
  {
   "cell_type": "markdown",
   "metadata": {},
   "source": [
    "### Itertools"
   ]
  },
  {
   "cell_type": "code",
   "execution_count": 38,
   "metadata": {},
   "outputs": [
    {
     "name": "stdout",
     "output_type": "stream",
     "text": [
      "[('a', 'b', 'c'), ('a', 'b', 'd'), ('a', 'c', 'd'), ('b', 'c', 'd')]\n"
     ]
    },
    {
     "data": {
      "text/plain": [
       "{'a': ['apple', 'ant'],\n",
       " 'c': ['cat', 'cow', 'cool'],\n",
       " 'b': ['bird', 'blue', 'bring'],\n",
       " 'd': ['dog', 'duck']}"
      ]
     },
     "execution_count": 38,
     "metadata": {},
     "output_type": "execute_result"
    }
   ],
   "source": [
    "import itertools \n",
    "lst = ['a','b','c','d']\n",
    "print(list(itertools.combinations(lst, 3)))\n",
    "\n",
    "words = ['apple', 'ant', 'cat', 'cow', 'cool', 'bird', 'blue', 'bring', 'dog','duck']\n",
    "{group:[item for item in items] for group, items in itertools.groupby(words, lambda x: x[0]) }"
   ]
  },
  {
   "cell_type": "code",
   "execution_count": null,
   "metadata": {},
   "outputs": [],
   "source": []
  }
 ],
 "metadata": {
  "kernelspec": {
   "display_name": "Python 3",
   "language": "python",
   "name": "python3"
  },
  "language_info": {
   "codemirror_mode": {
    "name": "ipython",
    "version": 3
   },
   "file_extension": ".py",
   "mimetype": "text/x-python",
   "name": "python",
   "nbconvert_exporter": "python",
   "pygments_lexer": "ipython3",
   "version": "3.6.5"
  }
 },
 "nbformat": 4,
 "nbformat_minor": 2
}
