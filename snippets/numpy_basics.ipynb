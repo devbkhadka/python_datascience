{
 "cells": [
  {
   "cell_type": "markdown",
   "metadata": {},
   "source": [
    "### Large Python List"
   ]
  },
  {
   "cell_type": "code",
   "execution_count": 8,
   "metadata": {},
   "outputs": [
    {
     "name": "stdout",
     "output_type": "stream",
     "text": [
      "CPU times: user 900 ms, sys: 226 ms, total: 1.13 s\n",
      "Wall time: 1.15 s\n"
     ]
    }
   ],
   "source": [
    "my_list = list(range(1000000))\n",
    "%time for _ in range(10): my_list2 = [x*2 for x in my_list]"
   ]
  },
  {
   "cell_type": "markdown",
   "metadata": {},
   "source": [
    "### Large NumPy Array"
   ]
  },
  {
   "cell_type": "code",
   "execution_count": 9,
   "metadata": {},
   "outputs": [
    {
     "name": "stdout",
     "output_type": "stream",
     "text": [
      "CPU times: user 21.1 ms, sys: 7.31 ms, total: 28.4 ms\n",
      "Wall time: 29.1 ms\n"
     ]
    }
   ],
   "source": [
    "import numpy as np\n",
    "my_arr = np.arange(1000000)\n",
    "%time for _ in range(10): my_arr2 = my_arr * 2"
   ]
  },
  {
   "cell_type": "markdown",
   "metadata": {},
   "source": [
    "### NDArray Block Operation"
   ]
  },
  {
   "cell_type": "code",
   "execution_count": 22,
   "metadata": {},
   "outputs": [
    {
     "name": "stdout",
     "output_type": "stream",
     "text": [
      "data\n",
      " [[ 1.26964264 -0.37175369 -0.97689653]\n",
      " [-1.32044273 -1.12180858 -0.41822584]]\n",
      "data times 10\n",
      "[[ 12.69642642  -3.71753695  -9.76896527]\n",
      " [-13.20442725 -11.2180858   -4.18225844]]\n",
      "data+data\n",
      " [[ 25.39285285  -7.43507389 -19.53793054]\n",
      " [-26.4088545  -22.43617159  -8.36451687]]\n",
      "\n",
      "data shape:  (2, 3)\n",
      "data dtype:  float64\n",
      "\n",
      "ndarray must have item of same data type\n"
     ]
    },
    {
     "ename": "ValueError",
     "evalue": "could not convert string to float: 'a'",
     "output_type": "error",
     "traceback": [
      "\u001b[0;31m---------------------------------------------------------------------------\u001b[0m",
      "\u001b[0;31mValueError\u001b[0m                                Traceback (most recent call last)",
      "\u001b[0;32m<ipython-input-22-7c8af4b0827d>\u001b[0m in \u001b[0;36m<module>\u001b[0;34m()\u001b[0m\n\u001b[1;32m     11\u001b[0m \u001b[0mdata\u001b[0m\u001b[0;34m[\u001b[0m\u001b[0;36m1\u001b[0m\u001b[0;34m,\u001b[0m\u001b[0;36m2\u001b[0m\u001b[0;34m]\u001b[0m \u001b[0;34m=\u001b[0m \u001b[0;36m20\u001b[0m\u001b[0;34m\u001b[0m\u001b[0m\n\u001b[1;32m     12\u001b[0m \u001b[0mprint\u001b[0m\u001b[0;34m(\u001b[0m\u001b[0;34m'\\nndarray must have item of same data type'\u001b[0m\u001b[0;34m)\u001b[0m\u001b[0;34m\u001b[0m\u001b[0m\n\u001b[0;32m---> 13\u001b[0;31m \u001b[0mdata\u001b[0m\u001b[0;34m[\u001b[0m\u001b[0;36m1\u001b[0m\u001b[0;34m,\u001b[0m\u001b[0;36m2\u001b[0m\u001b[0;34m]\u001b[0m \u001b[0;34m=\u001b[0m \u001b[0;34m'a'\u001b[0m\u001b[0;34m\u001b[0m\u001b[0m\n\u001b[0m",
      "\u001b[0;31mValueError\u001b[0m: could not convert string to float: 'a'"
     ]
    }
   ],
   "source": [
    "import numpy as np\n",
    "\n",
    "data = np.random.randn(2, 3) # 2X3 random array\n",
    "print('data\\n', data)\n",
    "data = data * 10\n",
    "print('data times 10')\n",
    "print(data)\n",
    "print('data+data\\n', data+data)\n",
    "\n",
    "print('\\ndata shape: ', data.shape)\n",
    "print('data dtype: ', data.dtype)\n",
    "\n",
    "data[1,2] = 20\n",
    "print('\\nndarray must have item of same data type')\n",
    "data[1,2] = 'a'\n"
   ]
  },
  {
   "cell_type": "markdown",
   "metadata": {},
   "source": [
    "### Creating NDArray"
   ]
  },
  {
   "cell_type": "code",
   "execution_count": 44,
   "metadata": {},
   "outputs": [
    {
     "name": "stdout",
     "output_type": "stream",
     "text": [
      "from one dimentional list\n",
      " [2.   0.5  8.   0.43 0.79]\n",
      "from two dimentional list\n",
      " [[ 0  1  2  3  4  5  6  7  8  9]\n",
      " [ 0  1  4  9 16 25 36 49 64 81]]\n",
      "\n",
      "4 dimentional with zeors\n",
      "\n",
      "This 4d can be interpreted as 2*(3*(4*5)) ie 4*5 array repeated 3 times then whole thing repeated 2 times\n",
      " [[[[0. 0. 0. 0. 0.]\n",
      "   [0. 0. 0. 0. 0.]\n",
      "   [0. 0. 0. 0. 0.]\n",
      "   [0. 0. 0. 0. 0.]]\n",
      "\n",
      "  [[0. 0. 0. 0. 0.]\n",
      "   [0. 0. 0. 0. 0.]\n",
      "   [0. 0. 0. 0. 0.]\n",
      "   [0. 0. 0. 0. 0.]]\n",
      "\n",
      "  [[0. 0. 0. 0. 0.]\n",
      "   [0. 0. 0. 0. 0.]\n",
      "   [0. 0. 0. 0. 0.]\n",
      "   [0. 0. 0. 0. 0.]]]\n",
      "\n",
      "\n",
      " [[[0. 0. 0. 0. 0.]\n",
      "   [0. 0. 0. 0. 0.]\n",
      "   [0. 0. 0. 0. 0.]\n",
      "   [0. 0. 0. 0. 0.]]\n",
      "\n",
      "  [[0. 0. 0. 0. 0.]\n",
      "   [0. 0. 0. 0. 0.]\n",
      "   [0. 0. 0. 0. 0.]\n",
      "   [0. 0. 0. 0. 0.]]\n",
      "\n",
      "  [[0. 0. 0. 0. 0.]\n",
      "   [0. 0. 0. 0. 0.]\n",
      "   [0. 0. 0. 0. 0.]\n",
      "   [0. 0. 0. 0. 0.]]]]\n",
      "4X4 eye matrix\n",
      " [[1. 0. 0. 0.]\n",
      " [0. 1. 0. 0.]\n",
      " [0. 0. 1. 0.]\n",
      " [0. 0. 0. 1.]]\n"
     ]
    }
   ],
   "source": [
    "import numpy as np\n",
    "\n",
    "arr = np.array([2, 0.5, 8, .43, .79])\n",
    "print('from one dimentional list\\n', arr)\n",
    "arr = np.array([range(10), np.arange(10)**2])\n",
    "print('from two dimentional list\\n', arr)\n",
    "arr = np.zeros((2,3,4,5)) \n",
    "print('\\n4 dimentional with zeors\\n')\n",
    "print('This 4d can be interpreted as 2*(3*(4*5)) ie 4*5 array repeated 3 times then whole thing repeated 2 times\\n', arr)\n",
    "arr = np.eye(4)\n",
    "print('4X4 eye matrix\\n', arr)"
   ]
  },
  {
   "cell_type": "markdown",
   "metadata": {},
   "source": [
    "### Type Casting"
   ]
  },
  {
   "cell_type": "code",
   "execution_count": 51,
   "metadata": {},
   "outputs": [
    {
     "name": "stdout",
     "output_type": "stream",
     "text": [
      "before casting float64 \n",
      " [2.   0.5  8.   0.43 0.79]\n",
      "after casting int64 \n",
      " [2 0 8 0 0]\n"
     ]
    }
   ],
   "source": [
    "import numpy as np\n",
    "\n",
    "arr = np.array([2, 0.5, 8, .43, .79])\n",
    "print('before casting', arr.dtype, '\\n', arr)\n",
    "arr = arr.astype(np.int)\n",
    "print('after casting', arr.dtype, '\\n', arr)"
   ]
  },
  {
   "cell_type": "code",
   "execution_count": null,
   "metadata": {},
   "outputs": [],
   "source": []
  }
 ],
 "metadata": {
  "kernelspec": {
   "display_name": "Python 3",
   "language": "python",
   "name": "python3"
  },
  "language_info": {
   "codemirror_mode": {
    "name": "ipython",
    "version": 3
   },
   "file_extension": ".py",
   "mimetype": "text/x-python",
   "name": "python",
   "nbconvert_exporter": "python",
   "pygments_lexer": "ipython3",
   "version": "3.6.5"
  }
 },
 "nbformat": 4,
 "nbformat_minor": 2
}
