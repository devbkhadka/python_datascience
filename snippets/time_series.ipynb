{
 "cells": [
  {
   "cell_type": "markdown",
   "metadata": {},
   "source": [
    "### Datetime"
   ]
  },
  {
   "cell_type": "code",
   "execution_count": 1,
   "metadata": {},
   "outputs": [
    {
     "data": {
      "text/plain": [
       "datetime.datetime(2019, 4, 4, 22, 2, 3, 349441)"
      ]
     },
     "execution_count": 1,
     "metadata": {},
     "output_type": "execute_result"
    }
   ],
   "source": [
    "from datetime import datetime\n",
    "now = datetime.now()\n",
    "now"
   ]
  },
  {
   "cell_type": "code",
   "execution_count": 2,
   "metadata": {},
   "outputs": [
    {
     "data": {
      "text/plain": [
       "(2019, 4, 4)"
      ]
     },
     "execution_count": 2,
     "metadata": {},
     "output_type": "execute_result"
    }
   ],
   "source": [
    "now.year, now.month, now.day"
   ]
  },
  {
   "cell_type": "markdown",
   "metadata": {},
   "source": [
    "### Time Delta"
   ]
  },
  {
   "cell_type": "code",
   "execution_count": 3,
   "metadata": {},
   "outputs": [
    {
     "data": {
      "text/plain": [
       "datetime.timedelta(93, 79323, 349441)"
      ]
     },
     "execution_count": 3,
     "metadata": {},
     "output_type": "execute_result"
    }
   ],
   "source": [
    "delta = now - datetime(2019,1,1)\n",
    "delta"
   ]
  },
  {
   "cell_type": "code",
   "execution_count": 4,
   "metadata": {},
   "outputs": [
    {
     "data": {
      "text/plain": [
       "(93, 79323, 349441)"
      ]
     },
     "execution_count": 4,
     "metadata": {},
     "output_type": "execute_result"
    }
   ],
   "source": [
    "delta.days, delta.seconds, delta.microseconds"
   ]
  },
  {
   "cell_type": "markdown",
   "metadata": {},
   "source": [
    "### Datetime Format"
   ]
  },
  {
   "cell_type": "code",
   "execution_count": 5,
   "metadata": {},
   "outputs": [
    {
     "data": {
      "text/plain": [
       "'2012-10-20 00:00:00'"
      ]
     },
     "execution_count": 5,
     "metadata": {},
     "output_type": "execute_result"
    }
   ],
   "source": [
    "stamp=datetime(2012,10,20)\n",
    "str(stamp)"
   ]
  },
  {
   "cell_type": "code",
   "execution_count": 6,
   "metadata": {},
   "outputs": [
    {
     "data": {
      "text/plain": [
       "'2012-10-20'"
      ]
     },
     "execution_count": 6,
     "metadata": {},
     "output_type": "execute_result"
    }
   ],
   "source": [
    "stamp.strftime(\"%Y-%m-%d\")"
   ]
  },
  {
   "cell_type": "code",
   "execution_count": 7,
   "metadata": {},
   "outputs": [
    {
     "data": {
      "text/plain": [
       "'Year:2012, Year:12, month:10, day:20, 24Hr: 00, 12Hr:12                , Minute:00, Seconds:00, Weekday:42, week of year:42, '"
      ]
     },
     "execution_count": 7,
     "metadata": {},
     "output_type": "execute_result"
    }
   ],
   "source": [
    "stamp.strftime(\"Year:%Y, Year:%y, month:%m, day:%d, 24Hr: %H, 12Hr:%I \\\n",
    "               , Minute:%M, Seconds:%S, Weekday:%W, week of year:%U, %z\")\n"
   ]
  },
  {
   "cell_type": "markdown",
   "metadata": {},
   "source": [
    "### Parse Date"
   ]
  },
  {
   "cell_type": "code",
   "execution_count": 8,
   "metadata": {},
   "outputs": [
    {
     "data": {
      "text/plain": [
       "datetime.datetime(2016, 8, 5, 0, 0)"
      ]
     },
     "execution_count": 8,
     "metadata": {},
     "output_type": "execute_result"
    }
   ],
   "source": [
    "datetime.strptime(\"16-08-05\", \"%y-%m-%d\")"
   ]
  },
  {
   "cell_type": "markdown",
   "metadata": {},
   "source": [
    "### Dateutil\n",
    "- Dateutil package is installed when installing pandas"
   ]
  },
  {
   "cell_type": "code",
   "execution_count": 9,
   "metadata": {},
   "outputs": [
    {
     "data": {
      "text/plain": [
       "'2005-03-18'"
      ]
     },
     "execution_count": 9,
     "metadata": {},
     "output_type": "execute_result"
    }
   ],
   "source": [
    "from dateutil.parser import parse\n",
    "## this parser can parse most common human readable date format\n",
    "parse(\"18-03-2005\").strftime(\"%Y-%m-%d\")"
   ]
  },
  {
   "cell_type": "markdown",
   "metadata": {},
   "source": [
    "### Ambigious day and month"
   ]
  },
  {
   "cell_type": "code",
   "execution_count": 10,
   "metadata": {},
   "outputs": [
    {
     "data": {
      "text/plain": [
       "datetime.datetime(2005, 8, 3, 0, 0)"
      ]
     },
     "execution_count": 10,
     "metadata": {},
     "output_type": "execute_result"
    }
   ],
   "source": [
    "parse(\"8-03-2005\")"
   ]
  },
  {
   "cell_type": "code",
   "execution_count": 11,
   "metadata": {},
   "outputs": [
    {
     "data": {
      "text/plain": [
       "datetime.datetime(2005, 3, 8, 0, 0)"
      ]
     },
     "execution_count": 11,
     "metadata": {},
     "output_type": "execute_result"
    }
   ],
   "source": [
    "parse(\"8-03-2005\", dayfirst=True)"
   ]
  },
  {
   "cell_type": "markdown",
   "metadata": {},
   "source": [
    "### Pandas Datetime Parser"
   ]
  },
  {
   "cell_type": "code",
   "execution_count": 12,
   "metadata": {},
   "outputs": [
    {
     "data": {
      "text/plain": [
       "0   2018-07-21\n",
       "1   2016-11-16\n",
       "2   2017-08-25\n",
       "3   2018-09-01\n",
       "4   2017-08-28\n",
       "dtype: datetime64[ns]"
      ]
     },
     "execution_count": 12,
     "metadata": {},
     "output_type": "execute_result"
    }
   ],
   "source": [
    "import numpy as np\n",
    "import pandas as pd\n",
    "\n",
    "years = pd.Series(np.random.choice([\"2016\", \"2017\", \"2018\"], 50))\n",
    "vectorize_str = np.vectorize(str)\n",
    "months = pd.Series(vectorize_str(np.random.choice(range(1,13), 50)))\n",
    "days = pd.Series(vectorize_str(np.random.choice(range(1,29), 50)))\n",
    "dates = years+\"-\"+months+\"-\"+days\n",
    "\n",
    "\n",
    "dates = pd.to_datetime(dates)\n",
    "\n",
    "dates.head()"
   ]
  },
  {
   "cell_type": "markdown",
   "metadata": {},
   "source": [
    "### Timeseries Arithmetics"
   ]
  },
  {
   "cell_type": "code",
   "execution_count": 13,
   "metadata": {},
   "outputs": [
    {
     "data": {
      "text/plain": [
       "2016-01-27    0\n",
       "2016-02-10    0\n",
       "2016-02-16    0\n",
       "2016-02-23    0\n",
       "2016-03-26    0\n",
       "dtype: int64"
      ]
     },
     "execution_count": 13,
     "metadata": {},
     "output_type": "execute_result"
    }
   ],
   "source": [
    "positives = pd.Series(range(50), index=dates).sort_index()\n",
    "negetives = -pd.Series(range(50), index=dates).sort_index()\n",
    "total = positives+negetives\n",
    "total.head()"
   ]
  },
  {
   "cell_type": "code",
   "execution_count": 17,
   "metadata": {},
   "outputs": [
    {
     "data": {
      "text/plain": [
       "48"
      ]
     },
     "execution_count": 17,
     "metadata": {},
     "output_type": "execute_result"
    }
   ],
   "source": [
    "positives['2016-03-26']"
   ]
  },
  {
   "cell_type": "code",
   "execution_count": 18,
   "metadata": {},
   "outputs": [
    {
     "data": {
      "text/plain": [
       "Series([], dtype: int64)"
      ]
     },
     "execution_count": 18,
     "metadata": {},
     "output_type": "execute_result"
    }
   ],
   "source": [
    "positives['2018-08']"
   ]
  },
  {
   "cell_type": "code",
   "execution_count": 19,
   "metadata": {},
   "outputs": [
    {
     "data": {
      "text/plain": [
       "2018-01-02    12\n",
       "2018-02-03    31\n",
       "2018-02-09    45\n",
       "2018-02-22    27\n",
       "2018-02-28    21\n",
       "2018-05-11    23\n",
       "2018-05-21    37\n",
       "2018-06-22    11\n",
       "2018-06-25    44\n",
       "2018-07-20    40\n",
       "2018-07-21     0\n",
       "2018-09-01     3\n",
       "2018-09-13     6\n",
       "2018-09-19    10\n",
       "2018-09-25    33\n",
       "2018-11-19    32\n",
       "2018-11-26    39\n",
       "2018-12-18    17\n",
       "dtype: int64"
      ]
     },
     "execution_count": 19,
     "metadata": {},
     "output_type": "execute_result"
    }
   ],
   "source": [
    "positives['2018']"
   ]
  },
  {
   "cell_type": "code",
   "execution_count": 20,
   "metadata": {},
   "outputs": [
    {
     "data": {
      "text/plain": [
       "2016-01-27     9\n",
       "2016-02-10    35\n",
       "2016-02-16    18\n",
       "2016-02-23    15\n",
       "2016-03-26    48\n",
       "2016-05-01    14\n",
       "2016-05-10    49\n",
       "2016-05-12    43\n",
       "2016-05-13    41\n",
       "2016-06-18    26\n",
       "2016-06-20    36\n",
       "2016-09-17     7\n",
       "2016-09-21    29\n",
       "2016-11-06    22\n",
       "2016-11-16     1\n",
       "2016-11-24    38\n",
       "2017-01-01    46\n",
       "2017-01-09    25\n",
       "2017-01-19    47\n",
       "2017-03-19    42\n",
       "2017-04-20    34\n",
       "2017-06-17    30\n",
       "2017-07-11     8\n",
       "2017-07-23     5\n",
       "2017-08-25     2\n",
       "2017-08-28     4\n",
       "2017-09-01    28\n",
       "2017-09-15    16\n",
       "2017-09-20    13\n",
       "2017-10-02    20\n",
       "2017-11-02    19\n",
       "2017-11-22    24\n",
       "dtype: int64"
      ]
     },
     "execution_count": 20,
     "metadata": {},
     "output_type": "execute_result"
    }
   ],
   "source": [
    "positives[\"2016\":\"2017\"]"
   ]
  },
  {
   "cell_type": "code",
   "execution_count": 21,
   "metadata": {},
   "outputs": [
    {
     "data": {
      "text/plain": [
       "2016-06-18    26\n",
       "2016-06-20    36\n",
       "2016-09-17     7\n",
       "2016-09-21    29\n",
       "2016-11-06    22\n",
       "2016-11-16     1\n",
       "2016-11-24    38\n",
       "2017-01-01    46\n",
       "2017-01-09    25\n",
       "2017-01-19    47\n",
       "2017-03-19    42\n",
       "dtype: int64"
      ]
     },
     "execution_count": 21,
     "metadata": {},
     "output_type": "execute_result"
    }
   ],
   "source": [
    "positives.truncate(before=\"2016-05-25\", after=\"2017-04-10\"  )"
   ]
  },
  {
   "cell_type": "markdown",
   "metadata": {},
   "source": [
    "### Daterange"
   ]
  },
  {
   "cell_type": "code",
   "execution_count": 22,
   "metadata": {},
   "outputs": [
    {
     "data": {
      "text/plain": [
       "DatetimeIndex(['2019-01-02', '2019-01-09', '2019-01-16', '2019-01-23',\n",
       "               '2019-01-30', '2019-02-06', '2019-02-13', '2019-02-20',\n",
       "               '2019-02-27', '2019-03-06', '2019-03-13', '2019-03-20',\n",
       "               '2019-03-27', '2019-04-03', '2019-04-10', '2019-04-17',\n",
       "               '2019-04-24', '2019-05-01', '2019-05-08', '2019-05-15',\n",
       "               '2019-05-22', '2019-05-29', '2019-06-05', '2019-06-12',\n",
       "               '2019-06-19', '2019-06-26'],\n",
       "              dtype='datetime64[ns]', freq='W-WED')"
      ]
     },
     "execution_count": 22,
     "metadata": {},
     "output_type": "execute_result"
    }
   ],
   "source": [
    "pd.date_range(\"2019-01-01\", \"2019-06-30\", freq=\"W-WED\") ## Weekly on wednesday"
   ]
  },
  {
   "cell_type": "code",
   "execution_count": 23,
   "metadata": {},
   "outputs": [
    {
     "data": {
      "text/plain": [
       "DatetimeIndex(['2019-01-31', '2019-02-28', '2019-03-29', '2019-04-30',\n",
       "               '2019-05-31', '2019-06-28', '2019-07-31', '2019-08-30',\n",
       "               '2019-09-30', '2019-10-31', '2019-11-29', '2019-12-31'],\n",
       "              dtype='datetime64[ns]', freq='BM')"
      ]
     },
     "execution_count": 23,
     "metadata": {},
     "output_type": "execute_result"
    }
   ],
   "source": [
    "pd.date_range(\"2019\", periods=12, freq=\"BM\") ## Last business day of month "
   ]
  },
  {
   "cell_type": "code",
   "execution_count": 24,
   "metadata": {},
   "outputs": [
    {
     "data": {
      "text/plain": [
       "DatetimeIndex(['2018-01-31', '2018-02-28', '2018-03-31', '2018-04-30',\n",
       "               '2018-05-31', '2018-06-30', '2018-07-31', '2018-08-31',\n",
       "               '2018-09-30', '2018-10-31', '2018-11-30', '2018-12-31'],\n",
       "              dtype='datetime64[ns]', freq='M')"
      ]
     },
     "execution_count": 24,
     "metadata": {},
     "output_type": "execute_result"
    }
   ],
   "source": [
    "pd.date_range(end=\"2019\", periods=12, freq=\"M\")  ## Last day of month"
   ]
  },
  {
   "cell_type": "markdown",
   "metadata": {},
   "source": [
    "### Duplicate Dates"
   ]
  },
  {
   "cell_type": "code",
   "execution_count": 25,
   "metadata": {},
   "outputs": [
    {
     "data": {
      "text/plain": [
       "2016-01-27    1\n",
       "2016-02-10    1\n",
       "2016-02-16    1\n",
       "2016-02-23    1\n",
       "2016-03-26    1\n",
       "2016-05-01    1\n",
       "2016-05-10    1\n",
       "2016-05-12    1\n",
       "2016-05-13    1\n",
       "2016-06-18    1\n",
       "2016-06-20    1\n",
       "2016-09-17    1\n",
       "2016-09-21    1\n",
       "2016-11-06    1\n",
       "2016-11-16    1\n",
       "2016-11-24    1\n",
       "2017-01-01    1\n",
       "2017-01-09    1\n",
       "2017-01-19    1\n",
       "2017-03-19    1\n",
       "2017-04-20    1\n",
       "2017-06-17    1\n",
       "2017-07-11    1\n",
       "2017-07-23    1\n",
       "2017-08-25    1\n",
       "2017-08-28    1\n",
       "2017-09-01    1\n",
       "2017-09-15    1\n",
       "2017-09-20    1\n",
       "2017-10-02    1\n",
       "2017-11-02    1\n",
       "2017-11-22    1\n",
       "2018-01-02    1\n",
       "2018-02-03    1\n",
       "2018-02-09    1\n",
       "2018-02-22    1\n",
       "2018-02-28    1\n",
       "2018-05-11    1\n",
       "2018-05-21    1\n",
       "2018-06-22    1\n",
       "2018-06-25    1\n",
       "2018-07-20    1\n",
       "2018-07-21    1\n",
       "2018-09-01    1\n",
       "2018-09-13    1\n",
       "2018-09-19    1\n",
       "2018-09-25    1\n",
       "2018-11-19    1\n",
       "2018-11-26    1\n",
       "2018-12-18    1\n",
       "dtype: int64"
      ]
     },
     "execution_count": 25,
     "metadata": {},
     "output_type": "execute_result"
    }
   ],
   "source": [
    "grouped=positives.groupby(level=0)\n",
    "grouped.count()"
   ]
  },
  {
   "cell_type": "markdown",
   "metadata": {},
   "source": [
    "### Date Offsets"
   ]
  },
  {
   "cell_type": "code",
   "execution_count": 26,
   "metadata": {},
   "outputs": [
    {
     "data": {
      "text/plain": [
       "<150 * Minutes>"
      ]
     },
     "execution_count": 26,
     "metadata": {},
     "output_type": "execute_result"
    }
   ],
   "source": [
    "from pandas.tseries.offsets import Minute, Hour\n",
    "\n",
    "four_hr = Hour(2)\n",
    "\n",
    "thirty_min = Minute(30)\n",
    "\n",
    "four_hr + thirty_min\n"
   ]
  },
  {
   "cell_type": "code",
   "execution_count": 27,
   "metadata": {},
   "outputs": [
    {
     "data": {
      "text/plain": [
       "DatetimeIndex(['2019-04-04 03:00:00', '2019-04-04 04:30:00',\n",
       "               '2019-04-04 06:00:00', '2019-04-04 07:30:00',\n",
       "               '2019-04-04 09:00:00', '2019-04-04 10:30:00',\n",
       "               '2019-04-04 12:00:00', '2019-04-04 13:30:00',\n",
       "               '2019-04-04 15:00:00', '2019-04-04 16:30:00',\n",
       "               '2019-04-04 18:00:00', '2019-04-04 19:30:00',\n",
       "               '2019-04-04 21:00:00', '2019-04-04 22:30:00',\n",
       "               '2019-04-05 00:00:00', '2019-04-05 01:30:00',\n",
       "               '2019-04-05 03:00:00', '2019-04-05 04:30:00',\n",
       "               '2019-04-05 06:00:00', '2019-04-05 07:30:00'],\n",
       "              dtype='datetime64[ns]', freq='90T')"
      ]
     },
     "execution_count": 27,
     "metadata": {},
     "output_type": "execute_result"
    }
   ],
   "source": [
    "pd.date_range(\"3:00\", periods=20, freq=\"1h30min\")"
   ]
  },
  {
   "cell_type": "code",
   "execution_count": 28,
   "metadata": {},
   "outputs": [
    {
     "data": {
      "text/plain": [
       "DatetimeIndex(['2019-04-19', '2019-05-17', '2019-06-21', '2019-07-19',\n",
       "               '2019-08-16', '2019-09-20', '2019-10-18', '2019-11-15',\n",
       "               '2019-12-20', '2020-01-17'],\n",
       "              dtype='datetime64[ns]', freq='WOM-3FRI')"
      ]
     },
     "execution_count": 28,
     "metadata": {},
     "output_type": "execute_result"
    }
   ],
   "source": [
    "pd.date_range(\"4:40\",periods=10, freq=\"WOM-3FRI\", normalize=True) ## third friday of month"
   ]
  },
  {
   "cell_type": "markdown",
   "metadata": {},
   "source": [
    "### Shifting Series"
   ]
  },
  {
   "cell_type": "code",
   "execution_count": 29,
   "metadata": {},
   "outputs": [
    {
     "data": {
      "text/plain": [
       "2019-04-04    0.092908\n",
       "2019-04-05    0.457979\n",
       "2019-04-06    0.848580\n",
       "2019-04-07    1.837067\n",
       "2019-04-08    2.033215\n",
       "2019-04-09    2.352531\n",
       "2019-04-10    2.581998\n",
       "2019-04-11    2.994963\n",
       "2019-04-12    3.905814\n",
       "2019-04-13    4.246157\n",
       "Freq: D, dtype: float64"
      ]
     },
     "execution_count": 29,
     "metadata": {},
     "output_type": "execute_result"
    }
   ],
   "source": [
    "dates = pd.date_range(\"0:00\", periods=10)\n",
    "prices = np.cumsum(np.random.rand(10))\n",
    "\n",
    "data = pd.Series(prices, index=dates)\n",
    "data"
   ]
  },
  {
   "cell_type": "code",
   "execution_count": 30,
   "metadata": {},
   "outputs": [
    {
     "data": {
      "text/plain": [
       "2019-04-04         NaN\n",
       "2019-04-05    0.092908\n",
       "2019-04-06    0.457979\n",
       "2019-04-07    0.848580\n",
       "2019-04-08    1.837067\n",
       "2019-04-09    2.033215\n",
       "2019-04-10    2.352531\n",
       "2019-04-11    2.581998\n",
       "2019-04-12    2.994963\n",
       "2019-04-13    3.905814\n",
       "Freq: D, dtype: float64"
      ]
     },
     "execution_count": 30,
     "metadata": {},
     "output_type": "execute_result"
    }
   ],
   "source": [
    "yesterday_data = data.shift(1)\n",
    "yesterday_data"
   ]
  },
  {
   "cell_type": "code",
   "execution_count": 31,
   "metadata": {},
   "outputs": [
    {
     "data": {
      "text/plain": [
       "2019-04-04         NaN\n",
       "2019-04-05    3.929409\n",
       "2019-04-06    0.852880\n",
       "2019-04-07    1.164872\n",
       "2019-04-08    0.106772\n",
       "2019-04-09    0.157050\n",
       "2019-04-10    0.097540\n",
       "2019-04-11    0.159940\n",
       "2019-04-12    0.304127\n",
       "2019-04-13    0.087138\n",
       "Freq: D, dtype: float64"
      ]
     },
     "execution_count": 31,
     "metadata": {},
     "output_type": "execute_result"
    }
   ],
   "source": [
    "data/yesterday_data - 1 ## Daily percent change"
   ]
  },
  {
   "cell_type": "code",
   "execution_count": 32,
   "metadata": {},
   "outputs": [
    {
     "data": {
      "text/plain": [
       "2019-04-07    0.092908\n",
       "2019-04-08    0.457979\n",
       "2019-04-09    0.848580\n",
       "2019-04-10    1.837067\n",
       "2019-04-11    2.033215\n",
       "2019-04-12    2.352531\n",
       "2019-04-13    2.581998\n",
       "2019-04-14    2.994963\n",
       "2019-04-15    3.905814\n",
       "2019-04-16    4.246157\n",
       "Freq: D, dtype: float64"
      ]
     },
     "execution_count": 32,
     "metadata": {},
     "output_type": "execute_result"
    }
   ],
   "source": [
    "data.shift(3, \"D\") ## Shift data by 3 days"
   ]
  },
  {
   "cell_type": "markdown",
   "metadata": {},
   "source": [
    "### Date Offsets"
   ]
  },
  {
   "cell_type": "code",
   "execution_count": 43,
   "metadata": {},
   "outputs": [
    {
     "data": {
      "text/plain": [
       "Timestamp('2019-04-06 22:08:13.481532')"
      ]
     },
     "execution_count": 43,
     "metadata": {},
     "output_type": "execute_result"
    }
   ],
   "source": [
    "from pandas.tseries.offsets import Day, MonthEnd\n",
    "now = pd.datetime.now()\n",
    "day_after_tomorrow = now + Day(2)\n",
    "day_after_tomorrow"
   ]
  },
  {
   "cell_type": "code",
   "execution_count": 44,
   "metadata": {},
   "outputs": [
    {
     "data": {
      "text/plain": [
       "Timestamp('2019-04-30 22:08:13.481532')"
      ]
     },
     "execution_count": 44,
     "metadata": {},
     "output_type": "execute_result"
    }
   ],
   "source": [
    "now + MonthEnd()"
   ]
  },
  {
   "cell_type": "code",
   "execution_count": 47,
   "metadata": {},
   "outputs": [
    {
     "data": {
      "text/plain": [
       "Timestamp('2019-03-31 22:08:13.481532')"
      ]
     },
     "execution_count": 47,
     "metadata": {},
     "output_type": "execute_result"
    }
   ],
   "source": [
    "offset = MonthEnd()\n",
    "offset.rollback(now)"
   ]
  },
  {
   "cell_type": "markdown",
   "metadata": {},
   "source": [
    "### Grouping data by month"
   ]
  },
  {
   "cell_type": "code",
   "execution_count": 55,
   "metadata": {},
   "outputs": [
    {
     "data": {
      "text/plain": [
       "2016-01-31    1\n",
       "2016-02-29    3\n",
       "2016-03-31    1\n",
       "2016-05-31    4\n",
       "2016-06-30    2\n",
       "2016-09-30    2\n",
       "2016-11-30    3\n",
       "2017-01-31    3\n",
       "2017-03-31    1\n",
       "2017-04-30    1\n",
       "2017-06-30    1\n",
       "2017-07-31    2\n",
       "2017-08-31    2\n",
       "2017-09-30    3\n",
       "2017-10-31    1\n",
       "2017-11-30    2\n",
       "2018-01-31    1\n",
       "2018-02-28    4\n",
       "2018-05-31    2\n",
       "2018-06-30    2\n",
       "2018-07-31    2\n",
       "2018-09-30    4\n",
       "2018-11-30    2\n",
       "2018-12-31    1\n",
       "dtype: int64"
      ]
     },
     "execution_count": 55,
     "metadata": {},
     "output_type": "execute_result"
    }
   ],
   "source": [
    "grouped=positives.groupby(offset.rollforward)\n",
    "grouped.count()\n"
   ]
  },
  {
   "cell_type": "code",
   "execution_count": 56,
   "metadata": {},
   "outputs": [
    {
     "data": {
      "text/plain": [
       "2016-01-31    1\n",
       "2016-02-29    3\n",
       "2016-03-31    1\n",
       "2016-04-30    0\n",
       "2016-05-31    4\n",
       "2016-06-30    2\n",
       "2016-07-31    0\n",
       "2016-08-31    0\n",
       "2016-09-30    2\n",
       "2016-10-31    0\n",
       "2016-11-30    3\n",
       "2016-12-31    0\n",
       "2017-01-31    3\n",
       "2017-02-28    0\n",
       "2017-03-31    1\n",
       "2017-04-30    1\n",
       "2017-05-31    0\n",
       "2017-06-30    1\n",
       "2017-07-31    2\n",
       "2017-08-31    2\n",
       "2017-09-30    3\n",
       "2017-10-31    1\n",
       "2017-11-30    2\n",
       "2017-12-31    0\n",
       "2018-01-31    1\n",
       "2018-02-28    4\n",
       "2018-03-31    0\n",
       "2018-04-30    0\n",
       "2018-05-31    2\n",
       "2018-06-30    2\n",
       "2018-07-31    2\n",
       "2018-08-31    0\n",
       "2018-09-30    4\n",
       "2018-10-31    0\n",
       "2018-11-30    2\n",
       "2018-12-31    1\n",
       "Freq: M, dtype: int64"
      ]
     },
     "execution_count": 56,
     "metadata": {},
     "output_type": "execute_result"
    }
   ],
   "source": [
    "positives.resample(\"M\").count() ## have similar effect as grouping by month end"
   ]
  },
  {
   "cell_type": "code",
   "execution_count": null,
   "metadata": {},
   "outputs": [],
   "source": []
  }
 ],
 "metadata": {
  "kernelspec": {
   "display_name": "Python 3",
   "language": "python",
   "name": "python3"
  },
  "language_info": {
   "codemirror_mode": {
    "name": "ipython",
    "version": 3
   },
   "file_extension": ".py",
   "mimetype": "text/x-python",
   "name": "python",
   "nbconvert_exporter": "python",
   "pygments_lexer": "ipython3",
   "version": "3.6.5"
  }
 },
 "nbformat": 4,
 "nbformat_minor": 2
}
