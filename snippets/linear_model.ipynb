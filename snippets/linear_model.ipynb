{
 "cells": [
  {
   "cell_type": "markdown",
   "metadata": {},
   "source": [
    "### Create Linear Data With 3 Variables"
   ]
  },
  {
   "cell_type": "code",
   "execution_count": 1,
   "metadata": {},
   "outputs": [
    {
     "data": {
      "text/plain": [
       "array([10.10989067, 11.50080798,  6.64404432,  9.24792969,  9.06743422])"
      ]
     },
     "execution_count": 1,
     "metadata": {},
     "output_type": "execute_result"
    }
   ],
   "source": [
    "import numpy as np\n",
    "def norm_dist(mean, variance, size=1):\n",
    "    if isinstance(size, int):\n",
    "        size = size, # convert to tuple\n",
    "    return mean + np.sqrt(variance) * np.random.randn(*size)\n",
    "N = 500\n",
    "np.random.seed(5)\n",
    "## c_ concatenates columns of given arrays\n",
    "## 1D array of size N have 1 columns and N rows\n",
    "\n",
    "# independent variables\n",
    "X = np.c_[norm_dist(22, 4, N),\n",
    "      norm_dist(13, 2, N),\n",
    "      norm_dist(-3, 3, N)]\n",
    "# constants\n",
    "C = norm_dist(5, 1, N)\n",
    "# random error\n",
    "err = norm_dist(0, 1, N)\n",
    "# linear parameters\n",
    "params = np.array([.1, .3, .6])\n",
    "\n",
    "y = np.dot(X, params) + C + err\n",
    "y[:5]"
   ]
  },
  {
   "cell_type": "code",
   "execution_count": 2,
   "metadata": {},
   "outputs": [
    {
     "data": {
      "text/plain": [
       "array([[ 1.        , 22.88245497, 14.50239519, -2.05989647],\n",
       "       [ 1.        , 21.3382597 , 13.66963723, -2.30559953],\n",
       "       [ 1.        , 26.86154237, 14.18029963, -1.75343357],\n",
       "       [ 1.        , 21.49581574, 12.92343267, -3.03742079],\n",
       "       [ 1.        , 22.21921968, 12.96374001, -2.95836168]])"
      ]
     },
     "execution_count": 2,
     "metadata": {},
     "output_type": "execute_result"
    }
   ],
   "source": [
    "import statsmodels.api as sm\n",
    "import statsmodels.formula.api as smf\n",
    "X = sm.add_constant(X) ## add intercept (constant) terms on data\n",
    "X[:5]"
   ]
  },
  {
   "cell_type": "markdown",
   "metadata": {},
   "source": [
    "### Ordinary Least Square (OLS) Regression"
   ]
  },
  {
   "cell_type": "code",
   "execution_count": 3,
   "metadata": {},
   "outputs": [
    {
     "data": {
      "text/html": [
       "<table class=\"simpletable\">\n",
       "<caption>OLS Regression Results</caption>\n",
       "<tr>\n",
       "  <th>Dep. Variable:</th>            <td>y</td>        <th>  R-squared:         </th> <td>   0.356</td>\n",
       "</tr>\n",
       "<tr>\n",
       "  <th>Model:</th>                   <td>OLS</td>       <th>  Adj. R-squared:    </th> <td>   0.352</td>\n",
       "</tr>\n",
       "<tr>\n",
       "  <th>Method:</th>             <td>Least Squares</td>  <th>  F-statistic:       </th> <td>   91.39</td>\n",
       "</tr>\n",
       "<tr>\n",
       "  <th>Date:</th>             <td>Tue, 16 Apr 2019</td> <th>  Prob (F-statistic):</th> <td>4.30e-47</td>\n",
       "</tr>\n",
       "<tr>\n",
       "  <th>Time:</th>                 <td>20:07:54</td>     <th>  Log-Likelihood:    </th> <td> -874.02</td>\n",
       "</tr>\n",
       "<tr>\n",
       "  <th>No. Observations:</th>      <td>   500</td>      <th>  AIC:               </th> <td>   1756.</td>\n",
       "</tr>\n",
       "<tr>\n",
       "  <th>Df Residuals:</th>          <td>   496</td>      <th>  BIC:               </th> <td>   1773.</td>\n",
       "</tr>\n",
       "<tr>\n",
       "  <th>Df Model:</th>              <td>     3</td>      <th>                     </th>     <td> </td>   \n",
       "</tr>\n",
       "<tr>\n",
       "  <th>Covariance Type:</th>      <td>nonrobust</td>    <th>                     </th>     <td> </td>   \n",
       "</tr>\n",
       "</table>\n",
       "<table class=\"simpletable\">\n",
       "<tr>\n",
       "    <td></td>       <th>coef</th>     <th>std err</th>      <th>t</th>      <th>P>|t|</th>  <th>[0.025</th>    <th>0.975]</th>  \n",
       "</tr>\n",
       "<tr>\n",
       "  <th>const</th> <td>    4.9887</td> <td>    0.921</td> <td>    5.416</td> <td> 0.000</td> <td>    3.179</td> <td>    6.798</td>\n",
       "</tr>\n",
       "<tr>\n",
       "  <th>x1</th>    <td>    0.0709</td> <td>    0.032</td> <td>    2.225</td> <td> 0.027</td> <td>    0.008</td> <td>    0.133</td>\n",
       "</tr>\n",
       "<tr>\n",
       "  <th>x2</th>    <td>    0.3225</td> <td>    0.044</td> <td>    7.305</td> <td> 0.000</td> <td>    0.236</td> <td>    0.409</td>\n",
       "</tr>\n",
       "<tr>\n",
       "  <th>x3</th>    <td>    0.5329</td> <td>    0.037</td> <td>   14.587</td> <td> 0.000</td> <td>    0.461</td> <td>    0.605</td>\n",
       "</tr>\n",
       "</table>\n",
       "<table class=\"simpletable\">\n",
       "<tr>\n",
       "  <th>Omnibus:</th>       <td> 0.401</td> <th>  Durbin-Watson:     </th> <td>   1.908</td>\n",
       "</tr>\n",
       "<tr>\n",
       "  <th>Prob(Omnibus):</th> <td> 0.818</td> <th>  Jarque-Bera (JB):  </th> <td>   0.246</td>\n",
       "</tr>\n",
       "<tr>\n",
       "  <th>Skew:</th>          <td>-0.022</td> <th>  Prob(JB):          </th> <td>   0.884</td>\n",
       "</tr>\n",
       "<tr>\n",
       "  <th>Kurtosis:</th>      <td> 3.099</td> <th>  Cond. No.          </th> <td>    382.</td>\n",
       "</tr>\n",
       "</table><br/><br/>Warnings:<br/>[1] Standard Errors assume that the covariance matrix of the errors is correctly specified."
      ],
      "text/plain": [
       "<class 'statsmodels.iolib.summary.Summary'>\n",
       "\"\"\"\n",
       "                            OLS Regression Results                            \n",
       "==============================================================================\n",
       "Dep. Variable:                      y   R-squared:                       0.356\n",
       "Model:                            OLS   Adj. R-squared:                  0.352\n",
       "Method:                 Least Squares   F-statistic:                     91.39\n",
       "Date:                Tue, 16 Apr 2019   Prob (F-statistic):           4.30e-47\n",
       "Time:                        20:07:54   Log-Likelihood:                -874.02\n",
       "No. Observations:                 500   AIC:                             1756.\n",
       "Df Residuals:                     496   BIC:                             1773.\n",
       "Df Model:                           3                                         \n",
       "Covariance Type:            nonrobust                                         \n",
       "==============================================================================\n",
       "                 coef    std err          t      P>|t|      [0.025      0.975]\n",
       "------------------------------------------------------------------------------\n",
       "const          4.9887      0.921      5.416      0.000       3.179       6.798\n",
       "x1             0.0709      0.032      2.225      0.027       0.008       0.133\n",
       "x2             0.3225      0.044      7.305      0.000       0.236       0.409\n",
       "x3             0.5329      0.037     14.587      0.000       0.461       0.605\n",
       "==============================================================================\n",
       "Omnibus:                        0.401   Durbin-Watson:                   1.908\n",
       "Prob(Omnibus):                  0.818   Jarque-Bera (JB):                0.246\n",
       "Skew:                          -0.022   Prob(JB):                        0.884\n",
       "Kurtosis:                       3.099   Cond. No.                         382.\n",
       "==============================================================================\n",
       "\n",
       "Warnings:\n",
       "[1] Standard Errors assume that the covariance matrix of the errors is correctly specified.\n",
       "\"\"\""
      ]
     },
     "execution_count": 3,
     "metadata": {},
     "output_type": "execute_result"
    }
   ],
   "source": [
    "model=sm.OLS(y,X)\n",
    "results = model.fit()\n",
    "results.summary()"
   ]
  },
  {
   "cell_type": "code",
   "execution_count": 4,
   "metadata": {},
   "outputs": [
    {
     "data": {
      "text/plain": [
       "array([4.98865928, 0.07086832, 0.32253465, 0.53287688])"
      ]
     },
     "execution_count": 4,
     "metadata": {},
     "output_type": "execute_result"
    }
   ],
   "source": [
    "results.params"
   ]
  },
  {
   "cell_type": "markdown",
   "metadata": {},
   "source": [
    "### OLS Using DataFrame"
   ]
  },
  {
   "cell_type": "code",
   "execution_count": 5,
   "metadata": {},
   "outputs": [
    {
     "data": {
      "text/html": [
       "<table class=\"simpletable\">\n",
       "<caption>OLS Regression Results</caption>\n",
       "<tr>\n",
       "  <th>Dep. Variable:</th>            <td>y</td>        <th>  R-squared:         </th> <td>   0.356</td>\n",
       "</tr>\n",
       "<tr>\n",
       "  <th>Model:</th>                   <td>OLS</td>       <th>  Adj. R-squared:    </th> <td>   0.352</td>\n",
       "</tr>\n",
       "<tr>\n",
       "  <th>Method:</th>             <td>Least Squares</td>  <th>  F-statistic:       </th> <td>   91.39</td>\n",
       "</tr>\n",
       "<tr>\n",
       "  <th>Date:</th>             <td>Tue, 16 Apr 2019</td> <th>  Prob (F-statistic):</th> <td>4.30e-47</td>\n",
       "</tr>\n",
       "<tr>\n",
       "  <th>Time:</th>                 <td>20:07:54</td>     <th>  Log-Likelihood:    </th> <td> -874.02</td>\n",
       "</tr>\n",
       "<tr>\n",
       "  <th>No. Observations:</th>      <td>   500</td>      <th>  AIC:               </th> <td>   1756.</td>\n",
       "</tr>\n",
       "<tr>\n",
       "  <th>Df Residuals:</th>          <td>   496</td>      <th>  BIC:               </th> <td>   1773.</td>\n",
       "</tr>\n",
       "<tr>\n",
       "  <th>Df Model:</th>              <td>     3</td>      <th>                     </th>     <td> </td>   \n",
       "</tr>\n",
       "<tr>\n",
       "  <th>Covariance Type:</th>      <td>nonrobust</td>    <th>                     </th>     <td> </td>   \n",
       "</tr>\n",
       "</table>\n",
       "<table class=\"simpletable\">\n",
       "<tr>\n",
       "      <td></td>         <th>coef</th>     <th>std err</th>      <th>t</th>      <th>P>|t|</th>  <th>[0.025</th>    <th>0.975]</th>  \n",
       "</tr>\n",
       "<tr>\n",
       "  <th>Intercept</th> <td>    4.9887</td> <td>    0.921</td> <td>    5.416</td> <td> 0.000</td> <td>    3.179</td> <td>    6.798</td>\n",
       "</tr>\n",
       "<tr>\n",
       "  <th>var1</th>      <td>    0.0709</td> <td>    0.032</td> <td>    2.225</td> <td> 0.027</td> <td>    0.008</td> <td>    0.133</td>\n",
       "</tr>\n",
       "<tr>\n",
       "  <th>var2</th>      <td>    0.3225</td> <td>    0.044</td> <td>    7.305</td> <td> 0.000</td> <td>    0.236</td> <td>    0.409</td>\n",
       "</tr>\n",
       "<tr>\n",
       "  <th>var3</th>      <td>    0.5329</td> <td>    0.037</td> <td>   14.587</td> <td> 0.000</td> <td>    0.461</td> <td>    0.605</td>\n",
       "</tr>\n",
       "</table>\n",
       "<table class=\"simpletable\">\n",
       "<tr>\n",
       "  <th>Omnibus:</th>       <td> 0.401</td> <th>  Durbin-Watson:     </th> <td>   1.908</td>\n",
       "</tr>\n",
       "<tr>\n",
       "  <th>Prob(Omnibus):</th> <td> 0.818</td> <th>  Jarque-Bera (JB):  </th> <td>   0.246</td>\n",
       "</tr>\n",
       "<tr>\n",
       "  <th>Skew:</th>          <td>-0.022</td> <th>  Prob(JB):          </th> <td>   0.884</td>\n",
       "</tr>\n",
       "<tr>\n",
       "  <th>Kurtosis:</th>      <td> 3.099</td> <th>  Cond. No.          </th> <td>    382.</td>\n",
       "</tr>\n",
       "</table><br/><br/>Warnings:<br/>[1] Standard Errors assume that the covariance matrix of the errors is correctly specified."
      ],
      "text/plain": [
       "<class 'statsmodels.iolib.summary.Summary'>\n",
       "\"\"\"\n",
       "                            OLS Regression Results                            \n",
       "==============================================================================\n",
       "Dep. Variable:                      y   R-squared:                       0.356\n",
       "Model:                            OLS   Adj. R-squared:                  0.352\n",
       "Method:                 Least Squares   F-statistic:                     91.39\n",
       "Date:                Tue, 16 Apr 2019   Prob (F-statistic):           4.30e-47\n",
       "Time:                        20:07:54   Log-Likelihood:                -874.02\n",
       "No. Observations:                 500   AIC:                             1756.\n",
       "Df Residuals:                     496   BIC:                             1773.\n",
       "Df Model:                           3                                         \n",
       "Covariance Type:            nonrobust                                         \n",
       "==============================================================================\n",
       "                 coef    std err          t      P>|t|      [0.025      0.975]\n",
       "------------------------------------------------------------------------------\n",
       "Intercept      4.9887      0.921      5.416      0.000       3.179       6.798\n",
       "var1           0.0709      0.032      2.225      0.027       0.008       0.133\n",
       "var2           0.3225      0.044      7.305      0.000       0.236       0.409\n",
       "var3           0.5329      0.037     14.587      0.000       0.461       0.605\n",
       "==============================================================================\n",
       "Omnibus:                        0.401   Durbin-Watson:                   1.908\n",
       "Prob(Omnibus):                  0.818   Jarque-Bera (JB):                0.246\n",
       "Skew:                          -0.022   Prob(JB):                        0.884\n",
       "Kurtosis:                       3.099   Cond. No.                         382.\n",
       "==============================================================================\n",
       "\n",
       "Warnings:\n",
       "[1] Standard Errors assume that the covariance matrix of the errors is correctly specified.\n",
       "\"\"\""
      ]
     },
     "execution_count": 5,
     "metadata": {},
     "output_type": "execute_result"
    }
   ],
   "source": [
    "import pandas as pd\n",
    "data = pd.DataFrame(X, columns=\"const,var1,var2,var3\".split(\",\"))\n",
    "data[\"y\"] = y\n",
    "results = smf.ols(\"y~var1+var2+var3\", data).fit()\n",
    "results.summary()"
   ]
  },
  {
   "cell_type": "code",
   "execution_count": 6,
   "metadata": {},
   "outputs": [
    {
     "data": {
      "text/plain": [
       "0    10.190154\n",
       "1     9.681197\n",
       "2    10.531566\n",
       "3     9.061715\n",
       "4     9.168111\n",
       "dtype: float64"
      ]
     },
     "execution_count": 6,
     "metadata": {},
     "output_type": "execute_result"
    }
   ],
   "source": [
    "results.predict(data[:5])"
   ]
  },
  {
   "cell_type": "code",
   "execution_count": 7,
   "metadata": {},
   "outputs": [
    {
     "data": {
      "text/plain": [
       "array([10.10989067, 11.50080798,  6.64404432,  9.24792969,  9.06743422])"
      ]
     },
     "execution_count": 7,
     "metadata": {},
     "output_type": "execute_result"
    }
   ],
   "source": [
    "y[:5]"
   ]
  },
  {
   "cell_type": "markdown",
   "metadata": {},
   "source": [
    "### Autoregressive Time Series "
   ]
  },
  {
   "cell_type": "code",
   "execution_count": 13,
   "metadata": {},
   "outputs": [
    {
     "data": {
      "text/plain": [
       "array([ 4.        ,  4.        ,  1.8341935 ,  1.48961368,  1.02934339,\n",
       "        0.77503669,  0.46211241,  0.38831705,  0.01156281,  0.24286372,\n",
       "       -0.1724352 ,  0.46832851,  0.39871877,  0.3559631 , -0.10822737,\n",
       "       -0.19335087,  0.00723531,  0.3819059 , -0.12793255,  0.18843265,\n",
       "        0.34245406, -0.21671975,  0.42853952,  0.44600636,  0.18784942,\n",
       "       -0.09243029, -0.30747568,  0.13384781, -0.20235526,  0.44526582,\n",
       "        0.35563615,  0.46818134,  0.2981005 ,  0.29169219,  0.32306306,\n",
       "        0.76421547, -0.08691831,  0.67214685, -0.0688    ,  0.48049011,\n",
       "       -0.41058494,  0.57529644, -0.35711183,  0.11009298, -0.58079554,\n",
       "       -0.07454406, -0.47634739, -0.07914306,  0.30499578,  0.08900433,\n",
       "       -0.42255844, -0.8546123 , -0.31439332, -0.82664626,  0.01402777,\n",
       "       -0.43502386,  0.07879263,  0.30660912,  0.37569716,  0.11343556,\n",
       "       -0.06465325,  0.50350115,  0.09549889,  0.41426538,  0.13782285,\n",
       "        0.58286818,  0.16667549,  0.18494218,  0.47115045,  0.16571054,\n",
       "        0.54345241,  0.49097368,  0.150071  ,  0.59386717,  0.40503726,\n",
       "        0.75252594,  0.25500721,  0.47765083,  0.28483437,  0.63392446,\n",
       "       -0.24954127,  0.07970917, -0.0410945 ,  0.1849197 ,  0.31355252,\n",
       "        0.40060537, -0.25494228,  0.10877818,  0.43389485, -0.54982708,\n",
       "        0.38477609, -0.37753362,  0.05492013,  0.02667374,  0.51760029,\n",
       "        0.22093089,  0.800804  ,  0.47789354,  0.51660186,  0.75670768,\n",
       "        0.82650308,  0.52151983])"
      ]
     },
     "execution_count": 13,
     "metadata": {},
     "output_type": "execute_result"
    }
   ],
   "source": [
    "init_x = 4\n",
    "time_series = np.array([init_x, init_x])\n",
    "lag_coff = [0.4, 0.11]\n",
    "N = 100\n",
    "noise = norm_dist(mean=0, variance=0.1, size=N)\n",
    "for i in range(N):\n",
    "    next_value = time_series[-1] * lag_coff[-1] + time_series[-2] * lag_coff[-2] + noise[i]\n",
    "    # next_value depends on previous two values\n",
    "    time_series = np.append(time_series, next_value)\n",
    "\n",
    "time_series"
   ]
  },
  {
   "cell_type": "code",
   "execution_count": 17,
   "metadata": {},
   "outputs": [],
   "source": [
    "## for real world data we can't know number of lag terms so we guess that slightly high\n",
    "MAX_LAGS = 5\n",
    "model = sm.tsa.AR(time_series)\n",
    "results = model.fit(MAX_LAGS)"
   ]
  },
  {
   "cell_type": "code",
   "execution_count": 20,
   "metadata": {},
   "outputs": [
    {
     "data": {
      "text/plain": [
       "array([ 0.074626  ,  0.14619054,  0.48062425, -0.04383747,  0.04807169,\n",
       "       -0.06327487])"
      ]
     },
     "execution_count": 20,
     "metadata": {},
     "output_type": "execute_result"
    }
   ],
   "source": [
    "results.params"
   ]
  },
  {
   "cell_type": "code",
   "execution_count": null,
   "metadata": {},
   "outputs": [],
   "source": []
  }
 ],
 "metadata": {
  "kernelspec": {
   "display_name": "Python 3",
   "language": "python",
   "name": "python3"
  },
  "language_info": {
   "codemirror_mode": {
    "name": "ipython",
    "version": 3
   },
   "file_extension": ".py",
   "mimetype": "text/x-python",
   "name": "python",
   "nbconvert_exporter": "python",
   "pygments_lexer": "ipython3",
   "version": "3.6.5"
  }
 },
 "nbformat": 4,
 "nbformat_minor": 2
}
