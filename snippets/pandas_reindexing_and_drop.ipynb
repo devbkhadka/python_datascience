{
 "cells": [
  {
   "cell_type": "code",
   "execution_count": 9,
   "metadata": {},
   "outputs": [
    {
     "name": "stdout",
     "output_type": "stream",
     "text": [
      "Tom           0\n",
      "Bob           1\n",
      "Alice        10\n",
      "Jhonathan     4\n",
      "Rihan         3\n",
      "dtype: int64\n",
      "Alice        10.0\n",
      "Bob           1.0\n",
      "Elsa          NaN\n",
      "Jhonathan     4.0\n",
      "Rihan         3.0\n",
      "Tom           0.0\n",
      "dtype: float64\n"
     ]
    }
   ],
   "source": [
    "from pandas import Series, DataFrame\n",
    "customers = {\n",
    "    'name':['Tom', 'Bob', 'Alice', 'Jhonathan', 'Rihan'],\n",
    "    'visits_last_month': [0, 1, 10, 4, 3],\n",
    "    'orders_last_month': [0, 5, 0, 2, 6],\n",
    "    'total_orders': [50, 80, 25, 27, 18]\n",
    "}\n"
   ]
  },
  {
   "cell_type": "markdown",
   "metadata": {},
   "source": [
    "### Reindex Series"
   ]
  },
  {
   "cell_type": "code",
   "execution_count": 18,
   "metadata": {},
   "outputs": [
    {
     "name": "stdout",
     "output_type": "stream",
     "text": [
      "Before reindexing\n",
      " Tom           0\n",
      "Bob           1\n",
      "Alice        10\n",
      "Jhonathan     4\n",
      "Rihan         3\n",
      "dtype: int64 \n",
      "\n",
      "\n",
      "After reindexing, reordered and added Elsa\n",
      " Alice        10.0\n",
      "Bob           1.0\n",
      "Elsa          NaN\n",
      "Jhonathan     4.0\n",
      "Rihan         3.0\n",
      "Tom           0.0\n",
      "dtype: float64 \n",
      "\n",
      "\n",
      "Reindexing with forward fill \"ffil\". \"peter added\"\n",
      " Alice        10.0\n",
      "Bob           1.0\n",
      "Elsa          NaN\n",
      "Jhonathan     4.0\n",
      "Peter         4.0\n",
      "Rihan         3.0\n",
      "Tom           0.0\n",
      "dtype: float64\n"
     ]
    },
    {
     "data": {
      "text/plain": [
       "Index(['Alice', 'Bob', 'Jhonathan', 'Rihan', 'Tom'], dtype='object')"
      ]
     },
     "execution_count": 18,
     "metadata": {},
     "output_type": "execute_result"
    }
   ],
   "source": [
    "visits_last_month = Series(customers['visits_last_month'], customers['name'])\n",
    "\n",
    "print('Before reindexing\\n', visits_last_month, '\\n\\n')\n",
    "\n",
    "visits_last_month2 = visits_last_month.reindex(['Alice', 'Bob', 'Elsa' , 'Jhonathan', 'Rihan', 'Tom'])\n",
    "print('After reindexing, reordered and added Elsa\\n', visits_last_month2, '\\n\\n')\n",
    "\n",
    "visits_last_month3 = visits_last_month2.reindex(['Alice', 'Bob', 'Elsa' , 'Jhonathan', 'Peter', 'Rihan', 'Tom']\n",
    "                                                , method='ffill')\n",
    "print('Reindexing with forward fill \"ffill\". \"peter added\"\\n', visits_last_month3)\n",
    "## forwared fill needs index to be monotonous ie either increasing or decreasing\n",
    "\n",
    "visits_last_month.index.sort_values()\n"
   ]
  },
  {
   "cell_type": "markdown",
   "metadata": {},
   "source": [
    "### Dataframe Reindexing"
   ]
  },
  {
   "cell_type": "code",
   "execution_count": 63,
   "metadata": {},
   "outputs": [
    {
     "name": "stdout",
     "output_type": "stream",
     "text": [
      "                name  orders_last_month  total_orders  visits_last_month\n",
      "Alice            Tom                  0             0                 50\n",
      "Bob              Bob                  1             5                 80\n",
      "Jhonathan      Alice                 10             0                 25\n",
      "Rihan      Jhonathan                  4             2                 27\n",
      "Tom            Rihan                  3             6                 18 \n",
      "\n",
      "\n",
      "Fill from index next to new index\n",
      "           visits_last_month  orders_last_month  friends\n",
      "Alice                     50                  0      NaN\n",
      "Bob                       80                  1      NaN\n",
      "Elsa                      25                 10      NaN\n",
      "Jhonathan                 25                 10      NaN\n",
      "Peter                     27                  4      NaN\n",
      "Rihan                     27                  4      NaN\n",
      "Tom                       18                  3      NaN\n"
     ]
    }
   ],
   "source": [
    "df_customers = DataFrame(customers, customers['name'])\n",
    "df_customers.index = df_customers.index.sort_values()\n",
    "df_customers.columns = df_customers.columns.sort_values()\n",
    "print(df_customers, '\\n\\n')\n",
    "print('Fill from index next to new index')\n",
    "df_customers2 = df_customers.reindex(['Alice', 'Bob', 'Elsa',  'Jhonathan', 'Peter' , 'Rihan', 'Tom'],  method='bfill')\n",
    "df_customers2 = df_customers2.reindex(columns=['visits_last_month', 'orders_last_month', 'friends'])\n",
    "print(df_customers2)"
   ]
  },
  {
   "cell_type": "markdown",
   "metadata": {},
   "source": [
    "### Reindexing Short Cut (Deprecated)"
   ]
  },
  {
   "cell_type": "code",
   "execution_count": 59,
   "metadata": {},
   "outputs": [
    {
     "name": "stderr",
     "output_type": "stream",
     "text": [
      "/Users/devbhadurkhadka/.pyenv/versions/anaconda3-5.2.0/lib/python3.6/site-packages/ipykernel_launcher.py:2: FutureWarning: \n",
      "Passing list-likes to .loc or [] with any missing label will raise\n",
      "KeyError in the future, you can use .reindex() as an alternative.\n",
      "\n",
      "See the documentation here:\n",
      "https://pandas.pydata.org/pandas-docs/stable/indexing.html#deprecate-loc-reindex-listlike\n",
      "  \n"
     ]
    },
    {
     "data": {
      "text/html": [
       "<div>\n",
       "<style scoped>\n",
       "    .dataframe tbody tr th:only-of-type {\n",
       "        vertical-align: middle;\n",
       "    }\n",
       "\n",
       "    .dataframe tbody tr th {\n",
       "        vertical-align: top;\n",
       "    }\n",
       "\n",
       "    .dataframe thead th {\n",
       "        text-align: right;\n",
       "    }\n",
       "</style>\n",
       "<table border=\"1\" class=\"dataframe\">\n",
       "  <thead>\n",
       "    <tr style=\"text-align: right;\">\n",
       "      <th></th>\n",
       "      <th>visits_last_month</th>\n",
       "      <th>orders_last_month</th>\n",
       "      <th>friends</th>\n",
       "    </tr>\n",
       "  </thead>\n",
       "  <tbody>\n",
       "    <tr>\n",
       "      <th>Alice</th>\n",
       "      <td>50.0</td>\n",
       "      <td>0.0</td>\n",
       "      <td>NaN</td>\n",
       "    </tr>\n",
       "    <tr>\n",
       "      <th>Bob</th>\n",
       "      <td>80.0</td>\n",
       "      <td>1.0</td>\n",
       "      <td>NaN</td>\n",
       "    </tr>\n",
       "    <tr>\n",
       "      <th>Elsa</th>\n",
       "      <td>NaN</td>\n",
       "      <td>NaN</td>\n",
       "      <td>NaN</td>\n",
       "    </tr>\n",
       "    <tr>\n",
       "      <th>Jhonathan</th>\n",
       "      <td>25.0</td>\n",
       "      <td>10.0</td>\n",
       "      <td>NaN</td>\n",
       "    </tr>\n",
       "    <tr>\n",
       "      <th>Peter</th>\n",
       "      <td>NaN</td>\n",
       "      <td>NaN</td>\n",
       "      <td>NaN</td>\n",
       "    </tr>\n",
       "    <tr>\n",
       "      <th>Rihan</th>\n",
       "      <td>27.0</td>\n",
       "      <td>4.0</td>\n",
       "      <td>NaN</td>\n",
       "    </tr>\n",
       "    <tr>\n",
       "      <th>Tom</th>\n",
       "      <td>18.0</td>\n",
       "      <td>3.0</td>\n",
       "      <td>NaN</td>\n",
       "    </tr>\n",
       "  </tbody>\n",
       "</table>\n",
       "</div>"
      ],
      "text/plain": [
       "           visits_last_month  orders_last_month  friends\n",
       "Alice                   50.0                0.0      NaN\n",
       "Bob                     80.0                1.0      NaN\n",
       "Elsa                     NaN                NaN      NaN\n",
       "Jhonathan               25.0               10.0      NaN\n",
       "Peter                    NaN                NaN      NaN\n",
       "Rihan                   27.0                4.0      NaN\n",
       "Tom                     18.0                3.0      NaN"
      ]
     },
     "execution_count": 59,
     "metadata": {},
     "output_type": "execute_result"
    }
   ],
   "source": [
    "df_customers.loc[['Alice', 'Bob', 'Elsa',  'Jhonathan', 'Peter' , 'Rihan', 'Tom'], \n",
    "                 ['visits_last_month', 'orders_last_month', 'friends']]"
   ]
  },
  {
   "cell_type": "markdown",
   "metadata": {},
   "source": [
    "### Droping Axies"
   ]
  },
  {
   "cell_type": "code",
   "execution_count": 68,
   "metadata": {},
   "outputs": [
    {
     "name": "stdout",
     "output_type": "stream",
     "text": [
      "           visits_last_month  orders_last_month  friends\n",
      "Alice                     50                  0      NaN\n",
      "Bob                       80                  1      NaN\n",
      "Elsa                      25                 10      NaN\n",
      "Jhonathan                 25                 10      NaN\n",
      "Peter                     27                  4      NaN\n",
      "Rihan                     27                  4      NaN\n",
      "Tom                       18                  3      NaN\n"
     ]
    }
   ],
   "source": [
    "print(df_customers2)\n",
    "df_customers3 = df_customers2.drop(['Elsa', 'Alice'])\n",
    "df_customers3.drop('friends', axis=1, inplace=True)"
   ]
  },
  {
   "cell_type": "code",
   "execution_count": null,
   "metadata": {},
   "outputs": [],
   "source": []
  }
 ],
 "metadata": {
  "kernelspec": {
   "display_name": "Python 3",
   "language": "python",
   "name": "python3"
  },
  "language_info": {
   "codemirror_mode": {
    "name": "ipython",
    "version": 3
   },
   "file_extension": ".py",
   "mimetype": "text/x-python",
   "name": "python",
   "nbconvert_exporter": "python",
   "pygments_lexer": "ipython3",
   "version": "3.6.5"
  }
 },
 "nbformat": 4,
 "nbformat_minor": 2
}
