{
 "cells": [
  {
   "cell_type": "markdown",
   "metadata": {},
   "source": [
    "### Tuple"
   ]
  },
  {
   "cell_type": "code",
   "execution_count": 19,
   "metadata": {},
   "outputs": [
    {
     "name": "stdout",
     "output_type": "stream",
     "text": [
      "(1, 7, 4, 2, 8, 8, 0, 12)\n",
      "(1, 7, 4, 2, 8, 8, 0, 12, 1, 7, 4, 2, 8, 8, 0, 12)\n",
      "1\n",
      "7\n",
      "[4, 2]\n",
      "7\n",
      "1\n",
      "1 : 7 : [4, 2]\n",
      "[1, 7, 4, 'five', 2, 'one']\n",
      "one\n",
      "[1, 7, 4, 'five', 2]\n"
     ]
    }
   ],
   "source": [
    "tup = (1,7,4,2)\n",
    "new_tup = tup + (8,8) + (0,12) # concat tuples\n",
    "print(new_tup)\n",
    "new_tup = new_tup*2 # repeat tuple two times\n",
    "print(new_tup)"
   ]
  },
  {
   "cell_type": "markdown",
   "metadata": {},
   "source": [
    "### Un-pack tuple"
   ]
  },
  {
   "cell_type": "code",
   "execution_count": 20,
   "metadata": {},
   "outputs": [
    {
     "name": "stdout",
     "output_type": "stream",
     "text": [
      "1\n",
      "7\n",
      "[4, 2]\n",
      "7\n",
      "1\n"
     ]
    }
   ],
   "source": [
    "#### un-pack tuple ####\n",
    "a, b, *others = tup \n",
    "print(a)\n",
    "print(b)\n",
    "print(others)\n",
    "\n",
    "\n",
    "#### swap vairable ####\n",
    "a, b = b, a \n",
    "print(a)\n",
    "print(b)"
   ]
  },
  {
   "cell_type": "markdown",
   "metadata": {},
   "source": [
    "### List up-packing and operations"
   ]
  },
  {
   "cell_type": "code",
   "execution_count": 22,
   "metadata": {},
   "outputs": [
    {
     "name": "stdout",
     "output_type": "stream",
     "text": [
      "1 : 7 : [4, 2]\n",
      "[1, 7, 4, 'five', 2, 'one']\n",
      "one\n",
      "[1, 7, 4, 'five', 2]\n"
     ]
    }
   ],
   "source": [
    "#### List ####\n",
    "lst = [1,7,4,2]\n",
    "a, b, *others = lst\n",
    "print(a, b, others, sep=\" : \")\n",
    "lst.append('one')\n",
    "lst.insert(3, 'five')\n",
    "print(lst)\n",
    "print(lst.pop())\n",
    "print(lst)"
   ]
  },
  {
   "cell_type": "markdown",
   "metadata": {},
   "source": [
    "### Binary search"
   ]
  },
  {
   "cell_type": "code",
   "execution_count": 28,
   "metadata": {},
   "outputs": [
    {
     "name": "stdout",
     "output_type": "stream",
     "text": [
      "3\n",
      "[2, 6, 11, 33]\n",
      "[2, 6, 11, 18, 33]\n"
     ]
    }
   ],
   "source": [
    "from bisect import bisect, insort\n",
    "sorted_list = [2,6,11,33]\n",
    "print(bisect(sorted_list,18)) # find position to insert value to maintain sorted list\n",
    "print(sorted_list)\n",
    "insort(sorted_list, 18) # insert value to correct position\n",
    "print(sorted_list)"
   ]
  },
  {
   "cell_type": "markdown",
   "metadata": {},
   "source": [
    "### Slicing"
   ]
  },
  {
   "cell_type": "code",
   "execution_count": 41,
   "metadata": {},
   "outputs": [
    {
     "name": "stdout",
     "output_type": "stream",
     "text": [
      "[5, 6, 7, 8, 9, 10, 11, 12, 13, 14]\n",
      "[5, 8, 11, 14]\n",
      "[10, 11, 12, 13, 14, 15, 16, 17, 18, 19, 20, 21, 22, 23, 24, 25, 26, 27, 28, 29]\n",
      "[30, 31, 32, 33, 34, 35, 36, 37, 38]\n",
      "[39, 38, 37, 36, 35, 34, 33, 32, 31, 30, 29, 28, 27, 26, 25, 24, 23, 22, 21, 20, 19, 18, 17, 16, 15, 14, 13, 12, 11, 10, 9, 8, 7, 6, 5, 4, 3, 2, 1, 0]\n"
     ]
    }
   ],
   "source": [
    "lst = list(range(40))\n",
    "\n",
    "print(lst[5:15]) # get elements in range 5-10 not including 10\n",
    "print(lst[5:15:3]) # get elements starting from 5 then every 3rd element until 15\n",
    "print(lst[10:-10]) # trim ten items from start and end\n",
    "print(lst[-10:-1])\n",
    "print(lst[::-1]) # reverse"
   ]
  },
  {
   "cell_type": "markdown",
   "metadata": {},
   "source": [
    "### Sort"
   ]
  },
  {
   "cell_type": "code",
   "execution_count": 49,
   "metadata": {},
   "outputs": [
    {
     "name": "stdout",
     "output_type": "stream",
     "text": [
      "['five', 'four', 'one', 'six', 'three', 'two']\n",
      "['one', 'two', 'six', 'four', 'five', 'three']\n"
     ]
    }
   ],
   "source": [
    "lst = ['one', 'two', 'three', 'four', 'five', 'six']\n",
    "sort_alphabetically = sorted(lst)\n",
    "print(sort_alphabetically)\n",
    "sort_by_len = sorted(lst, key= lambda s:len(s))\n",
    "print(sort_by_len)"
   ]
  },
  {
   "cell_type": "markdown",
   "metadata": {},
   "source": [
    "### Zip\n",
    "combine two or more lists by taking one item from each at a time till one of the list ends."
   ]
  },
  {
   "cell_type": "code",
   "execution_count": 62,
   "metadata": {},
   "outputs": [
    {
     "name": "stdout",
     "output_type": "stream",
     "text": [
      "[(1, 'one'), (2, 'two'), (3, 'three'), (4, 'four'), (5, 'five'), (6, 'six')]\n",
      "[(1, 2, 3, 4, 5, 6), ('one', 'two', 'three', 'four', 'five', 'six')]\n"
     ]
    }
   ],
   "source": [
    "lst_a = ['one', 'two', 'three', 'four', 'five', 'six']\n",
    "lst_n = [1,2,3,4,5,6,7]\n",
    "zipped = list(zip(lst_n, lst_a))\n",
    "print(zipped)\n",
    "\n",
    "#### UNZIP ####\n",
    "unzipped = list(zip(*zipped)) # \"*zipped\" passes individual tuple of zipped list as parameters to zip function. \n",
    "                            # zip then combines all those to give two original lists\n",
    "print(unzipped)\n"
   ]
  },
  {
   "cell_type": "markdown",
   "metadata": {},
   "source": [
    "### Dict"
   ]
  },
  {
   "cell_type": "code",
   "execution_count": 72,
   "metadata": {},
   "outputs": [
    {
     "name": "stdout",
     "output_type": "stream",
     "text": [
      "{1: 'one', 2: 'two', 3: 'three', 4: 'four', 5: 'five', 6: 'six'}\n",
      "four\n",
      "{2: 'two', 3: 'three', 5: 'five', 6: 'six'}\n",
      "{2: 'two', 3: 'three', 5: 'eight', 6: 'six', 7: 'seven'}\n",
      "None\n",
      "not_found\n",
      "two\n",
      "{2: 'two', 3: 'three', 5: 'eight', 6: 'six', 7: 'seven', 1: [0, 1, 2, 3]}\n"
     ]
    }
   ],
   "source": [
    "lst_a = ['one', 'two', 'three', 'four', 'five', 'six']\n",
    "lst_n = [1,2,3,4,5,6,7]\n",
    "n_dict = dict(zip(lst_n, lst_a)) # dict is collection of tuples of size 2. It can be created using sequence of tuples.\n",
    "print(n_dict)\n",
    "\n",
    "#### delete ####\n",
    "del n_dict[1] # delete key '1' from dictionary\n",
    "print(n_dict.pop(4)) # return item with key 4 and remove it\n",
    "print(n_dict)\n",
    "\n",
    "#### Update ####\n",
    "n_dict.update({7:'seven', 5:'eight'}) # add keys or updated existing keys\n",
    "print(n_dict)\n",
    "\n",
    "#### get with default #####\n",
    "print(n_dict.get(1))\n",
    "print(n_dict.get(1, 'not_found'))\n",
    "print(n_dict.get(2, 'not_found'))\n",
    "\n",
    "#### set default ####\n",
    "for i in range(4):\n",
    "    n_dict.setdefault(1, []).append(i) \n",
    "print(n_dict)"
   ]
  },
  {
   "cell_type": "markdown",
   "metadata": {},
   "source": [
    "### Defaultdic"
   ]
  },
  {
   "cell_type": "code",
   "execution_count": 76,
   "metadata": {},
   "outputs": [
    {
     "name": "stdout",
     "output_type": "stream",
     "text": [
      "defaultdict(<function <lambda> at 0x10964fb70>, {1: ['one', 'two'], 3: ['three', 'four']})\n"
     ]
    }
   ],
   "source": [
    "from collections import defaultdict\n",
    "def_dic = defaultdict(lambda: []) # takes default value generator function\n",
    "def_dic[1].append('one') # returns default value (empty list here) if key doesn't exists\n",
    "def_dic[1].append('two')\n",
    "def_dic[3].append('three')\n",
    "def_dic[3].append('four')\n",
    "print(def_dic)"
   ]
  },
  {
   "cell_type": "markdown",
   "metadata": {},
   "source": [
    "### Dictionary key\n",
    "Dictionary key must be imutable or hashable\n"
   ]
  },
  {
   "cell_type": "code",
   "execution_count": 79,
   "metadata": {},
   "outputs": [
    {
     "name": "stdout",
     "output_type": "stream",
     "text": [
      "499680199356237104\n"
     ]
    },
    {
     "ename": "TypeError",
     "evalue": "unhashable type: 'list'",
     "output_type": "error",
     "traceback": [
      "\u001b[0;31m---------------------------------------------------------------------------\u001b[0m",
      "\u001b[0;31mTypeError\u001b[0m                                 Traceback (most recent call last)",
      "\u001b[0;32m<ipython-input-79-99699dca370d>\u001b[0m in \u001b[0;36m<module>\u001b[0;34m()\u001b[0m\n\u001b[1;32m      1\u001b[0m \u001b[0mprint\u001b[0m\u001b[0;34m(\u001b[0m\u001b[0mhash\u001b[0m\u001b[0;34m(\u001b[0m\u001b[0;34m'String is hashable'\u001b[0m\u001b[0;34m)\u001b[0m\u001b[0;34m)\u001b[0m\u001b[0;34m\u001b[0m\u001b[0m\n\u001b[0;32m----> 2\u001b[0;31m \u001b[0mprint\u001b[0m\u001b[0;34m(\u001b[0m\u001b[0mhash\u001b[0m\u001b[0;34m(\u001b[0m\u001b[0mlist\u001b[0m\u001b[0;34m(\u001b[0m\u001b[0;34m'List is not hashable'\u001b[0m\u001b[0;34m)\u001b[0m\u001b[0;34m)\u001b[0m\u001b[0;34m)\u001b[0m \u001b[0;31m# this will raise error\u001b[0m\u001b[0;34m\u001b[0m\u001b[0m\n\u001b[0m",
      "\u001b[0;31mTypeError\u001b[0m: unhashable type: 'list'"
     ]
    }
   ],
   "source": [
    "print(hash('String is hashable'))\n",
    "print(hash(list('List is not hashable'))) # this will raise error"
   ]
  },
  {
   "cell_type": "code",
   "execution_count": 80,
   "metadata": {},
   "outputs": [
    {
     "ename": "TypeError",
     "evalue": "unhashable type: 'list'",
     "output_type": "error",
     "traceback": [
      "\u001b[0;31m---------------------------------------------------------------------------\u001b[0m",
      "\u001b[0;31mTypeError\u001b[0m                                 Traceback (most recent call last)",
      "\u001b[0;32m<ipython-input-80-04eff7fad653>\u001b[0m in \u001b[0;36m<module>\u001b[0;34m()\u001b[0m\n\u001b[1;32m      1\u001b[0m \u001b[0mdic\u001b[0m \u001b[0;34m=\u001b[0m \u001b[0;34m{\u001b[0m\u001b[0;34m}\u001b[0m\u001b[0;34m\u001b[0m\u001b[0m\n\u001b[0;32m----> 2\u001b[0;31m \u001b[0mdic\u001b[0m\u001b[0;34m[\u001b[0m\u001b[0;34m[\u001b[0m\u001b[0;36m1\u001b[0m\u001b[0;34m,\u001b[0m\u001b[0;36m2\u001b[0m\u001b[0;34m,\u001b[0m\u001b[0;36m3\u001b[0m\u001b[0;34m]\u001b[0m\u001b[0;34m]\u001b[0m \u001b[0;34m=\u001b[0m \u001b[0;34m'value'\u001b[0m \u001b[0;31m# this will raise error\u001b[0m\u001b[0;34m\u001b[0m\u001b[0m\n\u001b[0m",
      "\u001b[0;31mTypeError\u001b[0m: unhashable type: 'list'"
     ]
    }
   ],
   "source": [
    "dic = {}\n",
    "dic[[1,2,3]] = 'value' # this will raise error"
   ]
  },
  {
   "cell_type": "markdown",
   "metadata": {},
   "source": [
    "### Set\n",
    "unordered collection of distinct items. It can be thought of as dict without values. Set items should also be hashable."
   ]
  },
  {
   "cell_type": "code",
   "execution_count": 93,
   "metadata": {},
   "outputs": [
    {
     "name": "stdout",
     "output_type": "stream",
     "text": [
      "union: evens|odds {0, 1, 2, 3, 4, 5, 6, 7, 8, 9, 10, 11, 12}\n",
      "intersection: odds & multiple_of_3 {9, 3}\n",
      "difference: evens - multiple_of_3 {8, 2, 10, 4}\n",
      "Exclusive or: evens ^ multiple_of_3 {2, 3, 4, 8, 9, 10}\n"
     ]
    }
   ],
   "source": [
    "evens = {0,2,4,6,8,10,12}\n",
    "odds = {1,3,5,7,9,11}\n",
    "multiple_of_3 = {0,3,6,9,12}\n",
    "\n",
    "print('union: evens|odds', evens|odds)\n",
    "print('intersection: odds & multiple_of_3', odds & multiple_of_3)\n",
    "print('difference: evens - multiple_of_3', evens - multiple_of_3)\n",
    "print('Exclusive or: evens ^ multiple_of_3', evens ^ multiple_of_3) #items in either set except items in both)"
   ]
  },
  {
   "cell_type": "code",
   "execution_count": 96,
   "metadata": {},
   "outputs": [
    {
     "name": "stdout",
     "output_type": "stream",
     "text": [
      "True\n"
     ]
    }
   ],
   "source": [
    "#### compare sets ####\n",
    "a = {1,4,5}\n",
    "b = {4,1,5,4}\n",
    "print(a==b)"
   ]
  },
  {
   "cell_type": "code",
   "execution_count": null,
   "metadata": {},
   "outputs": [],
   "source": []
  }
 ],
 "metadata": {
  "kernelspec": {
   "display_name": "Python 3",
   "language": "python",
   "name": "python3"
  },
  "language_info": {
   "codemirror_mode": {
    "name": "ipython",
    "version": 3
   },
   "file_extension": ".py",
   "mimetype": "text/x-python",
   "name": "python",
   "nbconvert_exporter": "python",
   "pygments_lexer": "ipython3",
   "version": "3.6.5"
  }
 },
 "nbformat": 4,
 "nbformat_minor": 2
}
