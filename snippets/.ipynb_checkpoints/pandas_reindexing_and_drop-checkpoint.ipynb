{
 "cells": [
  {
   "cell_type": "code",
   "execution_count": 9,
   "metadata": {},
   "outputs": [
    {
     "name": "stdout",
     "output_type": "stream",
     "text": [
      "Tom           0\n",
      "Bob           1\n",
      "Alice        10\n",
      "Jhonathan     4\n",
      "Rihan         3\n",
      "dtype: int64\n",
      "Alice        10.0\n",
      "Bob           1.0\n",
      "Elsa          NaN\n",
      "Jhonathan     4.0\n",
      "Rihan         3.0\n",
      "Tom           0.0\n",
      "dtype: float64\n"
     ]
    }
   ],
   "source": [
    "from pandas import Series, DataFrame\n",
    "customers = {\n",
    "    'name':['Tom', 'Bob', 'Alice', 'Jhonathan', 'Rihan'],\n",
    "    'visits_last_month': [0, 1, 10, 4, 3],\n",
    "    'orders_last_month': [0, 5, 0, 2, 6],\n",
    "    'total_orders': [50, 80, 25, 27, 18]\n",
    "}\n"
   ]
  },
  {
   "cell_type": "markdown",
   "metadata": {},
   "source": [
    "### Reindex Series"
   ]
  },
  {
   "cell_type": "code",
   "execution_count": 18,
   "metadata": {},
   "outputs": [
    {
     "name": "stdout",
     "output_type": "stream",
     "text": [
      "Before reindexing\n",
      " Tom           0\n",
      "Bob           1\n",
      "Alice        10\n",
      "Jhonathan     4\n",
      "Rihan         3\n",
      "dtype: int64 \n",
      "\n",
      "\n",
      "After reindexing, reordered and added Elsa\n",
      " Alice        10.0\n",
      "Bob           1.0\n",
      "Elsa          NaN\n",
      "Jhonathan     4.0\n",
      "Rihan         3.0\n",
      "Tom           0.0\n",
      "dtype: float64 \n",
      "\n",
      "\n",
      "Reindexing with forward fill \"ffil\". \"peter added\"\n",
      " Alice        10.0\n",
      "Bob           1.0\n",
      "Elsa          NaN\n",
      "Jhonathan     4.0\n",
      "Peter         4.0\n",
      "Rihan         3.0\n",
      "Tom           0.0\n",
      "dtype: float64\n"
     ]
    },
    {
     "data": {
      "text/plain": [
       "Index(['Alice', 'Bob', 'Jhonathan', 'Rihan', 'Tom'], dtype='object')"
      ]
     },
     "execution_count": 18,
     "metadata": {},
     "output_type": "execute_result"
    }
   ],
   "source": [
    "visits_last_month = Series(customers['visits_last_month'], customers['name'])\n",
    "\n",
    "print('Before reindexing\\n', visits_last_month, '\\n\\n')\n",
    "\n",
    "visits_last_month2 = visits_last_month.reindex(['Alice', 'Bob', 'Elsa' , 'Jhonathan', 'Rihan', 'Tom'])\n",
    "print('After reindexing, reordered and added Elsa\\n', visits_last_month2, '\\n\\n')\n",
    "\n",
    "visits_last_month3 = visits_last_month2.reindex(['Alice', 'Bob', 'Elsa' , 'Jhonathan', 'Peter', 'Rihan', 'Tom']\n",
    "                                                , method='ffill')\n",
    "print('Reindexing with forward fill \"ffill\". \"peter added\"\\n', visits_last_month3)\n",
    "## forwared fill needs index to be monotonous ie either increasing or decreasing\n",
    "\n",
    "visits_last_month.index.sort_values()\n"
   ]
  },
  {
   "cell_type": "markdown",
   "metadata": {},
   "source": [
    "### Dataframe Reindexing"
   ]
  },
  {
   "cell_type": "code",
   "execution_count": 27,
   "metadata": {},
   "outputs": [
    {
     "name": "stderr",
     "output_type": "stream",
     "text": [
      "UsageError: Line magic function `%print` not found.\n"
     ]
    }
   ],
   "source": [
    "df_customers = DataFrame(customers, customers['name'])\n",
    "df_customers.index = df_customers.index.sort_values()\n",
    "print(df_customers, '\\n\\n')\n",
    "df_customers.reindex(['Alice', 'Bob', 'Elsa' , 'Jhonathan', 'Rihan', 'Tom'])\n"
   ]
  },
  {
   "cell_type": "code",
   "execution_count": null,
   "metadata": {},
   "outputs": [],
   "source": []
  }
 ],
 "metadata": {
  "kernelspec": {
   "display_name": "Python 3",
   "language": "python",
   "name": "python3"
  },
  "language_info": {
   "codemirror_mode": {
    "name": "ipython",
    "version": 3
   },
   "file_extension": ".py",
   "mimetype": "text/x-python",
   "name": "python",
   "nbconvert_exporter": "python",
   "pygments_lexer": "ipython3",
   "version": "3.6.5"
  }
 },
 "nbformat": 4,
 "nbformat_minor": 2
}
