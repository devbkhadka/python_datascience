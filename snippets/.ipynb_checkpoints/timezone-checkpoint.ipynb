{
 "cells": [
  {
   "cell_type": "code",
   "execution_count": 1,
   "metadata": {},
   "outputs": [
    {
     "data": {
      "text/plain": [
       "['US/Eastern', 'US/Hawaii', 'US/Mountain', 'US/Pacific', 'UTC']"
      ]
     },
     "execution_count": 1,
     "metadata": {},
     "output_type": "execute_result"
    }
   ],
   "source": [
    "import pytz\n",
    "import pandas as pd\n",
    "pytz.common_timezones[-5:]"
   ]
  },
  {
   "cell_type": "code",
   "execution_count": 2,
   "metadata": {},
   "outputs": [
    {
     "data": {
      "text/plain": [
       "2019-04-05 00:00:00    0.609214\n",
       "2019-04-05 01:30:00    1.915918\n",
       "2019-04-05 03:00:00    0.775347\n",
       "2019-04-05 04:30:00   -0.717882\n",
       "2019-04-05 06:00:00   -0.602813\n",
       "2019-04-05 07:30:00    0.010526\n",
       "2019-04-05 09:00:00    1.655063\n",
       "2019-04-05 10:30:00    0.935983\n",
       "2019-04-05 12:00:00   -0.579434\n",
       "2019-04-05 13:30:00   -2.162209\n",
       "2019-04-05 15:00:00    0.701765\n",
       "2019-04-05 16:30:00   -1.600704\n",
       "2019-04-05 18:00:00    0.393010\n",
       "Freq: 90T, dtype: float64"
      ]
     },
     "execution_count": 2,
     "metadata": {},
     "output_type": "execute_result"
    }
   ],
   "source": [
    "import numpy as np\n",
    "tz_ktm = pytz.timezone(\"Asia/Kathmandu\")\n",
    "periods = pd.date_range(\"0:00\", \"19:00\", freq=\"1H30min\")\n",
    "\n",
    "rand = np.random.randn(len(periods))\n",
    "\n",
    "ts = pd.Series(rand, index=periods)\n",
    "ts"
   ]
  },
  {
   "cell_type": "code",
   "execution_count": 3,
   "metadata": {},
   "outputs": [
    {
     "data": {
      "text/plain": [
       "2019-04-05 00:00:00+05:45    0.609214\n",
       "2019-04-05 01:30:00+05:45    1.915918\n",
       "2019-04-05 03:00:00+05:45    0.775347\n",
       "2019-04-05 04:30:00+05:45   -0.717882\n",
       "2019-04-05 06:00:00+05:45   -0.602813\n",
       "2019-04-05 07:30:00+05:45    0.010526\n",
       "2019-04-05 09:00:00+05:45    1.655063\n",
       "2019-04-05 10:30:00+05:45    0.935983\n",
       "2019-04-05 12:00:00+05:45   -0.579434\n",
       "2019-04-05 13:30:00+05:45   -2.162209\n",
       "2019-04-05 15:00:00+05:45    0.701765\n",
       "2019-04-05 16:30:00+05:45   -1.600704\n",
       "2019-04-05 18:00:00+05:45    0.393010\n",
       "Freq: 90T, dtype: float64"
      ]
     },
     "execution_count": 3,
     "metadata": {},
     "output_type": "execute_result"
    }
   ],
   "source": [
    "ts_ktm = ts.tz_localize(\"Asia/Kathmandu\")\n",
    "ts_ktm"
   ]
  },
  {
   "cell_type": "code",
   "execution_count": 4,
   "metadata": {},
   "outputs": [
    {
     "data": {
      "text/plain": [
       "2019-04-04 23:45:00+05:30    0.609214\n",
       "2019-04-05 01:15:00+05:30    1.915918\n",
       "2019-04-05 02:45:00+05:30    0.775347\n",
       "2019-04-05 04:15:00+05:30   -0.717882\n",
       "2019-04-05 05:45:00+05:30   -0.602813\n",
       "2019-04-05 07:15:00+05:30    0.010526\n",
       "2019-04-05 08:45:00+05:30    1.655063\n",
       "2019-04-05 10:15:00+05:30    0.935983\n",
       "2019-04-05 11:45:00+05:30   -0.579434\n",
       "2019-04-05 13:15:00+05:30   -2.162209\n",
       "2019-04-05 14:45:00+05:30    0.701765\n",
       "2019-04-05 16:15:00+05:30   -1.600704\n",
       "2019-04-05 17:45:00+05:30    0.393010\n",
       "Freq: 90T, dtype: float64"
      ]
     },
     "execution_count": 4,
     "metadata": {},
     "output_type": "execute_result"
    }
   ],
   "source": [
    "ts_india = ts_ktm.tz_convert(\"Asia/Calcutta\")\n",
    "ts_india"
   ]
  },
  {
   "cell_type": "markdown",
   "metadata": {},
   "source": [
    "### Arithmetic With Different Timezone Index"
   ]
  },
  {
   "cell_type": "code",
   "execution_count": 34,
   "metadata": {},
   "outputs": [
    {
     "data": {
      "text/plain": [
       "2019-04-04 18:15:00+00:00    1.218427\n",
       "2019-04-04 19:45:00+00:00    3.831837\n",
       "2019-04-04 21:15:00+00:00    1.550694\n",
       "2019-04-04 22:45:00+00:00   -1.435763\n",
       "2019-04-05 00:15:00+00:00   -1.205626\n",
       "2019-04-05 01:45:00+00:00    0.021052\n",
       "2019-04-05 03:15:00+00:00    3.310126\n",
       "2019-04-05 04:45:00+00:00    1.871965\n",
       "2019-04-05 06:15:00+00:00   -1.158868\n",
       "2019-04-05 07:45:00+00:00   -4.324418\n",
       "2019-04-05 09:15:00+00:00    1.403530\n",
       "2019-04-05 10:45:00+00:00   -3.201407\n",
       "2019-04-05 12:15:00+00:00    0.786020\n",
       "Freq: 90T, dtype: float64"
      ]
     },
     "execution_count": 34,
     "metadata": {},
     "output_type": "execute_result"
    }
   ],
   "source": [
    "ts_ktm + ts_india ##Timezone converted to UTC"
   ]
  },
  {
   "cell_type": "code",
   "execution_count": 5,
   "metadata": {},
   "outputs": [
    {
     "data": {
      "text/plain": [
       "DatetimeIndex(['2019-04-05 00:00:00+05:45', '2019-04-05 01:30:00+05:45',\n",
       "               '2019-04-05 03:00:00+05:45', '2019-04-05 04:30:00+05:45',\n",
       "               '2019-04-05 06:00:00+05:45', '2019-04-05 07:30:00+05:45',\n",
       "               '2019-04-05 09:00:00+05:45', '2019-04-05 10:30:00+05:45',\n",
       "               '2019-04-05 12:00:00+05:45', '2019-04-05 13:30:00+05:45',\n",
       "               '2019-04-05 15:00:00+05:45', '2019-04-05 16:30:00+05:45',\n",
       "               '2019-04-05 18:00:00+05:45'],\n",
       "              dtype='datetime64[ns, Asia/Kathmandu]', freq='90T')"
      ]
     },
     "execution_count": 5,
     "metadata": {},
     "output_type": "execute_result"
    }
   ],
   "source": [
    "## date_range also takes tz parameter\n",
    "pd.date_range(\"0:00\", \"19:00\", freq=\"1H30min\", tz=\"Asia/Kathmandu\")"
   ]
  },
  {
   "cell_type": "markdown",
   "metadata": {},
   "source": [
    "### Timestamp"
   ]
  },
  {
   "cell_type": "code",
   "execution_count": 18,
   "metadata": {},
   "outputs": [
    {
     "data": {
      "text/plain": [
       "Timestamp('2019-04-05 17:48:13.594290+0300', tz='Europe/Helsinki')"
      ]
     },
     "execution_count": 18,
     "metadata": {},
     "output_type": "execute_result"
    }
   ],
   "source": [
    "from datetime import datetime\n",
    "now = pd.Timestamp(datetime.now(), tz=\"Asia/Kathmandu\")\n",
    "now.tz_convert('Europe/Helsinki')"
   ]
  },
  {
   "cell_type": "markdown",
   "metadata": {},
   "source": [
    "### Daylight Saving Time"
   ]
  },
  {
   "cell_type": "code",
   "execution_count": 22,
   "metadata": {},
   "outputs": [
    {
     "data": {
      "text/plain": [
       "Timestamp('2019-03-31 04:30:00+0300', tz='Europe/Helsinki')"
      ]
     },
     "execution_count": 22,
     "metadata": {},
     "output_type": "execute_result"
    }
   ],
   "source": [
    "from pandas.tseries.offsets import Hour\n",
    "dst_start = pd.Timestamp(\"2019-03-31 2:30\", tz=\"Europe/Helsinki\") ## DST start at 3am which becomes 4am so 3am time doesn't exists\n",
    "dst_start + Hour()\n"
   ]
  },
  {
   "cell_type": "code",
   "execution_count": 32,
   "metadata": {},
   "outputs": [
    {
     "data": {
      "text/plain": [
       "Timestamp('2019-10-27 03:30:00+0200', tz='Europe/Helsinki')"
      ]
     },
     "execution_count": 32,
     "metadata": {},
     "output_type": "execute_result"
    }
   ],
   "source": [
    "dst_end = pd.Timestamp(\"2019-10-27 2:30\", tz=\"Europe/Helsinki\") ## DST end at 4am which again become 3am\n",
    "dst_end + 2*Hour()"
   ]
  }
 ],
 "metadata": {
  "kernelspec": {
   "display_name": "Python 3",
   "language": "python",
   "name": "python3"
  },
  "language_info": {
   "codemirror_mode": {
    "name": "ipython",
    "version": 3
   },
   "file_extension": ".py",
   "mimetype": "text/x-python",
   "name": "python",
   "nbconvert_exporter": "python",
   "pygments_lexer": "ipython3",
   "version": "3.6.5"
  }
 },
 "nbformat": 4,
 "nbformat_minor": 2
}
