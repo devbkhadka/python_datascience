{
 "cells": [
  {
   "cell_type": "markdown",
   "metadata": {},
   "source": [
    "### Vectorization\n",
    "Performing array operation with out loops"
   ]
  },
  {
   "cell_type": "code",
   "execution_count": 7,
   "metadata": {},
   "outputs": [
    {
     "name": "stdout",
     "output_type": "stream",
     "text": [
      "[[1 3 5 7 9]\n",
      " [1 3 5 7 9]\n",
      " [1 3 5 7 9]\n",
      " [1 3 5 7 9]\n",
      " [1 3 5 7 9]\n",
      " [1 3 5 7 9]]\n",
      "[[ 0  0  0  0  0]\n",
      " [ 2  2  2  2  2]\n",
      " [ 4  4  4  4  4]\n",
      " [ 6  6  6  6  6]\n",
      " [ 8  8  8  8  8]\n",
      " [10 10 10 10 10]]\n",
      "[[ 1.          3.          5.          7.          9.        ]\n",
      " [ 2.23606798  3.60555128  5.38516481  7.28010989  9.21954446]\n",
      " [ 4.12310563  5.          6.40312424  8.06225775  9.8488578 ]\n",
      " [ 6.08276253  6.70820393  7.81024968  9.21954446 10.81665383]\n",
      " [ 8.06225775  8.54400375  9.43398113 10.63014581 12.04159458]\n",
      " [10.04987562 10.44030651 11.18033989 12.20655562 13.45362405]]\n"
     ]
    }
   ],
   "source": [
    "import numpy as np\n",
    "odd = np.arange(1,11, 2)\n",
    "even = np.arange(0, 11, 2)\n",
    "#### if we need to perform operation between all pairs of element from odd and even\n",
    "#### then 'np.meshgrid' will create two matrixes such that permorming element wise operation\n",
    "#### will yeild operation for all possible pairs of element from odd and even\n",
    "#### 1st array will be repeated as rows of 1st matrix and 2nd array will be repeated as column of 2nd matrix\n",
    "xs, ys = np.meshgrid(odd, even)\n",
    "distances = np.sqrt(xs**2 + ys**2)\n",
    "print (xs)\n",
    "print(ys)\n",
    "print(distances)"
   ]
  },
  {
   "cell_type": "markdown",
   "metadata": {},
   "source": [
    "### np.where\n",
    "logical trinery operation for arrays.\n",
    "- param1: array of condition\n",
    "- param2: scalar or array from which value is taken if corresponding value in condition is true\n",
    "- param3: scalar or array\n"
   ]
  },
  {
   "cell_type": "code",
   "execution_count": 24,
   "metadata": {},
   "outputs": [
    {
     "name": "stdout",
     "output_type": "stream",
     "text": [
      "[[-0.61936563  0.35693356  1.05831575 -0.86951069 -0.58189523]\n",
      " [ 0.97201507  0.44622398 -0.26541524 -0.27446162 -1.39663287]]\n",
      "[[-2  2  2 -2 -2]\n",
      " [ 2  2 -2 -2 -2]]\n",
      "[[0.         0.35693356 1.05831575 0.         0.        ]\n",
      " [0.97201507 0.44622398 0.         0.         0.        ]]\n"
     ]
    }
   ],
   "source": [
    "arr = np.random.randn(10).reshape(2,5)\n",
    "print(arr)\n",
    "### replace all -ve numbers with -2 and all positive with 2\n",
    "arr2 = np.where(arr>0, 2, -2)\n",
    "print(arr2)\n",
    "### replace all -ve numbers with 0 and take positive number at it is\n",
    "arr3 = np.where(arr>0, arr, 0)\n",
    "print(arr3)"
   ]
  },
  {
   "cell_type": "markdown",
   "metadata": {},
   "source": [
    "### Aggregate or Reduce Functions"
   ]
  },
  {
   "cell_type": "code",
   "execution_count": 43,
   "metadata": {},
   "outputs": [
    {
     "name": "stdout",
     "output_type": "stream",
     "text": [
      "[[ 0  1  2  3]\n",
      " [ 4  5  6  7]\n",
      " [ 8  9 10 11]]\n",
      "np.sum(arr) 66\n",
      "arr.mean() 5.5\n",
      "arr.sum(axis=0) [12 15 18 21]\n",
      "Cumulative sum: arr.cumsum()\n",
      " [ 0  1  3  6 10 15 21 28 36 45 55 66]\n",
      "Cumulative sum: arr.cumsum(axis=1)\n",
      " [[ 0  1  3  6]\n",
      " [ 4  9 15 22]\n",
      " [ 8 17 27 38]]\n"
     ]
    }
   ],
   "source": [
    "arr = np.arange(12).reshape(3,4)\n",
    "print(arr)\n",
    "print('np.sum(arr)', np.sum(arr))\n",
    "print('arr.mean()', arr.mean())\n",
    "print('arr.sum(axis=0)', arr.sum(axis=0))\n",
    "\n",
    "print('Cumulative sum: arr.cumsum()\\n',arr.cumsum())\n",
    "print('Cumulative sum: arr.cumsum(axis=1)\\n',arr.cumsum(axis=1))\n"
   ]
  },
  {
   "cell_type": "markdown",
   "metadata": {},
   "source": [
    "### Boolean Array"
   ]
  },
  {
   "cell_type": "code",
   "execution_count": 52,
   "metadata": {},
   "outputs": [
    {
     "name": "stdout",
     "output_type": "stream",
     "text": [
      "[[1 0 0 1]\n",
      " [0 0 1 0]\n",
      " [1 0 0 1]]\n",
      "True\n",
      "False\n"
     ]
    }
   ],
   "source": [
    "bool_arr = np.random.choice([0,1], (3,4))\n",
    "print(bool_arr)\n",
    "print(bool_arr.any()) ## If any element is true or non zero\n",
    "print(bool_arr.all()) ## If all element are treu or non zero"
   ]
  },
  {
   "cell_type": "markdown",
   "metadata": {},
   "source": [
    "### Sorting"
   ]
  },
  {
   "cell_type": "code",
   "execution_count": 65,
   "metadata": {},
   "outputs": [
    {
     "name": "stdout",
     "output_type": "stream",
     "text": [
      "[[13  6 13  1]\n",
      " [12 13 14  3]\n",
      " [11  1  8  0]]\n",
      "[[ 1  6 13 13]\n",
      " [ 3 12 13 14]\n",
      " [ 0  1  8 11]]\n",
      "[[11  1  8  0]\n",
      " [12  6 13  1]\n",
      " [13 13 14  3]]\n"
     ]
    }
   ],
   "source": [
    "arr = np.random.choice(range(15), (3,4))\n",
    "\n",
    "print(arr)\n",
    "print(np.sort(arr)) # sort array in copy\n",
    "arr.sort(axis=0) # sorts the array in place\n",
    "print(arr)\n"
   ]
  },
  {
   "cell_type": "code",
   "execution_count": null,
   "metadata": {},
   "outputs": [],
   "source": []
  }
 ],
 "metadata": {
  "kernelspec": {
   "display_name": "Python 3",
   "language": "python",
   "name": "python3"
  },
  "language_info": {
   "codemirror_mode": {
    "name": "ipython",
    "version": 3
   },
   "file_extension": ".py",
   "mimetype": "text/x-python",
   "name": "python",
   "nbconvert_exporter": "python",
   "pygments_lexer": "ipython3",
   "version": "3.6.5"
  }
 },
 "nbformat": 4,
 "nbformat_minor": 2
}
