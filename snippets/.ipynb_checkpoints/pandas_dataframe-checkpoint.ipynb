{
 "cells": [
  {
   "cell_type": "markdown",
   "metadata": {},
   "source": [
    "## Dataframe\n",
    "Dataframes are data structure with indexed rows and columns. It can be thought as 2D Series"
   ]
  },
  {
   "cell_type": "markdown",
   "metadata": {},
   "source": [
    "## Creating Dataframe"
   ]
  },
  {
   "cell_type": "markdown",
   "metadata": {},
   "source": [
    "### From 2D array"
   ]
  },
  {
   "cell_type": "code",
   "execution_count": 44,
   "metadata": {},
   "outputs": [
    {
     "data": {
      "text/html": [
       "<div>\n",
       "<style scoped>\n",
       "    .dataframe tbody tr th:only-of-type {\n",
       "        vertical-align: middle;\n",
       "    }\n",
       "\n",
       "    .dataframe tbody tr th {\n",
       "        vertical-align: top;\n",
       "    }\n",
       "\n",
       "    .dataframe thead th {\n",
       "        text-align: right;\n",
       "    }\n",
       "</style>\n",
       "<table border=\"1\" class=\"dataframe\">\n",
       "  <thead>\n",
       "    <tr style=\"text-align: right;\">\n",
       "      <th></th>\n",
       "      <th>0</th>\n",
       "      <th>1</th>\n",
       "      <th>2</th>\n",
       "      <th>3</th>\n",
       "      <th>4</th>\n",
       "    </tr>\n",
       "  </thead>\n",
       "  <tbody>\n",
       "    <tr>\n",
       "      <th>0</th>\n",
       "      <td>0.603002</td>\n",
       "      <td>0.741707</td>\n",
       "      <td>-0.276564</td>\n",
       "      <td>-0.581838</td>\n",
       "      <td>-0.257783</td>\n",
       "    </tr>\n",
       "    <tr>\n",
       "      <th>1</th>\n",
       "      <td>2.211070</td>\n",
       "      <td>-1.274745</td>\n",
       "      <td>1.086145</td>\n",
       "      <td>-0.769828</td>\n",
       "      <td>0.136627</td>\n",
       "    </tr>\n",
       "    <tr>\n",
       "      <th>2</th>\n",
       "      <td>0.690047</td>\n",
       "      <td>0.436750</td>\n",
       "      <td>0.224387</td>\n",
       "      <td>-1.815076</td>\n",
       "      <td>-1.068890</td>\n",
       "    </tr>\n",
       "    <tr>\n",
       "      <th>3</th>\n",
       "      <td>-0.920285</td>\n",
       "      <td>-0.122257</td>\n",
       "      <td>0.990006</td>\n",
       "      <td>2.109490</td>\n",
       "      <td>0.541900</td>\n",
       "    </tr>\n",
       "    <tr>\n",
       "      <th>4</th>\n",
       "      <td>0.484474</td>\n",
       "      <td>0.033750</td>\n",
       "      <td>-0.516988</td>\n",
       "      <td>-0.691979</td>\n",
       "      <td>-1.336125</td>\n",
       "    </tr>\n",
       "    <tr>\n",
       "      <th>5</th>\n",
       "      <td>-0.446374</td>\n",
       "      <td>0.147077</td>\n",
       "      <td>-0.967344</td>\n",
       "      <td>0.030709</td>\n",
       "      <td>-0.403202</td>\n",
       "    </tr>\n",
       "    <tr>\n",
       "      <th>6</th>\n",
       "      <td>-0.278135</td>\n",
       "      <td>-1.266801</td>\n",
       "      <td>0.616471</td>\n",
       "      <td>-0.048048</td>\n",
       "      <td>-0.371570</td>\n",
       "    </tr>\n",
       "    <tr>\n",
       "      <th>7</th>\n",
       "      <td>-1.570674</td>\n",
       "      <td>0.440527</td>\n",
       "      <td>-0.062696</td>\n",
       "      <td>1.314645</td>\n",
       "      <td>0.273305</td>\n",
       "    </tr>\n",
       "    <tr>\n",
       "      <th>8</th>\n",
       "      <td>0.713400</td>\n",
       "      <td>-0.593786</td>\n",
       "      <td>-1.086978</td>\n",
       "      <td>0.832181</td>\n",
       "      <td>1.846925</td>\n",
       "    </tr>\n",
       "    <tr>\n",
       "      <th>9</th>\n",
       "      <td>1.509472</td>\n",
       "      <td>-0.730016</td>\n",
       "      <td>0.512553</td>\n",
       "      <td>0.697107</td>\n",
       "      <td>0.127468</td>\n",
       "    </tr>\n",
       "  </tbody>\n",
       "</table>\n",
       "</div>"
      ],
      "text/plain": [
       "          0         1         2         3         4\n",
       "0  0.603002  0.741707 -0.276564 -0.581838 -0.257783\n",
       "1  2.211070 -1.274745  1.086145 -0.769828  0.136627\n",
       "2  0.690047  0.436750  0.224387 -1.815076 -1.068890\n",
       "3 -0.920285 -0.122257  0.990006  2.109490  0.541900\n",
       "4  0.484474  0.033750 -0.516988 -0.691979 -1.336125\n",
       "5 -0.446374  0.147077 -0.967344  0.030709 -0.403202\n",
       "6 -0.278135 -1.266801  0.616471 -0.048048 -0.371570\n",
       "7 -1.570674  0.440527 -0.062696  1.314645  0.273305\n",
       "8  0.713400 -0.593786 -1.086978  0.832181  1.846925\n",
       "9  1.509472 -0.730016  0.512553  0.697107  0.127468"
      ]
     },
     "execution_count": 44,
     "metadata": {},
     "output_type": "execute_result"
    }
   ],
   "source": [
    "from pandas import DataFrame, Series\n",
    "import numpy as np\n",
    "arr = np.random.randn(10,5)\n",
    "DataFrame(arr)"
   ]
  },
  {
   "cell_type": "markdown",
   "metadata": {},
   "source": [
    "### From Dictionary of List Like Object"
   ]
  },
  {
   "cell_type": "code",
   "execution_count": 38,
   "metadata": {},
   "outputs": [
    {
     "name": "stdout",
     "output_type": "stream",
     "text": [
      "Column Name  id    name  score\n",
      "Row Name                      \n",
      "John          1    John    2.9\n",
      "Jill          2    Jill    3.2\n",
      "Harry         3   Harry    3.7\n",
      "Petter        4  Petter    1.8\n",
      "Tom           5     Tom    2.2 \n",
      "\n",
      "\n"
     ]
    }
   ],
   "source": [
    "## Key of dictionary is used as column index and \n",
    "## values are used as values for corresponding column. Row index list can be passed else\n",
    "## 0 to n-1 will be used as index\n",
    "students = {\n",
    "            'id': [1,2,3,4,5],\n",
    "            'name':['John', 'Jill', 'Harry', 'Petter', 'Tom'],\n",
    "            'score': [2.9, 3.2, 3.7, 1.8, 2.2]\n",
    "           }\n",
    "df_students = DataFrame(students, students['name'])\n",
    "df_students.columns.name= 'Column Name'\n",
    "df_students.index.name='Row Name'\n",
    "\n",
    "print(df_students, '\\n\\n')\n",
    "\n",
    "\n",
    "\n",
    "\n",
    "\n",
    "\n"
   ]
  },
  {
   "cell_type": "markdown",
   "metadata": {},
   "source": [
    "### From dictionary of Series"
   ]
  },
  {
   "cell_type": "code",
   "execution_count": 40,
   "metadata": {},
   "outputs": [
    {
     "name": "stdout",
     "output_type": "stream",
     "text": [
      "        id  score    name\n",
      "John     1    2.9    John\n",
      "Jill     2    3.2    Jill\n",
      "Harry    3    3.7   Harry\n",
      "Petter   4    1.8  Petter\n",
      "Tom      5    2.2     Tom \n",
      "\n",
      "\n"
     ]
    }
   ],
   "source": [
    "## From dictionary of Series\n",
    "## Dict key will be used as column index\n",
    "## values of series is used as column\n",
    "## index of series is used as row index\n",
    "ids = Series(students['id'], students['name'])\n",
    "scores = Series(students['score'], students['name'])\n",
    "series_dict = {'id': ids, 'score': scores, 'name': students['name']}\n",
    "df_students = DataFrame(series_dict)\n",
    "print(df_students, '\\n\\n')"
   ]
  },
  {
   "cell_type": "markdown",
   "metadata": {},
   "source": [
    "### From List of Series"
   ]
  },
  {
   "cell_type": "code",
   "execution_count": 41,
   "metadata": {},
   "outputs": [
    {
     "name": "stdout",
     "output_type": "stream",
     "text": [
      "   John  Jill  Harry  Petter  Tom\n",
      "0   2.9   3.2    3.7     1.8  2.2\n",
      "1   1.0   2.0    3.0     4.0  5.0 \n",
      "\n",
      "\n"
     ]
    }
   ],
   "source": [
    "df_students = DataFrame([scores, ids])\n",
    "print(df_students, '\\n\\n')"
   ]
  },
  {
   "cell_type": "markdown",
   "metadata": {},
   "source": [
    "### From Nested Dictionary"
   ]
  },
  {
   "cell_type": "code",
   "execution_count": 49,
   "metadata": {},
   "outputs": [
    {
     "name": "stdout",
     "output_type": "stream",
     "text": [
      "       John  Jill  Harry  Petter  Tom\n",
      "id      1.0   2.0    3.0     4.0  5.0\n",
      "score   2.9   3.2    3.7     1.8  2.2\n",
      "Transpose\n",
      "          id  score\n",
      "John    1.0    2.9\n",
      "Jill    2.0    3.2\n",
      "Harry   3.0    3.7\n",
      "Petter  4.0    1.8\n",
      "Tom     5.0    2.2\n"
     ]
    }
   ],
   "source": [
    "## Dict key will be used as column index\n",
    "## Key of inner dict is used as row index\n",
    "## Value of inner index is used as row values\n",
    "students2 = {\n",
    "    'John': {'id':1, 'score': 2.9},\n",
    "    'Jill': {'id':2, 'score': 3.2},\n",
    "    'Harry': {'id':3, 'score': 3.7},\n",
    "    'Petter': {'id':4, 'score': 1.8},\n",
    "    'Tom': {'id':5, 'score': 2.2},\n",
    "}\n",
    "df_students = DataFrame(students2)\n",
    "print(df_students)\n",
    "print('Transpose\\n', df_students.T)"
   ]
  },
  {
   "cell_type": "markdown",
   "metadata": {},
   "source": [
    "### Access Data"
   ]
  },
  {
   "cell_type": "code",
   "execution_count": 78,
   "metadata": {},
   "outputs": [
    {
     "name": "stdout",
     "output_type": "stream",
     "text": [
      "Get data by column index\n",
      "John      2.9\n",
      "Jill      3.2\n",
      "Harry     3.7\n",
      "Petter    1.8\n",
      "Tom       2.2\n",
      "Name: score, dtype: float64\n"
     ]
    }
   ],
   "source": [
    "df_students = DataFrame(students, students['name'])\n",
    "\n",
    "print('Get data by column index')\n",
    "print(df_students['score']) "
   ]
  },
  {
   "cell_type": "code",
   "execution_count": 79,
   "metadata": {},
   "outputs": [
    {
     "name": "stdout",
     "output_type": "stream",
     "text": [
      "Get column using dot notation\n",
      "John      2.9\n",
      "Jill      3.2\n",
      "Harry     3.7\n",
      "Petter    1.8\n",
      "Tom       2.2\n",
      "Name: score, dtype: float64\n"
     ]
    }
   ],
   "source": [
    "print('Get column using dot notation')\n",
    "print(df_students.score)"
   ]
  },
  {
   "cell_type": "code",
   "execution_count": 80,
   "metadata": {},
   "outputs": [
    {
     "name": "stdout",
     "output_type": "stream",
     "text": [
      "Get score of John\n",
      "2.9\n"
     ]
    }
   ],
   "source": [
    "print('Get score of John')\n",
    "print(df_students['score']['John'])"
   ]
  },
  {
   "cell_type": "code",
   "execution_count": 81,
   "metadata": {},
   "outputs": [
    {
     "name": "stdout",
     "output_type": "stream",
     "text": [
      "Multiple columns\n",
      "        score  id\n",
      "John      2.9   1\n",
      "Jill      3.2   2\n",
      "Harry     3.7   3\n",
      "Petter    1.8   4\n",
      "Tom       2.2   5\n"
     ]
    }
   ],
   "source": [
    "print('Multiple columns')\n",
    "print(df_students[['score', 'id']])  "
   ]
  },
  {
   "cell_type": "code",
   "execution_count": 82,
   "metadata": {},
   "outputs": [
    {
     "name": "stdout",
     "output_type": "stream",
     "text": [
      "Get Row\n",
      "id          2\n",
      "name     Jill\n",
      "score     3.2\n",
      "Name: Jill, dtype: object\n"
     ]
    }
   ],
   "source": [
    "print('Get Row')\n",
    "print(df_students.loc['Jill'])"
   ]
  },
  {
   "cell_type": "code",
   "execution_count": 83,
   "metadata": {},
   "outputs": [
    {
     "name": "stdout",
     "output_type": "stream",
     "text": [
      "Add New Column\n",
      "        id    name  score  age\n",
      "John     1    John    2.9   20\n",
      "Jill     2    Jill    3.2   19\n",
      "Harry    3   Harry    3.7   19\n",
      "Petter   4  Petter    1.8   18\n",
      "Tom      5     Tom    2.2   21\n"
     ]
    }
   ],
   "source": [
    "print('Add New Column')\n",
    "df_students['age'] = [20, 19, 19, 18, 21]\n",
    "print(df_students)"
   ]
  },
  {
   "cell_type": "code",
   "execution_count": 84,
   "metadata": {},
   "outputs": [
    {
     "name": "stdout",
     "output_type": "stream",
     "text": [
      "Delete Column\n",
      "        id    name  score\n",
      "John     1    John    2.9\n",
      "Jill     2    Jill    3.2\n",
      "Harry    3   Harry    3.7\n",
      "Petter   4  Petter    1.8\n",
      "Tom      5     Tom    2.2\n"
     ]
    }
   ],
   "source": [
    "print('Delete Column')\n",
    "del df_students['age']\n",
    "print(df_students)"
   ]
  },
  {
   "cell_type": "markdown",
   "metadata": {},
   "source": [
    "### Index Object"
   ]
  },
  {
   "cell_type": "code",
   "execution_count": 93,
   "metadata": {},
   "outputs": [
    {
     "name": "stdout",
     "output_type": "stream",
     "text": [
      "Index(['John', 'Jill', 'Harry', 'Petter', 'Tom'], dtype='object')\n",
      "Index(['John', 'Jill', 'Harry', 'Petter', 'Tom', 'Hari', 'Shyam', 'Hari'], dtype='object')\n",
      "is index unique? True\n",
      "is index2 unique? False\n",
      "Difference index2, index Index(['Hari', 'Shyam'], dtype='object')\n"
     ]
    }
   ],
   "source": [
    "from pandas import Index\n",
    "index = df_students.index\n",
    "index2 = index.append(Index(['Hari', 'Shyam', 'Hari']))\n",
    "print(index)\n",
    "print(index2)\n",
    "print('is index unique?', index.is_unique)\n",
    "print('is index2 unique?', index2.is_unique)\n",
    "print('Difference index2, index', index2.difference(index))"
   ]
  },
  {
   "cell_type": "code",
   "execution_count": null,
   "metadata": {},
   "outputs": [],
   "source": []
  }
 ],
 "metadata": {
  "kernelspec": {
   "display_name": "Python 3",
   "language": "python",
   "name": "python3"
  },
  "language_info": {
   "codemirror_mode": {
    "name": "ipython",
    "version": 3
   },
   "file_extension": ".py",
   "mimetype": "text/x-python",
   "name": "python",
   "nbconvert_exporter": "python",
   "pygments_lexer": "ipython3",
   "version": "3.6.5"
  }
 },
 "nbformat": 4,
 "nbformat_minor": 2
}
