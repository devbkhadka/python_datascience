{
 "cells": [
  {
   "cell_type": "markdown",
   "metadata": {},
   "source": [
    "### Mutable and Non-Mutable\n",
    "Basic datatypes like int, float, strings, tuples are non-mutable. list user definend classes are mutable"
   ]
  },
  {
   "cell_type": "code",
   "execution_count": 4,
   "metadata": {},
   "outputs": [
    {
     "name": "stdout",
     "output_type": "stream",
     "text": [
      "Before Change: True\n",
      "After change False\n",
      "HELLO, I AM IMUTABLE.\n",
      "hello, I am imutable.\n"
     ]
    }
   ],
   "source": [
    "str = 'hello, I am imutable.'\n",
    "ref = str\n",
    "print('Before Change:', ref is str)\n",
    "str = str.upper()\n",
    "print('After change', ref is str)\n",
    "print(str)\n",
    "print(ref)"
   ]
  },
  {
   "cell_type": "code",
   "execution_count": 6,
   "metadata": {},
   "outputs": [
    {
     "name": "stdout",
     "output_type": "stream",
     "text": [
      "True\n",
      "True\n"
     ]
    }
   ],
   "source": [
    "lst = list('Hello, I am mutable') \n",
    "ref = lst\n",
    "print(lst is ref)\n",
    "lst.append(33)\n",
    "print(lst is ref)\n"
   ]
  },
  {
   "cell_type": "markdown",
   "metadata": {},
   "source": [
    "### Side Effect\n",
    "It is usually good practice to avoid function with side effect like below, which changes input parameter passed to it"
   ]
  },
  {
   "cell_type": "code",
   "execution_count": 7,
   "metadata": {},
   "outputs": [
    {
     "name": "stdout",
     "output_type": "stream",
     "text": [
      "[0, 1, 2, 3, 4, 5, 6, 7, 8, 9]\n",
      "[0, 1, 2, 3, 4, 5, 6, 7, 8, 9, 10]\n",
      "[0, 1, 2, 3, 4, 5, 6, 7, 8, 9, 10]\n"
     ]
    }
   ],
   "source": [
    "def add_item(lst, item):\n",
    "    lst.append(item)\n",
    "    return lst\n",
    "lst = list(range(10))\n",
    "print(lst)\n",
    "new_lst = add_item(lst, 10)\n",
    "print(lst)\n",
    "print(new_lst)"
   ]
  },
  {
   "cell_type": "markdown",
   "metadata": {},
   "source": [
    "Assigning new object to a variable changes the reference and will not cause side effect"
   ]
  },
  {
   "cell_type": "code",
   "execution_count": 8,
   "metadata": {},
   "outputs": [
    {
     "name": "stdout",
     "output_type": "stream",
     "text": [
      "[0, 1, 2, 3, 4, 5, 6, 7, 8, 9]\n",
      "[0, 1, 2, 3, 4, 5, 6, 7, 8, 9]\n",
      "[0, 1, 2, 3, 4, 5, 6, 7, 8, 9, 10]\n"
     ]
    }
   ],
   "source": [
    "def add_item(lst, item):\n",
    "    lst = list(lst)\n",
    "    lst.append(item)\n",
    "    return lst\n",
    "lst = list(range(10))\n",
    "print(lst)\n",
    "new_lst = add_item(lst, 10)\n",
    "print(lst)\n",
    "print(new_lst)"
   ]
  },
  {
   "cell_type": "markdown",
   "metadata": {},
   "source": [
    "### Int can store arbitrarily large number "
   ]
  },
  {
   "cell_type": "code",
   "execution_count": 9,
   "metadata": {},
   "outputs": [
    {
     "name": "stdout",
     "output_type": "stream",
     "text": [
      "999940001499980000149999400001\n"
     ]
    }
   ],
   "source": [
    "ival = 99999\n",
    "ival = 99999 ** 6\n",
    "print(ival)"
   ]
  },
  {
   "cell_type": "markdown",
   "metadata": {},
   "source": [
    "### String"
   ]
  },
  {
   "cell_type": "code",
   "execution_count": 15,
   "metadata": {},
   "outputs": [
    {
     "name": "stdout",
     "output_type": "stream",
     "text": [
      "parent\\child\\grand-child\n",
      "parent\\child\\grand-child\n",
      "\n",
      "line1\n",
      "line2\n",
      "line3\n",
      "line4\n",
      "\n"
     ]
    }
   ],
   "source": [
    "str = 'parent\\\\child\\\\grand-child' # escape front slash\n",
    "print(str)\n",
    "str = r'parent\\child\\grand-child' # no need to eacape \\\n",
    "print(str)\n",
    "str = '''\n",
    "line1\n",
    "line2\n",
    "line3\n",
    "line4\n",
    "'''\n",
    "print(str)"
   ]
  },
  {
   "cell_type": "markdown",
   "metadata": {},
   "source": [
    "### String format"
   ]
  },
  {
   "cell_type": "code",
   "execution_count": 17,
   "metadata": {},
   "outputs": [
    {
     "name": "stdout",
     "output_type": "stream",
     "text": [
      "Price of Potato is 3.45 for 5 piceses. You need to buy 5 piceses minimum\n"
     ]
    }
   ],
   "source": [
    "template = 'Price of {0:s} is {1:.2f} for {2:d} piceses. You need to buy {2:d} piceses minimum'\n",
    "str = template.format('Potato', 3.448978, 5)\n",
    "print(str)"
   ]
  },
  {
   "cell_type": "markdown",
   "metadata": {},
   "source": [
    "### Encoding"
   ]
  },
  {
   "cell_type": "code",
   "execution_count": 23,
   "metadata": {},
   "outputs": [
    {
     "name": "stdout",
     "output_type": "stream",
     "text": [
      "Déclaration des Droits\n",
      "b'D\\xc3\\xa9claration des Droits'\n",
      "b'D\\xc3\\xa9claration des Droits'\n"
     ]
    }
   ],
   "source": [
    "str = 'Déclaration des Droits'\n",
    "print(str)\n",
    "encoded = str.encode('utf8')\n",
    "print(encoded)\n",
    "encoded.decode('latin1')\n",
    "byte = b'D\\xc3\\xa9claration des Droits'\n",
    "print(byte)"
   ]
  },
  {
   "cell_type": "markdown",
   "metadata": {},
   "source": [
    "### Type casting"
   ]
  },
  {
   "cell_type": "code",
   "execution_count": 31,
   "metadata": {},
   "outputs": [
    {
     "name": "stdout",
     "output_type": "stream",
     "text": [
      "<class 'str'>\n",
      "<class 'float'>\n",
      "True\n",
      "3\n"
     ]
    }
   ],
   "source": [
    "pi = '3.14'\n",
    "print(type(pi))\n",
    "pi = float(pi)\n",
    "print(type(pi))\n",
    "print(bool(pi))\n",
    "print(int(pi))\n"
   ]
  },
  {
   "cell_type": "markdown",
   "metadata": {},
   "source": [
    "### Datetime"
   ]
  },
  {
   "cell_type": "code",
   "execution_count": 45,
   "metadata": {},
   "outputs": [
    {
     "name": "stdout",
     "output_type": "stream",
     "text": [
      "2019-01-15 00:00\n",
      "2019-01-16 02:00\n",
      "01/16/19\n"
     ]
    }
   ],
   "source": [
    "from datetime import datetime, date, time\n",
    "dt = datetime(2019, 1, 15)\n",
    "print(dt.strftime('%Y-%m-%d %H:%M'))\n",
    "dt = dt.replace(day=16, hour=14)\n",
    "print(dt.strftime('%Y-%m-%d %I:%M'))\n",
    "print(dt.strftime('%D'))"
   ]
  },
  {
   "cell_type": "code",
   "execution_count": 50,
   "metadata": {},
   "outputs": [
    {
     "data": {
      "text/plain": [
       "datetime.datetime(2019, 1, 16, 2, 0)"
      ]
     },
     "execution_count": 50,
     "metadata": {},
     "output_type": "execute_result"
    }
   ],
   "source": [
    "from datetime import datetime, date, time\n",
    "datetime.strptime('2019-01-16 02:00', '%Y-%m-%d %I:%M')"
   ]
  },
  {
   "cell_type": "markdown",
   "metadata": {},
   "source": [
    "### Comparision"
   ]
  },
  {
   "cell_type": "code",
   "execution_count": 53,
   "metadata": {},
   "outputs": [
    {
     "name": "stdout",
     "output_type": "stream",
     "text": [
      "True\n",
      "False\n",
      "False\n"
     ]
    }
   ],
   "source": [
    "def is_between_18_and_60(age):\n",
    "    return 18<age<60\n",
    "\n",
    "print(is_between_18_and_60(32))\n",
    "print(is_between_18_and_60(2))\n",
    "print(is_between_18_and_60(80))"
   ]
  },
  {
   "cell_type": "code",
   "execution_count": null,
   "metadata": {},
   "outputs": [],
   "source": []
  }
 ],
 "metadata": {
  "kernelspec": {
   "display_name": "Python 3",
   "language": "python",
   "name": "python3"
  },
  "language_info": {
   "codemirror_mode": {
    "name": "ipython",
    "version": 3
   },
   "file_extension": ".py",
   "mimetype": "text/x-python",
   "name": "python",
   "nbconvert_exporter": "python",
   "pygments_lexer": "ipython3",
   "version": "3.6.5"
  }
 },
 "nbformat": 4,
 "nbformat_minor": 2
}
