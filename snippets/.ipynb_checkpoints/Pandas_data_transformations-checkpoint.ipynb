{
 "cells": [
  {
   "cell_type": "markdown",
   "metadata": {},
   "source": [
    "### Create Temperature Data"
   ]
  },
  {
   "cell_type": "code",
   "execution_count": 42,
   "metadata": {},
   "outputs": [
    {
     "data": {
      "text/html": [
       "<div>\n",
       "<style scoped>\n",
       "    .dataframe tbody tr th:only-of-type {\n",
       "        vertical-align: middle;\n",
       "    }\n",
       "\n",
       "    .dataframe tbody tr th {\n",
       "        vertical-align: top;\n",
       "    }\n",
       "\n",
       "    .dataframe thead th {\n",
       "        text-align: right;\n",
       "    }\n",
       "</style>\n",
       "<table border=\"1\" class=\"dataframe\">\n",
       "  <thead>\n",
       "    <tr style=\"text-align: right;\">\n",
       "      <th></th>\n",
       "      <th>dates</th>\n",
       "      <th>temps</th>\n",
       "    </tr>\n",
       "  </thead>\n",
       "  <tbody>\n",
       "    <tr>\n",
       "      <th>0</th>\n",
       "      <td>(0, 2019-03-02)</td>\n",
       "      <td>9.300245</td>\n",
       "    </tr>\n",
       "    <tr>\n",
       "      <th>1</th>\n",
       "      <td>(1, 2019-03-02)</td>\n",
       "      <td>6.606688</td>\n",
       "    </tr>\n",
       "    <tr>\n",
       "      <th>2</th>\n",
       "      <td>(2, 2019-03-02)</td>\n",
       "      <td>12.023016</td>\n",
       "    </tr>\n",
       "    <tr>\n",
       "      <th>3</th>\n",
       "      <td>(3, 2019-03-02)</td>\n",
       "      <td>7.801142</td>\n",
       "    </tr>\n",
       "    <tr>\n",
       "      <th>4</th>\n",
       "      <td>(4, 2019-03-02)</td>\n",
       "      <td>22.970769</td>\n",
       "    </tr>\n",
       "    <tr>\n",
       "      <th>5</th>\n",
       "      <td>(5, 2019-03-02)</td>\n",
       "      <td>11.982230</td>\n",
       "    </tr>\n",
       "    <tr>\n",
       "      <th>6</th>\n",
       "      <td>(6, 2019-03-02)</td>\n",
       "      <td>36.065650</td>\n",
       "    </tr>\n",
       "    <tr>\n",
       "      <th>7</th>\n",
       "      <td>(7, 2019-03-02)</td>\n",
       "      <td>34.416239</td>\n",
       "    </tr>\n",
       "    <tr>\n",
       "      <th>8</th>\n",
       "      <td>(8, 2019-03-02)</td>\n",
       "      <td>20.122034</td>\n",
       "    </tr>\n",
       "    <tr>\n",
       "      <th>9</th>\n",
       "      <td>(9, 2019-03-02)</td>\n",
       "      <td>38.470097</td>\n",
       "    </tr>\n",
       "    <tr>\n",
       "      <th>10</th>\n",
       "      <td>(10, 2019-03-02)</td>\n",
       "      <td>23.190935</td>\n",
       "    </tr>\n",
       "    <tr>\n",
       "      <th>11</th>\n",
       "      <td>(11, 2019-03-02)</td>\n",
       "      <td>34.357141</td>\n",
       "    </tr>\n",
       "  </tbody>\n",
       "</table>\n",
       "</div>"
      ],
      "text/plain": [
       "               dates      temps\n",
       "0    (0, 2019-03-02)   9.300245\n",
       "1    (1, 2019-03-02)   6.606688\n",
       "2    (2, 2019-03-02)  12.023016\n",
       "3    (3, 2019-03-02)   7.801142\n",
       "4    (4, 2019-03-02)  22.970769\n",
       "5    (5, 2019-03-02)  11.982230\n",
       "6    (6, 2019-03-02)  36.065650\n",
       "7    (7, 2019-03-02)  34.416239\n",
       "8    (8, 2019-03-02)  20.122034\n",
       "9    (9, 2019-03-02)  38.470097\n",
       "10  (10, 2019-03-02)  23.190935\n",
       "11  (11, 2019-03-02)  34.357141"
      ]
     },
     "execution_count": 42,
     "metadata": {},
     "output_type": "execute_result"
    }
   ],
   "source": [
    "import numpy as np\n",
    "import pandas as pd\n",
    "from datetime import date, timedelta\n",
    "\n",
    "n = 12\n",
    "# random temperature with mean 22 and std 15\n",
    "tempreture = np.random.randn(n)*15 + 22\n",
    "\n",
    "# past 20 days date\n",
    "dates = pd.Series(list(enumerate([date.today()]*n)))\n",
    "dates.map(lambda val: val[1] + timedelta(days=-val[0]))\n",
    "\n",
    "temp_centigrade = pd.DataFrame({\"dates\":dates, \"temps\":tempreture})\n",
    "\n",
    "temp_centigrade\n"
   ]
  },
  {
   "cell_type": "markdown",
   "metadata": {},
   "source": [
    "### Convert Temperature"
   ]
  },
  {
   "cell_type": "code",
   "execution_count": 43,
   "metadata": {},
   "outputs": [
    {
     "data": {
      "text/plain": [
       "0      40.837559\n",
       "1      70.168066\n",
       "2      44.783342\n",
       "3      60.799736\n",
       "4      65.613145\n",
       "5      58.908015\n",
       "6      61.485418\n",
       "7      76.496406\n",
       "8     130.148266\n",
       "9     105.897024\n",
       "10    162.836376\n",
       "11     39.707110\n",
       "12     57.312435\n",
       "13     44.423288\n",
       "14     73.282960\n",
       "15     24.084498\n",
       "16     39.040223\n",
       "17     93.694643\n",
       "18    108.485233\n",
       "19    103.838714\n",
       "Name: temps, dtype: float64"
      ]
     },
     "execution_count": 43,
     "metadata": {},
     "output_type": "execute_result"
    }
   ],
   "source": [
    "temp_fahrenheit = temp_centigrade[\"temps\"].map(lambda temp: temp*9/5+32)\n",
    "\n",
    "temp_fahrenheit"
   ]
  },
  {
   "cell_type": "markdown",
   "metadata": {},
   "source": [
    "### Replace Negetive Temp"
   ]
  },
  {
   "cell_type": "code",
   "execution_count": null,
   "metadata": {},
   "outputs": [],
   "source": []
  }
 ],
 "metadata": {
  "kernelspec": {
   "display_name": "Python 3",
   "language": "python",
   "name": "python3"
  },
  "language_info": {
   "codemirror_mode": {
    "name": "ipython",
    "version": 3
   },
   "file_extension": ".py",
   "mimetype": "text/x-python",
   "name": "python",
   "nbconvert_exporter": "python",
   "pygments_lexer": "ipython3",
   "version": "3.6.5"
  }
 },
 "nbformat": 4,
 "nbformat_minor": 2
}
