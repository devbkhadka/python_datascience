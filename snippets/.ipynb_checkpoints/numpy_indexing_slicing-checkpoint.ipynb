{
 "cells": [
  {
   "cell_type": "markdown",
   "metadata": {},
   "source": [
    "### 1D Array"
   ]
  },
  {
   "cell_type": "code",
   "execution_count": 33,
   "metadata": {},
   "outputs": [
    {
     "name": "stdout",
     "output_type": "stream",
     "text": [
      "arr_1d[4:8]\n",
      " [4 5 6 7]\n",
      "changed slice\n",
      " [ 0  1  2  3 42 42 42 42  8  9]\n"
     ]
    }
   ],
   "source": [
    "import numpy as np\n",
    "arr_1d = np.array(range(10))\n",
    "slice_1d = arr_1d[4:8] ## similar to python list\n",
    "print('arr_1d[4:8]\\n', slice_1d)\n",
    "slice_1d[:] = 42 ## scalar value can be assigned to range. change in slice will reflect to original array\n",
    "print('changed slice\\n', arr_1d)"
   ]
  },
  {
   "cell_type": "markdown",
   "metadata": {},
   "source": [
    "### Copy range"
   ]
  },
  {
   "cell_type": "code",
   "execution_count": 34,
   "metadata": {},
   "outputs": [
    {
     "name": "stdout",
     "output_type": "stream",
     "text": [
      "arr_ld: [0 1 2 3 4 5 6 7 8 9]\n",
      "copy_slice [3 4 0 0 7]\n"
     ]
    }
   ],
   "source": [
    "import numpy as np\n",
    "arr_1d = np.array(range(10))\n",
    "copy_slice = arr_1d[3:8].copy() ## to make copy we need explicitly call copy\n",
    "copy_slice[2:4] = 0\n",
    "print('arr_ld:', arr_1d)\n",
    "print('copy_slice', copy_slice)"
   ]
  },
  {
   "cell_type": "markdown",
   "metadata": {},
   "source": [
    "### ND array\n",
    "- If arry3D is a 3D array arry3D[0,2,2] will give us scalar value\n",
    "- We can think of 2D array as list of 1D array, 3D array as list of 2D array, 4D array as list of 3D array and so on.\n",
    "- If we omit last 2 indexes, like arry3D[0], we'll get 0th item in list of 2D array\n",
    "- If we omit the last index, like arry3D[0,2], we'll get 1D array, which will be item at index 2 in list of 1D array within 0th item in list of 2D array\n",
    "\n"
   ]
  },
  {
   "cell_type": "code",
   "execution_count": 35,
   "metadata": {},
   "outputs": [
    {
     "name": "stdout",
     "output_type": "stream",
     "text": [
      "arr3d\n",
      " [[[ 0  1  2  3  4]\n",
      "  [ 5  6  7  8  9]\n",
      "  [10 11 12 13 14]\n",
      "  [15 16 17 18 19]]\n",
      "\n",
      " [[20 21 22 23 24]\n",
      "  [25 26 27 28 29]\n",
      "  [30 31 32 33 34]\n",
      "  [35 36 37 38 39]]\n",
      "\n",
      " [[40 41 42 43 44]\n",
      "  [45 46 47 48 49]\n",
      "  [50 51 52 53 54]\n",
      "  [55 56 57 58 59]]]\n",
      "arr3d[1]\n",
      " [[20 21 22 23 24]\n",
      " [25 26 27 28 29]\n",
      " [30 31 32 33 34]\n",
      " [35 36 37 38 39]]\n",
      "arr3d[1,2]\n",
      " [30 31 32 33 34]\n",
      "arr3d[1,2,2]\n",
      " 32\n"
     ]
    }
   ],
   "source": [
    "import numpy as np\n",
    "start_value = 0\n",
    "\n",
    "def create_lst_of_scalar(size):\n",
    "    'returns list of scalar which is a 1D list'\n",
    "    global start_value\n",
    "    lst = list(range(start_value, start_value + size))\n",
    "    start_value += size\n",
    "    return lst\n",
    "\n",
    "def create_lst_of_1d_lst(shape):\n",
    "    'returns list of 1D list which is a 2D list'\n",
    "    return [create_lst_of_scalar(shape[1]) for _ in range(shape[0])]\n",
    "\n",
    "def create_lst_of_2d_lst(shape):\n",
    "    'returns list of 2D list which is a 3D list'\n",
    "    return [create_lst_of_1d_lst(shape[1:3]) for _ in range(shape[0])]\n",
    "\n",
    "\n",
    "arr3d = np.array(create_lst_of_2d_lst((3,4,5)))\n",
    "print('arr3d\\n', arr3d)\n",
    "print('arr3d[1]\\n', arr3d[1])\n",
    "print('arr3d[1,2]\\n', arr3d[1,2])\n",
    "print('arr3d[1,2,2]\\n', arr3d[1,2,2])\n"
   ]
  },
  {
   "cell_type": "markdown",
   "metadata": {},
   "source": [
    "### Slice ND Array"
   ]
  },
  {
   "cell_type": "code",
   "execution_count": 36,
   "metadata": {},
   "outputs": [
    {
     "name": "stdout",
     "output_type": "stream",
     "text": [
      "arr3d\n",
      " [[[ 60  61  62  63  64]\n",
      "  [ 65  66  67  68  69]\n",
      "  [ 70  71  72  73  74]\n",
      "  [ 75  76  77  78  79]]\n",
      "\n",
      " [[ 80  81  82  83  84]\n",
      "  [ 85  86  87  88  89]\n",
      "  [ 90  91  92  93  94]\n",
      "  [ 95  96  97  98  99]]\n",
      "\n",
      " [[100 101 102 103 104]\n",
      "  [105 106 107 108 109]\n",
      "  [110 111 112 113 114]\n",
      "  [115 116 117 118 119]]]\n",
      "arr3d[:,1:3,2:4]\n",
      " [[[ 67  68]\n",
      "  [ 72  73]]\n",
      "\n",
      " [[ 87  88]\n",
      "  [ 92  93]]\n",
      "\n",
      " [[107 108]\n",
      "  [112 113]]]\n",
      "arr3d[:,1:3,2:4]=0\n",
      " [[[ 60  61  62  63  64]\n",
      "  [ 65  66   0   0  69]\n",
      "  [ 70  71   0   0  74]\n",
      "  [ 75  76  77  78  79]]\n",
      "\n",
      " [[ 80  81  82  83  84]\n",
      "  [ 85  86   0   0  89]\n",
      "  [ 90  91   0   0  94]\n",
      "  [ 95  96  97  98  99]]\n",
      "\n",
      " [[100 101 102 103 104]\n",
      "  [105 106   0   0 109]\n",
      "  [110 111   0   0 114]\n",
      "  [115 116 117 118 119]]]\n"
     ]
    }
   ],
   "source": [
    "arr3d = np.array(create_lst_of_2d_lst((3,4,5)))\n",
    "### this slice will get all items from list of 2D array, 1:3 (position 1 and 2) from list of 1D array and 2:4 item from array\n",
    "slice1 = arr3d[:,1:3,2:4]\n",
    "print('arr3d\\n', arr3d)\n",
    "print('arr3d[:,1:3,2:4]\\n', slice1)\n",
    "slice1[:] = 0\n",
    "print('arr3d[:,1:3,2:4]=0\\n', arr3d)"
   ]
  },
  {
   "cell_type": "markdown",
   "metadata": {},
   "source": [
    "### Boolean Indexing\n",
    "Boolean indexing will always create copy"
   ]
  },
  {
   "cell_type": "code",
   "execution_count": 37,
   "metadata": {},
   "outputs": [
    {
     "name": "stdout",
     "output_type": "stream",
     "text": [
      "arr\n",
      " [[[ 0.44122749 -0.33087015  2.43077119 -0.25209213]\n",
      "  [ 0.10960984  1.58248112 -0.9092324  -0.59163666]\n",
      "  [ 0.18760323 -0.32986996 -1.19276461 -0.20487651]]\n",
      "\n",
      " [[-0.35882895  0.6034716  -1.66478853 -0.70017904]\n",
      "  [ 1.15139101  1.85733101 -1.51117956  0.64484751]\n",
      "  [-0.98060789 -0.85685315 -0.87187918 -0.42250793]]\n",
      "\n",
      " [[ 0.99643983  0.71242127  0.05914424 -0.36331088]\n",
      "  [ 0.00328884 -0.10593044  0.79305332 -0.63157163]\n",
      "  [-0.00619491 -0.10106761 -0.05230815  0.24921766]]]\n",
      "is_positive\n",
      " [[[ True False  True False]\n",
      "  [ True  True False False]\n",
      "  [ True False False False]]\n",
      "\n",
      " [[False  True False False]\n",
      "  [ True  True False  True]\n",
      "  [False False False False]]\n",
      "\n",
      " [[ True  True  True False]\n",
      "  [ True False  True False]\n",
      "  [False False False  True]]]\n",
      "positive_items\n",
      " [0.44122749 2.43077119 0.10960984 1.58248112 0.18760323 0.6034716\n",
      " 1.15139101 1.85733101 0.64484751 0.99643983 0.71242127 0.05914424\n",
      " 0.00328884 0.79305332 0.24921766]\n",
      "negetive items\n",
      " [-0.33087015 -0.25209213 -0.9092324  -0.59163666 -0.32986996 -1.19276461\n",
      " -0.20487651 -0.35882895 -1.66478853 -0.70017904 -1.51117956 -0.98060789\n",
      " -0.85685315 -0.87187918 -0.42250793 -0.36331088 -0.10593044 -0.63157163\n",
      " -0.00619491 -0.10106761 -0.05230815]\n",
      "Replaced -ve items with 0\n",
      " [[[0.44122749 0.         2.43077119 0.        ]\n",
      "  [0.10960984 1.58248112 0.         0.        ]\n",
      "  [0.18760323 0.         0.         0.        ]]\n",
      "\n",
      " [[0.         0.6034716  0.         0.        ]\n",
      "  [1.15139101 1.85733101 0.         0.64484751]\n",
      "  [0.         0.         0.         0.        ]]\n",
      "\n",
      " [[0.99643983 0.71242127 0.05914424 0.        ]\n",
      "  [0.00328884 0.         0.79305332 0.        ]\n",
      "  [0.         0.         0.         0.24921766]]]\n"
     ]
    }
   ],
   "source": [
    "import numpy as np\n",
    "np.random.seed(5)\n",
    "arr = np.random.randn(3,3,4)\n",
    "is_positive = arr>=0\n",
    "print('arr\\n', arr)\n",
    "print('is_positive\\n', is_positive)\n",
    "\n",
    "positive_items = arr[is_positive]\n",
    "negetive_items = arr[~is_positive]\n",
    "print('positive_items\\n', positive_items)\n",
    "print('negetive items\\n', negetive_items)\n",
    "arr[~is_positive]=0 # make negative items zero\n",
    "print('Replaced -ve items with 0\\n', arr)\n"
   ]
  },
  {
   "cell_type": "markdown",
   "metadata": {},
   "source": [
    "### Mixed indexing"
   ]
  },
  {
   "cell_type": "code",
   "execution_count": 38,
   "metadata": {},
   "outputs": [
    {
     "name": "stdout",
     "output_type": "stream",
     "text": [
      "scores\n",
      " [[47 40 40 47 48]\n",
      " [25 46 40 45 47]\n",
      " [29 39 47 47 40]\n",
      " [43 48 41 45 46]\n",
      " [43 41 38 47 39]\n",
      " [36 42 34 31 41]\n",
      " [36 40 34 48 36]\n",
      " [41 33 43 37 40]]\n",
      "shaym\n",
      " [False  True False False  True False False False]\n",
      "shyam_scores: scores[shyam]\n",
      " [[25 46 40 45 47]\n",
      " [43 41 38 47 39]]\n",
      "shyam_scores: scores[shyam, 2:4]\n",
      " [[40 45]\n",
      " [38 47]]\n"
     ]
    }
   ],
   "source": [
    "users = np.array(['ram', 'shyam', 'ram', 'hari','shyam', 'chari', 'chari', 'pari', ])\n",
    "scores =  np.random.binomial(100, .4, (8,5))\n",
    "print(\"scores\\n\", scores)\n",
    "shyam = users == 'shyam'\n",
    "print('shaym\\n', shyam)\n",
    "shyam_scores = scores[shyam]\n",
    "print('shyam_scores: scores[shyam]\\n', shyam_scores)\n",
    "print('shyam_scores: scores[shyam, 2:4]\\n', scores[shyam, 2:4])\n"
   ]
  },
  {
   "cell_type": "markdown",
   "metadata": {},
   "source": [
    "### Multi Dimension Boolean Indexing\n",
    "- boolean indexing returns one dimensional array of items whose index as true in the boolean index\n",
    "- If dimension of boolean index is less than the indexed array, dimension of matched item will be equal to the difference in dimension. ie. if array is of 3D and index is of 2D then items matched by the index will be 1D array. if index is 1D then items matched will be 2D\n",
    "- If length of boolean index for any dimension is not equal to length of indexed array in corresponding dimension error will be thrown"
   ]
  },
  {
   "cell_type": "code",
   "execution_count": 57,
   "metadata": {},
   "outputs": [
    {
     "name": "stdout",
     "output_type": "stream",
     "text": [
      "arr\n",
      " [[[44 96 97 59]\n",
      "  [95 33 34 31]\n",
      "  [33 83 96 95]]\n",
      "\n",
      " [[24 95 65 14]\n",
      "  [ 4 35 39 16]\n",
      "  [86 48 42  3]]\n",
      "\n",
      " [[65 32 78 80]\n",
      "  [ 3 65 23 66]\n",
      "  [71 48 13 39]]]\n",
      "bool_index2D\n",
      " [[False False False]\n",
      " [False  True  True]\n",
      " [ True False False]]\n",
      "arr[bool_index3D]\n",
      " [44 96 59 31 96 95 24 65  4 86 48  3 65 78  3 71 48 13]\n",
      "arr[bool_index2D]\n",
      " [[ 4 35 39 16]\n",
      " [86 48 42  3]\n",
      " [65 32 78 80]]\n",
      "arr[bool_index1D]\n",
      " [[[44 96 97 59]\n",
      "  [95 33 34 31]\n",
      "  [33 83 96 95]]\n",
      "\n",
      " [[65 32 78 80]\n",
      "  [ 3 65 23 66]\n",
      "  [71 48 13 39]]]\n"
     ]
    }
   ],
   "source": [
    "arr = np.random.randint(0,100, (3,3,4))\n",
    "bool_index3D = np.random.randn(3,3,4)>0\n",
    "bool_index2D = np.random.randn(3,3)>0\n",
    "bool_index1D = [True, False, True]\n",
    "print('arr\\n', arr)\n",
    "\n",
    "print('bool_index2D\\n', bool_index2D)\n",
    "print('arr[bool_index3D]\\n', arr[bool_index3D])\n",
    "print('arr[bool_index2D]\\n', arr[bool_index2D])\n",
    "print('arr[bool_index1D]\\n', arr[bool_index1D])\n",
    "\n"
   ]
  },
  {
   "cell_type": "markdown",
   "metadata": {},
   "source": [
    "### Fancy Indexing\n",
    "- Indexing by integer array\n",
    "- If index is [4,1,6,3] array returned will have items at 4th, 1st, 6th and 3rd in that order"
   ]
  },
  {
   "cell_type": "code",
   "execution_count": 66,
   "metadata": {},
   "outputs": [
    {
     "name": "stdout",
     "output_type": "stream",
     "text": [
      "arr\n",
      " [[0. 0. 0. 0.]\n",
      " [1. 1. 1. 1.]\n",
      " [2. 2. 2. 2.]\n",
      " [3. 3. 3. 3.]\n",
      " [4. 4. 4. 4.]\n",
      " [5. 5. 5. 5.]\n",
      " [6. 6. 6. 6.]\n",
      " [7. 7. 7. 7.]]\n",
      "arr[[4,1,7]]\n",
      " [[4. 4. 4. 4.]\n",
      " [1. 1. 1. 1.]\n",
      " [7. 7. 7. 7.]]\n"
     ]
    }
   ],
   "source": [
    "arr2D = np.zeros((8,4))\n",
    "for i in range(8):\n",
    "    arr2D[i]=i\n",
    "print('arr2D\\n', arr2D)\n",
    "print('arr2D[[4,1,7]]\\n', arr2D[[4,1,7]])"
   ]
  },
  {
   "cell_type": "markdown",
   "metadata": {},
   "source": [
    "### Multi dimensional index\n",
    "- If index integer array is 2D like  [[1,2],[0,1],[3,3]]] then it will find items at (1,0,3) and (2,1,3)\n",
    "- Index like [[1,2],[0,1,2],[3,3]]] will raise error as list size are not same"
   ]
  },
  {
   "cell_type": "code",
   "execution_count": 107,
   "metadata": {},
   "outputs": [
    {
     "name": "stdout",
     "output_type": "stream",
     "text": [
      "arr3D\n",
      " [[[ 0.  1.  2.  3.]\n",
      "  [ 4.  5.  6.  7.]\n",
      "  [ 8.  9. 10. 11.]\n",
      "  [12. 13. 14. 15.]\n",
      "  [16. 17. 18. 19.]\n",
      "  [20. 21. 22. 23.]]\n",
      "\n",
      " [[ 6.  7.  8.  9.]\n",
      "  [10. 11. 12. 13.]\n",
      "  [14. 15. 16. 17.]\n",
      "  [18. 19. 20. 21.]\n",
      "  [22. 23. 24. 25.]\n",
      "  [26. 27. 28. 29.]]\n",
      "\n",
      " [[12. 13. 14. 15.]\n",
      "  [16. 17. 18. 19.]\n",
      "  [20. 21. 22. 23.]\n",
      "  [24. 25. 26. 27.]\n",
      "  [28. 29. 30. 31.]\n",
      "  [32. 33. 34. 35.]]]\n",
      "arr3D[[1,2]]\n",
      " [[[ 6.  7.  8.  9.]\n",
      "  [10. 11. 12. 13.]\n",
      "  [14. 15. 16. 17.]\n",
      "  [18. 19. 20. 21.]\n",
      "  [22. 23. 24. 25.]\n",
      "  [26. 27. 28. 29.]]\n",
      "\n",
      " [[12. 13. 14. 15.]\n",
      "  [16. 17. 18. 19.]\n",
      "  [20. 21. 22. 23.]\n",
      "  [24. 25. 26. 27.]\n",
      "  [28. 29. 30. 31.]\n",
      "  [32. 33. 34. 35.]]]\n",
      "arr3D[]\n",
      " [ 9. 27.]\n"
     ]
    }
   ],
   "source": [
    "arr3D = np.zeros((3,6,4))\n",
    "for i in range(3):\n",
    "    for j in range(6):\n",
    "        for k in range(4):\n",
    "            arr3D[i,j,k]=i*6+4*j+k\n",
    "print('arr3D\\n', arr3D)\n",
    "print('arr3D[[1,2]]\\n', arr3D[[1,2]])\n",
    "print('arr3D[]\\n', arr3D[[[1,2],[0,3],[3,3]]])\n"
   ]
  },
  {
   "cell_type": "code",
   "execution_count": null,
   "metadata": {},
   "outputs": [],
   "source": []
  }
 ],
 "metadata": {
  "kernelspec": {
   "display_name": "Python 3",
   "language": "python",
   "name": "python3"
  },
  "language_info": {
   "codemirror_mode": {
    "name": "ipython",
    "version": 3
   },
   "file_extension": ".py",
   "mimetype": "text/x-python",
   "name": "python",
   "nbconvert_exporter": "python",
   "pygments_lexer": "ipython3",
   "version": "3.6.5"
  }
 },
 "nbformat": 4,
 "nbformat_minor": 2
}
