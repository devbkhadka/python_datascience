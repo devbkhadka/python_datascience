{
 "cells": [
  {
   "cell_type": "markdown",
   "metadata": {},
   "source": [
    "### Matrix Multiplication"
   ]
  },
  {
   "cell_type": "code",
   "execution_count": 22,
   "metadata": {},
   "outputs": [
    {
     "name": "stdout",
     "output_type": "stream",
     "text": [
      "[[-0.26783211 -1.08446038 -0.53335337  1.47878265 -0.15374837]\n",
      " [ 0.71990766  0.97389959 -0.61136397 -0.54030236 -1.99129911]\n",
      " [-0.68342048 -1.21106442  1.23440805  0.37429582 -0.75526029]]\n",
      "[[1. 0. 0. 0. 0.]\n",
      " [0. 1. 0. 0. 0.]\n",
      " [0. 0. 1. 0. 0.]\n",
      " [0. 0. 0. 1. 0.]\n",
      " [0. 0. 0. 0. 1.]]\n",
      "m1.dot(m2)\n",
      " [[-0.26783211 -1.08446038 -0.53335337  1.47878265 -0.15374837]\n",
      " [ 0.71990766  0.97389959 -0.61136397 -0.54030236 -1.99129911]\n",
      " [-0.68342048 -1.21106442  1.23440805  0.37429582 -0.75526029]]\n",
      "m1@m2\n",
      " [[-0.26783211 -1.08446038 -0.53335337  1.47878265 -0.15374837]\n",
      " [ 0.71990766  0.97389959 -0.61136397 -0.54030236 -1.99129911]\n",
      " [-0.68342048 -1.21106442  1.23440805  0.37429582 -0.75526029]]\n"
     ]
    }
   ],
   "source": [
    "import numpy as np\n",
    "from numpy import linalg\n",
    "\n",
    "m1 = np.random.randn(3,5)\n",
    "print(m1)\n",
    "m2 = np.eye(5)\n",
    "print(m2)\n",
    "print('m1.dot(m2)\\n', m1.dot(m2))\n",
    "print('m1@m2\\n', m1@m2)\n"
   ]
  },
  {
   "cell_type": "code",
   "execution_count": 23,
   "metadata": {},
   "outputs": [
    {
     "name": "stdout",
     "output_type": "stream",
     "text": [
      "[[ 1.00000000e+00 -3.46944695e-17 -2.77555756e-17 -1.38777878e-17]\n",
      " [ 1.11022302e-16  1.00000000e+00 -5.55111512e-17  0.00000000e+00]\n",
      " [-1.11022302e-16  0.00000000e+00  1.00000000e+00 -5.55111512e-17]\n",
      " [-2.22044605e-16 -2.22044605e-16  1.11022302e-16  1.00000000e+00]]\n"
     ]
    }
   ],
   "source": [
    "m1 = np.random.randn(4,4)\n",
    "print(m1@linalg.inv(m1))"
   ]
  },
  {
   "cell_type": "code",
   "execution_count": null,
   "metadata": {},
   "outputs": [],
   "source": []
  }
 ],
 "metadata": {
  "kernelspec": {
   "display_name": "Python 3",
   "language": "python",
   "name": "python3"
  },
  "language_info": {
   "codemirror_mode": {
    "name": "ipython",
    "version": 3
   },
   "file_extension": ".py",
   "mimetype": "text/x-python",
   "name": "python",
   "nbconvert_exporter": "python",
   "pygments_lexer": "ipython3",
   "version": "3.6.5"
  }
 },
 "nbformat": 4,
 "nbformat_minor": 2
}
