{
 "cells": [
  {
   "cell_type": "markdown",
   "metadata": {},
   "source": [
    "### Load From String"
   ]
  },
  {
   "cell_type": "code",
   "execution_count": 4,
   "metadata": {},
   "outputs": [
    {
     "data": {
      "text/plain": [
       "{'id': 'file',\n",
       " 'value': 'File',\n",
       " 'popup': {'menuitem': [{'value': 'New', 'onclick': 'CreateNewDoc()'},\n",
       "   {'value': 'Open', 'onclick': 'OpenDoc()'},\n",
       "   {'value': 'Close', 'onclick': 'CloseDoc()'}]}}"
      ]
     },
     "execution_count": 4,
     "metadata": {},
     "output_type": "execute_result"
    }
   ],
   "source": [
    "import json\n",
    "json_str = '''\n",
    "{\"menu\": {\n",
    "  \"id\": \"file\",\n",
    "  \"value\": \"File\",\n",
    "  \"popup\": {\n",
    "    \"menuitem\": [\n",
    "      {\"value\": \"New\", \"onclick\": \"CreateNewDoc()\"},\n",
    "      {\"value\": \"Open\", \"onclick\": \"OpenDoc()\"},\n",
    "      {\"value\": \"Close\", \"onclick\": \"CloseDoc()\"}\n",
    "    ]\n",
    "  }\n",
    "}}\n",
    "'''\n",
    "dic = json.loads(json_str)\n",
    "dic['menu']"
   ]
  },
  {
   "cell_type": "markdown",
   "metadata": {},
   "source": [
    "### Load From File"
   ]
  },
  {
   "cell_type": "code",
   "execution_count": 36,
   "metadata": {},
   "outputs": [
    {
     "data": {
      "text/plain": [
       "{'widget': {'debug': 'on',\n",
       "  'window': {'title': 'Sample Konfabulator Widget',\n",
       "   'name': 'main_window',\n",
       "   'width': 500,\n",
       "   'height': 500},\n",
       "  'image': {'src': 'Images/Sun.png',\n",
       "   'name': 'sun1',\n",
       "   'hOffset': 250,\n",
       "   'vOffset': 250,\n",
       "   'alignment': 'center'},\n",
       "  'text': {'data': 'Click Here',\n",
       "   'size': 36,\n",
       "   'style': 'bold',\n",
       "   'name': 'text1',\n",
       "   'hOffset': 250,\n",
       "   'vOffset': 100,\n",
       "   'alignment': 'center',\n",
       "   'onMouseUp': 'sun1.opacity = (sun1.opacity / 100) * 90;'}}}"
      ]
     },
     "metadata": {},
     "output_type": "display_data"
    }
   ],
   "source": [
    "with open('data/json/widget.json', 'r') as js:\n",
    "    display(json.loads(js.read()))"
   ]
  },
  {
   "cell_type": "markdown",
   "metadata": {},
   "source": [
    "### JSON Dump"
   ]
  },
  {
   "cell_type": "code",
   "execution_count": 39,
   "metadata": {},
   "outputs": [],
   "source": [
    "import numpy as np\n",
    "import json\n",
    "import sys\n",
    "\n",
    "convert_int = np.vectorize(int)\n",
    "\n",
    "def encode_complex(val):\n",
    "    if isinstance(val, np.int64):\n",
    "        return int(val)\n",
    "    return str(type(val))\n",
    "\n",
    "incomes = {\n",
    "    'name': ['ram', 'sita', 'hari', 'krishna', 'sabin'],\n",
    "    'age': list(convert_int(np.random.randint(16, 25, (5)))),\n",
    "    'income': list(convert_int(np.random.randint(0, 8, (5))*500 + 40000))\n",
    "}\n",
    "\n",
    "with open('data/json/incomes.json', 'w') as js:\n",
    "    json.dump(incomes, js , default=encode_complex)"
   ]
  },
  {
   "cell_type": "markdown",
   "metadata": {},
   "source": [
    "### JSON File to DataFrame\n",
    "- Assumes array in each json key\n",
    "- json key -> column name; arry ->column values"
   ]
  },
  {
   "cell_type": "code",
   "execution_count": 40,
   "metadata": {},
   "outputs": [
    {
     "data": {
      "text/html": [
       "<div>\n",
       "<style scoped>\n",
       "    .dataframe tbody tr th:only-of-type {\n",
       "        vertical-align: middle;\n",
       "    }\n",
       "\n",
       "    .dataframe tbody tr th {\n",
       "        vertical-align: top;\n",
       "    }\n",
       "\n",
       "    .dataframe thead th {\n",
       "        text-align: right;\n",
       "    }\n",
       "</style>\n",
       "<table border=\"1\" class=\"dataframe\">\n",
       "  <thead>\n",
       "    <tr style=\"text-align: right;\">\n",
       "      <th></th>\n",
       "      <th>name</th>\n",
       "      <th>age</th>\n",
       "      <th>income</th>\n",
       "    </tr>\n",
       "  </thead>\n",
       "  <tbody>\n",
       "    <tr>\n",
       "      <th>0</th>\n",
       "      <td>ram</td>\n",
       "      <td>22</td>\n",
       "      <td>41500</td>\n",
       "    </tr>\n",
       "    <tr>\n",
       "      <th>1</th>\n",
       "      <td>sita</td>\n",
       "      <td>19</td>\n",
       "      <td>40500</td>\n",
       "    </tr>\n",
       "    <tr>\n",
       "      <th>2</th>\n",
       "      <td>hari</td>\n",
       "      <td>19</td>\n",
       "      <td>40000</td>\n",
       "    </tr>\n",
       "    <tr>\n",
       "      <th>3</th>\n",
       "      <td>krishna</td>\n",
       "      <td>24</td>\n",
       "      <td>41500</td>\n",
       "    </tr>\n",
       "    <tr>\n",
       "      <th>4</th>\n",
       "      <td>sabin</td>\n",
       "      <td>16</td>\n",
       "      <td>42500</td>\n",
       "    </tr>\n",
       "  </tbody>\n",
       "</table>\n",
       "</div>"
      ],
      "text/plain": [
       "      name  age  income\n",
       "0      ram   22   41500\n",
       "1     sita   19   40500\n",
       "2     hari   19   40000\n",
       "3  krishna   24   41500\n",
       "4    sabin   16   42500"
      ]
     },
     "execution_count": 40,
     "metadata": {},
     "output_type": "execute_result"
    }
   ],
   "source": [
    "import pandas as pd\n",
    "pd.read_json('data/json/incomes.json')"
   ]
  },
  {
   "cell_type": "markdown",
   "metadata": {},
   "source": [
    "### DataFrame to Json"
   ]
  },
  {
   "cell_type": "code",
   "execution_count": 44,
   "metadata": {},
   "outputs": [
    {
     "name": "stdout",
     "output_type": "stream",
     "text": [
      "{\"name\":{\"0\":\"ram\",\"1\":\"sita\",\"2\":\"hari\",\"3\":\"krishna\",\"4\":\"sabin\"},\"age\":{\"0\":22,\"1\":19,\"2\":19,\"3\":24,\"4\":16},\"income\":{\"0\":41500,\"1\":40500,\"2\":40000,\"3\":41500,\"4\":42500}}\n",
      "\n",
      "[{\"name\":\"ram\",\"age\":22,\"income\":41500},{\"name\":\"sita\",\"age\":19,\"income\":40500},{\"name\":\"hari\",\"age\":19,\"income\":40000},{\"name\":\"krishna\",\"age\":24,\"income\":41500},{\"name\":\"sabin\",\"age\":16,\"income\":42500}]"
     ]
    }
   ],
   "source": [
    "df_incomes = pd.read_json('data/json/incomes.json')\n",
    "df_incomes.to_json(sys.stdout)\n",
    "sys.stdout.write('\\n\\n')\n",
    "df_incomes.to_json(sys.stdout, orient='records')"
   ]
  },
  {
   "cell_type": "markdown",
   "metadata": {},
   "source": [
    "### Series to Json"
   ]
  },
  {
   "cell_type": "code",
   "execution_count": 47,
   "metadata": {},
   "outputs": [
    {
     "name": "stdout",
     "output_type": "stream",
     "text": [
      "{\"a\":47,\"b\":15,\"c\":27,\"d\":46,\"e\":66}"
     ]
    }
   ],
   "source": [
    "series = pd.Series(np.random.randint(0,100, (5)), index=list('abcde') )\n",
    "series.to_json(sys.stdout)"
   ]
  },
  {
   "cell_type": "code",
   "execution_count": null,
   "metadata": {},
   "outputs": [],
   "source": []
  }
 ],
 "metadata": {
  "kernelspec": {
   "display_name": "Python 3",
   "language": "python",
   "name": "python3"
  },
  "language_info": {
   "codemirror_mode": {
    "name": "ipython",
    "version": 3
   },
   "file_extension": ".py",
   "mimetype": "text/x-python",
   "name": "python",
   "nbconvert_exporter": "python",
   "pygments_lexer": "ipython3",
   "version": "3.6.5"
  }
 },
 "nbformat": 4,
 "nbformat_minor": 2
}
