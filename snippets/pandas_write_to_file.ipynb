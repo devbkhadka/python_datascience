{
 "cells": [
  {
   "cell_type": "markdown",
   "metadata": {},
   "source": [
    "### Write To File"
   ]
  },
  {
   "cell_type": "code",
   "execution_count": 15,
   "metadata": {},
   "outputs": [
    {
     "name": "stdout",
     "output_type": "stream",
     "text": [
      "|street|city|zip|state|beds|baths|sq__ft|sale_date\n",
      "0|3526 HIGH ST|SACRAMENTO|95838|CA|2|1|836|Wed May 21 00:00:00 EDT 2008\n",
      "1|51 OMAHA CT|SACRAMENTO|95823|CA|3|1|1167|Wed May 21 00:00:00 EDT 2008\n",
      "2|2796 BRANCH ST|SACRAMENTO|95815|CA|2|1|796|Wed May 21 00:00:00 EDT 2008\n",
      "3|2805 JANETTE WAY|SACRAMENTO|95815|CA|2|1|852|Wed May 21 00:00:00 EDT 2008\n",
      "4|6001 MCMAHON DR|SACRAMENTO|95824|CA|2|1|797|Wed May 21 00:00:00 EDT 2008\n",
      "5|5828 PEPPERMILL CT|SACRAMENTO|95841|CA|3|1|1122|Wed May 21 00:00:00 EDT 2008\n",
      "6|6048 OGDEN NASH WAY|SACRAMENTO|95842|CA|3|2|1104|Wed May 21 00:00:00 EDT 2008\n",
      "7|2561 19TH AVE|SACRAMENTO|95820|CA|3|1|1177|Wed May 21 00:00:00 EDT 2008\n",
      "8|11150 TRINITY RIVER DR Unit 114|RANCHO CORDOVA|95670|CA|2|2|941|Wed May 21 00:00:00 EDT 2008\n",
      "9|7325 10TH ST|RIO LINDA|95673|CA|3|2|1146|Wed May 21 00:00:00 EDT 2008\n",
      "10|645 MORRISON AVE|SACRAMENTO|95838|CA|3|2|909|Wed May 21 00:00:00 EDT 2008\n",
      "11|4085 FAWN CIR|SACRAMENTO|95823|CA|3|2|1289|Wed May 21 00:00:00 EDT 2008\n",
      "12|2930 LA ROSA RD|SACRAMENTO|95815|CA|1|1|871|Wed May 21 00:00:00 EDT 2008\n",
      "13|2113 KIRK WAY|SACRAMENTO|95822|CA|3|1|1020|Wed May 21 00:00:00 EDT 2008\n",
      "14|4533 LOCH HAVEN WAY|SACRAMENTO|95842|CA|2|2|1022|Wed May 21 00:00:00 EDT 2008\n",
      "15|7340 HAMDEN PL|SACRAMENTO|95842|CA|2|2|1134|Wed May 21 00:00:00 EDT 2008\n",
      "16|6715 6TH ST|RIO LINDA|95673|CA|2|1|844|Wed May 21 00:00:00 EDT 2008\n",
      "17|6236 LONGFORD DR Unit 1|CITRUS HEIGHTS|95621|CA|2|1|795|Wed May 21 00:00:00 EDT 2008\n",
      "18|250 PERALTA AVE|SACRAMENTO|95833|CA|2|1|588|Wed May 21 00:00:00 EDT 2008\n",
      "19|113 LEEWILL AVE|RIO LINDA|95673|CA|3|2|1356|Wed May 21 00:00:00 EDT 2008\n",
      "20|6118 STONEHAND AVE|CITRUS HEIGHTS|95621|CA|3|2|1118|Wed May 21 00:00:00 EDT 2008\n",
      "21|4882 BANDALIN WAY|SACRAMENTO|95823|CA|4|2|1329|Wed May 21 00:00:00 EDT 2008\n",
      "22|7511 OAKVALE CT|NORTH HIGHLANDS|95660|CA|4|2|1240|Wed May 21 00:00:00 EDT 2008\n",
      "23|9 PASTURE CT|SACRAMENTO|95834|CA|3|2|1601|Wed May 21 00:00:00 EDT 2008\n",
      "24|3729 BAINBRIDGE DR|NORTH HIGHLANDS|95660|CA|3|2|901|Wed May 21 00:00:00 EDT 2008\n",
      "25|3828 BLACKFOOT WAY|ANTELOPE|95843|CA|3|2|1088|Wed May 21 00:00:00 EDT 2008\n",
      "26|4108 NORTON WAY|SACRAMENTO|95820|CA|3|1|963|Wed May 21 00:00:00 EDT 2008\n",
      "27|1469 JANRICK AVE|SACRAMENTO|95832|CA|3|2|1119|Wed May 21 00:00:00 EDT 2008\n",
      "28|9861 CULP WAY|SACRAMENTO|95827|CA|4|2|1380|Wed May 21 00:00:00 EDT 2008\n",
      "29|7825 CREEK VALLEY CIR|SACRAMENTO|95828|CA|3|2|1248|Wed May 21 00:00:00 EDT 2008\n",
      "30|5201 LAGUNA OAKS DR Unit 140|ELK GROVE|95758|CA|2|2|1039|Wed May 21 00:00:00 EDT 2008\n",
      "31|6768 MEDORA DR|NORTH HIGHLANDS|95660|CA|3|2|1152|Wed May 21 00:00:00 EDT 2008\n",
      "32|3100 EXPLORER DR|SACRAMENTO|95827|CA|3|2|1380|Wed May 21 00:00:00 EDT 2008\n",
      "33|7944 DOMINION WAY|ELVERTA|95626|CA|3|2|1116|Wed May 21 00:00:00 EDT 2008\n",
      "34|5201 LAGUNA OAKS DR Unit 162|ELK GROVE|95758|CA|2|2|1039|Wed May 21 00:00:00 EDT 2008\n",
      "35|3920 SHINING STAR DR|SACRAMENTO|95823|CA|3|2|1418|Wed May 21 00:00:00 EDT 2008\n",
      "36|5031 CORVAIR ST|NORTH HIGHLANDS|95660|CA|3|2|1082|Wed May 21 00:00:00 EDT 2008\n",
      "37|7661 NIXOS WAY|SACRAMENTO|95823|CA|4|2|1472|Wed May 21 00:00:00 EDT 2008\n",
      "38|7044 CARTHY WAY|SACRAMENTO|95828|CA|4|2|1146|Wed May 21 00:00:00 EDT 2008\n",
      "39|2442 LARKSPUR LN|SACRAMENTO|95825|CA|1|1|760|Wed May 21 00:00:00 EDT 2008\n"
     ]
    }
   ],
   "source": [
    "import pandas as pd\n",
    "import sys\n",
    "df = pd.read_csv('data/real-estate-transactions.csv', nrows=40, usecols = [0,1,2,3,4,5,6,8])\n",
    "### replace sys.stdout with file name to write in file\n",
    "df.to_csv(sys.stdout, sep=\"|\")\n"
   ]
  },
  {
   "cell_type": "markdown",
   "metadata": {},
   "source": [
    "### Represent Null"
   ]
  },
  {
   "cell_type": "code",
   "execution_count": 28,
   "metadata": {},
   "outputs": [
    {
     "name": "stdout",
     "output_type": "stream",
     "text": [
      "SACRAMENTO,2,1,836.0\n",
      "SACRAMENTO,3,1,1167.0\n",
      "SACRAMENTO,2,1,796.0\n",
      "SACRAMENTO,2,1,852.0\n",
      "SACRAMENTO,2,1,797.0\n",
      "SACRAMENTO,3,1,1122.0\n",
      "SACRAMENTO,3,2,1104.0\n",
      "SACRAMENTO,3,1,--NA--\n",
      "RANCHO CORDOVA,2,2,941.0\n",
      "RIO LINDA,3,2,1146.0\n",
      "SACRAMENTO,3,2,909.0\n",
      "SACRAMENTO,3,2,1289.0\n",
      "SACRAMENTO,1,1,--NA--\n",
      "SACRAMENTO,3,1,1020.0\n",
      "SACRAMENTO,2,2,1022.0\n",
      "SACRAMENTO,2,2,--NA--\n",
      "RIO LINDA,2,1,--NA--\n",
      "CITRUS HEIGHTS,2,1,795.0\n",
      "SACRAMENTO,2,1,588.0\n",
      "RIO LINDA,3,2,1356.0\n",
      "CITRUS HEIGHTS,3,2,1118.0\n",
      "SACRAMENTO,4,2,--NA--\n",
      "NORTH HIGHLANDS,4,2,1240.0\n",
      "SACRAMENTO,3,2,1601.0\n",
      "NORTH HIGHLANDS,3,2,--NA--\n",
      "ANTELOPE,3,2,1088.0\n",
      "SACRAMENTO,3,1,963.0\n",
      "SACRAMENTO,3,2,1119.0\n",
      "SACRAMENTO,4,2,1380.0\n",
      "SACRAMENTO,3,2,1248.0\n",
      "ELK GROVE,2,2,--NA--\n",
      "NORTH HIGHLANDS,3,2,1152.0\n",
      "SACRAMENTO,3,2,--NA--\n",
      "ELVERTA,3,2,--NA--\n",
      "ELK GROVE,2,2,1039.0\n",
      "SACRAMENTO,3,2,1418.0\n",
      "NORTH HIGHLANDS,3,2,1082.0\n",
      "SACRAMENTO,4,2,1472.0\n",
      "SACRAMENTO,4,2,1146.0\n",
      "SACRAMENTO,1,1,--NA--\n"
     ]
    }
   ],
   "source": [
    "import numpy as np\n",
    "cdf = df.copy()\n",
    "arr = np.random.choice(range(40), (10))\n",
    "cdf.loc[arr, 'sq__ft'] = float('nan')\n",
    "cdf.to_csv(sys.stdout, na_rep=\"--NA--\", index=False, header=False, columns=['city', 'beds', 'baths', 'sq__ft'])\n",
    "\n",
    "\n"
   ]
  },
  {
   "cell_type": "markdown",
   "metadata": {},
   "source": [
    "### Write Series to File"
   ]
  },
  {
   "cell_type": "code",
   "execution_count": 36,
   "metadata": {},
   "outputs": [
    {
     "name": "stdout",
     "output_type": "stream",
     "text": [
      "24,NORTH HIGHLANDS\n",
      "21,SACRAMENTO\n",
      "30,ELK GROVE\n",
      "33,ELVERTA\n",
      "16,RIO LINDA\n",
      "7,SACRAMENTO\n",
      "12,SACRAMENTO\n",
      "39,SACRAMENTO\n",
      "15,SACRAMENTO\n",
      "32,SACRAMENTO\n"
     ]
    }
   ],
   "source": [
    "series1 = pd.Series(cdf.loc[arr, 'city'])\n",
    "\n",
    "series1.to_csv(sys.stdout)"
   ]
  },
  {
   "cell_type": "code",
   "execution_count": null,
   "metadata": {},
   "outputs": [],
   "source": []
  }
 ],
 "metadata": {
  "kernelspec": {
   "display_name": "Python 3",
   "language": "python",
   "name": "python3"
  },
  "language_info": {
   "codemirror_mode": {
    "name": "ipython",
    "version": 3
   },
   "file_extension": ".py",
   "mimetype": "text/x-python",
   "name": "python",
   "nbconvert_exporter": "python",
   "pygments_lexer": "ipython3",
   "version": "3.6.5"
  }
 },
 "nbformat": 4,
 "nbformat_minor": 2
}
