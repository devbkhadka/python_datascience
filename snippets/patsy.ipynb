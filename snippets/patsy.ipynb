{
 "cells": [
  {
   "cell_type": "markdown",
   "metadata": {},
   "source": [
    "### Generate Linear Data With Some Randomness"
   ]
  },
  {
   "cell_type": "code",
   "execution_count": 26,
   "metadata": {},
   "outputs": [
    {
     "data": {
      "text/plain": [
       "<matplotlib.axes._subplots.AxesSubplot at 0x10f7f1a58>"
      ]
     },
     "execution_count": 26,
     "metadata": {},
     "output_type": "execute_result"
    },
    {
     "data": {
      "image/png": "[encoded data removed]",
      "text/plain": [
       "<Figure size 432x288 with 1 Axes>"
      ]
     },
     "metadata": {},
     "output_type": "display_data"
    }
   ],
   "source": [
    "import numpy as np\n",
    "import pandas as pd\n",
    "\n",
    "N=40\n",
    "x_values = np.arange(N)\n",
    "y_values = (4 * x_values + 12) * (1 + 0.1 * np.random.randn(N))\n",
    "\n",
    "data = {\n",
    "    \"x\": x_values,\n",
    "    \"y\": y_values\n",
    "}\n",
    "\n",
    "df = pd.DataFrame(data)\n",
    "df.plot (x=\"x\", y=\"y\")"
   ]
  },
  {
   "cell_type": "markdown",
   "metadata": {},
   "source": [
    "### Patsy Formula"
   ]
  },
  {
   "cell_type": "code",
   "execution_count": 27,
   "metadata": {},
   "outputs": [
    {
     "data": {
      "text/plain": [
       "array([[130.64008494],\n",
       "       [164.63870648],\n",
       "       [163.0482021 ],\n",
       "       [165.46592361],\n",
       "       [183.04614365]])"
      ]
     },
     "execution_count": 27,
     "metadata": {},
     "output_type": "execute_result"
    }
   ],
   "source": [
    "import patsy\n",
    "y, X = patsy.dmatrices(\"y ~ x\", df) # with one independent variable\n",
    "y[-5:]"
   ]
  },
  {
   "cell_type": "code",
   "execution_count": 29,
   "metadata": {},
   "outputs": [
    {
     "data": {
      "text/plain": [
       "array([[ 1., 35.],\n",
       "       [ 1., 36.],\n",
       "       [ 1., 37.],\n",
       "       [ 1., 38.],\n",
       "       [ 1., 39.]])"
      ]
     },
     "execution_count": 29,
     "metadata": {},
     "output_type": "execute_result"
    }
   ],
   "source": [
    "X[-5:]"
   ]
  },
  {
   "cell_type": "code",
   "execution_count": 30,
   "metadata": {},
   "outputs": [
    {
     "data": {
      "text/plain": [
       "Intercept    9.356702\n",
       "x            4.201604\n",
       "dtype: float64"
      ]
     },
     "execution_count": 30,
     "metadata": {},
     "output_type": "execute_result"
    }
   ],
   "source": [
    "coef, resid,_,_ = np.linalg.lstsq(X,y, rcond=None)\n",
    "coef = pd.Series(coef.squeeze(), index=X.design_info.column_names)\n",
    "coef"
   ]
  },
  {
   "cell_type": "markdown",
   "metadata": {},
   "source": [
    "### Data Transfromation in Patsy Formula\n",
    "- python codes can be mixed in patsy formula"
   ]
  },
  {
   "cell_type": "code",
   "execution_count": 5,
   "metadata": {},
   "outputs": [
    {
     "data": {
      "text/plain": [
       "<matplotlib.axes._subplots.AxesSubplot at 0x10ef81550>"
      ]
     },
     "execution_count": 5,
     "metadata": {},
     "output_type": "execute_result"
    },
    {
     "data": {
      "image/png": "[encoded data removed]",
      "text/plain": [
       "<Figure size 432x288 with 1 Axes>"
      ]
     },
     "metadata": {},
     "output_type": "display_data"
    }
   ],
   "source": [
    "var_x0 = np.arange(20)\n",
    "var_x1 = np.arange(19, -1, -1)\n",
    "var_y = (var_x0 - 3 * var_x1 + 30) * (1- np.random.randn(20))\n",
    "\n",
    "raw_data = {\n",
    "    \"x0\": var_x0,\n",
    "    \"x1\": var_x1,\n",
    "    \"y\": var_y\n",
    "}\n",
    "\n",
    "df = pd.DataFrame(raw_data)\n",
    "df.plot(x=\"x1\", y=\"y\")\n"
   ]
  },
  {
   "cell_type": "code",
   "execution_count": 6,
   "metadata": {},
   "outputs": [
    {
     "data": {
      "text/plain": [
       "DesignMatrix with shape (20, 3)\n",
       "  Intercept  x0  np.sqrt(x1)\n",
       "          1   0      4.35890\n",
       "          1   1      4.24264\n",
       "          1   2      4.12311\n",
       "          1   3      4.00000\n",
       "          1   4      3.87298\n",
       "          1   5      3.74166\n",
       "          1   6      3.60555\n",
       "          1   7      3.46410\n",
       "          1   8      3.31662\n",
       "          1   9      3.16228\n",
       "          1  10      3.00000\n",
       "          1  11      2.82843\n",
       "          1  12      2.64575\n",
       "          1  13      2.44949\n",
       "          1  14      2.23607\n",
       "          1  15      2.00000\n",
       "          1  16      1.73205\n",
       "          1  17      1.41421\n",
       "          1  18      1.00000\n",
       "          1  19      0.00000\n",
       "  Terms:\n",
       "    'Intercept' (column 0)\n",
       "    'x0' (column 1)\n",
       "    'np.sqrt(x1)' (column 2)"
      ]
     },
     "execution_count": 6,
     "metadata": {},
     "output_type": "execute_result"
    }
   ],
   "source": [
    "y, X = patsy.dmatrices(\"y ~ x0 + np.sqrt(x1)\", df)\n",
    "X"
   ]
  },
  {
   "cell_type": "code",
   "execution_count": 7,
   "metadata": {},
   "outputs": [
    {
     "data": {
      "text/plain": [
       "DesignMatrix with shape (20, 3)\n",
       "  Intercept  center(x0)  standardize(x1)\n",
       "          1        -9.5          1.64751\n",
       "          1        -8.5          1.47409\n",
       "          1        -7.5          1.30066\n",
       "          1        -6.5          1.12724\n",
       "          1        -5.5          0.95382\n",
       "          1        -4.5          0.78040\n",
       "          1        -3.5          0.60698\n",
       "          1        -2.5          0.43355\n",
       "          1        -1.5          0.26013\n",
       "          1        -0.5          0.08671\n",
       "          1         0.5         -0.08671\n",
       "          1         1.5         -0.26013\n",
       "          1         2.5         -0.43355\n",
       "          1         3.5         -0.60698\n",
       "          1         4.5         -0.78040\n",
       "          1         5.5         -0.95382\n",
       "          1         6.5         -1.12724\n",
       "          1         7.5         -1.30066\n",
       "          1         8.5         -1.47409\n",
       "          1         9.5         -1.64751\n",
       "  Terms:\n",
       "    'Intercept' (column 0)\n",
       "    'center(x0)' (column 1)\n",
       "    'standardize(x1)' (column 2)"
      ]
     },
     "execution_count": 7,
     "metadata": {},
     "output_type": "execute_result"
    }
   ],
   "source": [
    "y, X = patsy.dmatrices(\"center(y) ~ center(x0) + standardize(x1)\", df)\n",
    "X"
   ]
  },
  {
   "cell_type": "code",
   "execution_count": 8,
   "metadata": {},
   "outputs": [
    {
     "data": {
      "text/plain": [
       "DesignMatrix with shape (20, 3)\n",
       "  Intercept  I(x0 - 2 * x1)  x1\n",
       "          1             -38  19\n",
       "          1             -35  18\n",
       "          1             -32  17\n",
       "          1             -29  16\n",
       "          1             -26  15\n",
       "          1             -23  14\n",
       "          1             -20  13\n",
       "          1             -17  12\n",
       "          1             -14  11\n",
       "          1             -11  10\n",
       "          1              -8   9\n",
       "          1              -5   8\n",
       "          1              -2   7\n",
       "          1               1   6\n",
       "          1               4   5\n",
       "          1               7   4\n",
       "          1              10   3\n",
       "          1              13   2\n",
       "          1              16   1\n",
       "          1              19   0\n",
       "  Terms:\n",
       "    'Intercept' (column 0)\n",
       "    'I(x0 - 2 * x1)' (column 1)\n",
       "    'x1' (column 2)"
      ]
     },
     "execution_count": 8,
     "metadata": {},
     "output_type": "execute_result"
    }
   ],
   "source": [
    "## + in patsy formula is not add, func I is used for addition\n",
    "x, Y = patsy.dmatrices(\"y ~ I(x0-2*x1) + x1\", df)\n",
    "Y"
   ]
  },
  {
   "cell_type": "markdown",
   "metadata": {},
   "source": [
    "### Categorical data"
   ]
  },
  {
   "cell_type": "code",
   "execution_count": 9,
   "metadata": {},
   "outputs": [],
   "source": [
    "df_cat = df.copy()\n",
    "df_cat[\"cat\"] = np.random.choice(list(\"abcd\"), 20)"
   ]
  },
  {
   "cell_type": "code",
   "execution_count": 10,
   "metadata": {},
   "outputs": [
    {
     "data": {
      "text/plain": [
       "DesignMatrix with shape (20, 4)\n",
       "  cat[a]  cat[b]  cat[c]  cat[d]\n",
       "       0       1       0       0\n",
       "       0       1       0       0\n",
       "       0       0       1       0\n",
       "       1       0       0       0\n",
       "       0       1       0       0\n",
       "       0       1       0       0\n",
       "       1       0       0       0\n",
       "       0       0       0       1\n",
       "       0       0       0       1\n",
       "       0       0       1       0\n",
       "       0       1       0       0\n",
       "       1       0       0       0\n",
       "       0       0       1       0\n",
       "       0       0       0       1\n",
       "       1       0       0       0\n",
       "       1       0       0       0\n",
       "       0       1       0       0\n",
       "       0       1       0       0\n",
       "       1       0       0       0\n",
       "       0       0       0       1\n",
       "  Terms:\n",
       "    'cat' (columns 0:4)"
      ]
     },
     "execution_count": 10,
     "metadata": {},
     "output_type": "execute_result"
    }
   ],
   "source": [
    "y, X = patsy.dmatrices(\"y~cat+0\", df_cat) ## \"+0\" omit intercept\n",
    "X"
   ]
  },
  {
   "cell_type": "markdown",
   "metadata": {},
   "source": [
    "### Multiple Category columns"
   ]
  },
  {
   "cell_type": "code",
   "execution_count": 11,
   "metadata": {},
   "outputs": [],
   "source": [
    "df_cat[\"cat2\"] = np.random.choice([\"zero\", \"one\"], 20)"
   ]
  },
  {
   "cell_type": "code",
   "execution_count": 15,
   "metadata": {},
   "outputs": [
    {
     "data": {
      "text/plain": [
       "DesignMatrix with shape (20, 6)\n",
       "  cat[a]  cat[b]  cat[c]  cat[d]  cat2[T.zero]  x0\n",
       "       0       1       0       0             0   0\n",
       "       0       1       0       0             0   1\n",
       "       0       0       1       0             0   2\n",
       "       1       0       0       0             1   3\n",
       "       0       1       0       0             1   4\n",
       "       0       1       0       0             0   5\n",
       "       1       0       0       0             1   6\n",
       "       0       0       0       1             1   7\n",
       "       0       0       0       1             0   8\n",
       "       0       0       1       0             1   9\n",
       "       0       1       0       0             1  10\n",
       "       1       0       0       0             1  11\n",
       "       0       0       1       0             0  12\n",
       "       0       0       0       1             0  13\n",
       "       1       0       0       0             0  14\n",
       "       1       0       0       0             1  15\n",
       "       0       1       0       0             0  16\n",
       "       0       1       0       0             0  17\n",
       "       1       0       0       0             1  18\n",
       "       0       0       0       1             1  19\n",
       "  Terms:\n",
       "    'cat' (columns 0:4)\n",
       "    'cat2' (column 4)\n",
       "    'x0' (column 5)"
      ]
     },
     "execution_count": 15,
     "metadata": {},
     "output_type": "execute_result"
    }
   ],
   "source": [
    "y,X = patsy.dmatrices(\"y~x0+cat+cat2+0\", df_cat)\n",
    "X"
   ]
  },
  {
   "cell_type": "code",
   "execution_count": 22,
   "metadata": {},
   "outputs": [
    {
     "data": {
      "text/plain": [
       "DesignMatrix with shape (20, 9)\n",
       "  Columns:\n",
       "    ['cat[a]:cat2[one]',\n",
       "     'cat[b]:cat2[one]',\n",
       "     'cat[c]:cat2[one]',\n",
       "     'cat[d]:cat2[one]',\n",
       "     'cat[a]:cat2[zero]',\n",
       "     'cat[b]:cat2[zero]',\n",
       "     'cat[c]:cat2[zero]',\n",
       "     'cat[d]:cat2[zero]',\n",
       "     'x0']\n",
       "  Terms:\n",
       "    'cat:cat2' (columns 0:8), 'x0' (column 8)\n",
       "  (to view full data, use np.asarray(this_obj))"
      ]
     },
     "execution_count": 22,
     "metadata": {},
     "output_type": "execute_result"
    }
   ],
   "source": [
    "y,X = patsy.dmatrices(\"y~x0+cat:cat2+0\", df_cat)\n",
    "X"
   ]
  },
  {
   "cell_type": "code",
   "execution_count": null,
   "metadata": {},
   "outputs": [],
   "source": []
  }
 ],
 "metadata": {
  "kernelspec": {
   "display_name": "Python 3",
   "language": "python",
   "name": "python3"
  },
  "language_info": {
   "codemirror_mode": {
    "name": "ipython",
    "version": 3
   },
   "file_extension": ".py",
   "mimetype": "text/x-python",
   "name": "python",
   "nbconvert_exporter": "python",
   "pygments_lexer": "ipython3",
   "version": "3.6.5"
  }
 },
 "nbformat": 4,
 "nbformat_minor": 2
}
