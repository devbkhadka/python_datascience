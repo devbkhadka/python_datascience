{
 "cells": [
  {
   "cell_type": "markdown",
   "metadata": {},
   "source": [
    "### Down Sampling"
   ]
  },
  {
   "cell_type": "code",
   "execution_count": 9,
   "metadata": {},
   "outputs": [
    {
     "data": {
      "text/plain": [
       "2019-04-06 17:00:00    0\n",
       "2019-04-06 17:01:00    3\n",
       "2019-04-06 17:02:00    4\n",
       "2019-04-06 17:03:00    0\n",
       "2019-04-06 17:04:00    0\n",
       "2019-04-06 17:05:00    1\n",
       "2019-04-06 17:06:00    3\n",
       "2019-04-06 17:07:00    4\n",
       "2019-04-06 17:08:00    4\n",
       "2019-04-06 17:09:00    1\n",
       "Freq: T, dtype: int64"
      ]
     },
     "execution_count": 9,
     "metadata": {},
     "output_type": "execute_result"
    }
   ],
   "source": [
    "import pandas as pd\n",
    "import numpy as np\n",
    "minute_index = pd.date_range(\"17:00\", periods=45, freq=\"min\")\n",
    "requests_min = pd.Series(np.random.choice(range(5), len(minute_index)), index=minute_index)\n",
    "requests_min.head(10)"
   ]
  },
  {
   "cell_type": "code",
   "execution_count": 24,
   "metadata": {},
   "outputs": [
    {
     "data": {
      "text/plain": [
       "2019-04-06 17:00:00     0\n",
       "2019-04-06 17:05:00     8\n",
       "2019-04-06 17:10:00    16\n",
       "2019-04-06 17:15:00     3\n",
       "2019-04-06 17:20:00    10\n",
       "2019-04-06 17:25:00    11\n",
       "2019-04-06 17:30:00    11\n",
       "2019-04-06 17:35:00     7\n",
       "2019-04-06 17:40:00    11\n",
       "2019-04-06 17:45:00    14\n",
       "Freq: 5T, dtype: int64"
      ]
     },
     "execution_count": 24,
     "metadata": {},
     "output_type": "execute_result"
    }
   ],
   "source": [
    "requests_5min = requests_min.resample(\"5min\", closed=\"right\", label=\"right\").sum()\n",
    "requests_5min"
   ]
  },
  {
   "cell_type": "code",
   "execution_count": 18,
   "metadata": {},
   "outputs": [
    {
     "data": {
      "text/html": [
       "<div>\n",
       "<style scoped>\n",
       "    .dataframe tbody tr th:only-of-type {\n",
       "        vertical-align: middle;\n",
       "    }\n",
       "\n",
       "    .dataframe tbody tr th {\n",
       "        vertical-align: top;\n",
       "    }\n",
       "\n",
       "    .dataframe thead th {\n",
       "        text-align: right;\n",
       "    }\n",
       "</style>\n",
       "<table border=\"1\" class=\"dataframe\">\n",
       "  <thead>\n",
       "    <tr style=\"text-align: right;\">\n",
       "      <th></th>\n",
       "      <th>open</th>\n",
       "      <th>high</th>\n",
       "      <th>low</th>\n",
       "      <th>close</th>\n",
       "    </tr>\n",
       "  </thead>\n",
       "  <tbody>\n",
       "    <tr>\n",
       "      <th>2019-04-06 17:00:00</th>\n",
       "      <td>0</td>\n",
       "      <td>4</td>\n",
       "      <td>0</td>\n",
       "      <td>0</td>\n",
       "    </tr>\n",
       "    <tr>\n",
       "      <th>2019-04-06 17:05:00</th>\n",
       "      <td>1</td>\n",
       "      <td>4</td>\n",
       "      <td>1</td>\n",
       "      <td>1</td>\n",
       "    </tr>\n",
       "    <tr>\n",
       "      <th>2019-04-06 17:10:00</th>\n",
       "      <td>4</td>\n",
       "      <td>4</td>\n",
       "      <td>0</td>\n",
       "      <td>1</td>\n",
       "    </tr>\n",
       "    <tr>\n",
       "      <th>2019-04-06 17:15:00</th>\n",
       "      <td>0</td>\n",
       "      <td>4</td>\n",
       "      <td>0</td>\n",
       "      <td>1</td>\n",
       "    </tr>\n",
       "    <tr>\n",
       "      <th>2019-04-06 17:20:00</th>\n",
       "      <td>3</td>\n",
       "      <td>4</td>\n",
       "      <td>0</td>\n",
       "      <td>3</td>\n",
       "    </tr>\n",
       "    <tr>\n",
       "      <th>2019-04-06 17:25:00</th>\n",
       "      <td>3</td>\n",
       "      <td>4</td>\n",
       "      <td>1</td>\n",
       "      <td>4</td>\n",
       "    </tr>\n",
       "    <tr>\n",
       "      <th>2019-04-06 17:30:00</th>\n",
       "      <td>2</td>\n",
       "      <td>4</td>\n",
       "      <td>0</td>\n",
       "      <td>0</td>\n",
       "    </tr>\n",
       "    <tr>\n",
       "      <th>2019-04-06 17:35:00</th>\n",
       "      <td>0</td>\n",
       "      <td>3</td>\n",
       "      <td>0</td>\n",
       "      <td>2</td>\n",
       "    </tr>\n",
       "    <tr>\n",
       "      <th>2019-04-06 17:40:00</th>\n",
       "      <td>3</td>\n",
       "      <td>4</td>\n",
       "      <td>3</td>\n",
       "      <td>3</td>\n",
       "    </tr>\n",
       "  </tbody>\n",
       "</table>\n",
       "</div>"
      ],
      "text/plain": [
       "                     open  high  low  close\n",
       "2019-04-06 17:00:00     0     4    0      0\n",
       "2019-04-06 17:05:00     1     4    1      1\n",
       "2019-04-06 17:10:00     4     4    0      1\n",
       "2019-04-06 17:15:00     0     4    0      1\n",
       "2019-04-06 17:20:00     3     4    0      3\n",
       "2019-04-06 17:25:00     3     4    1      4\n",
       "2019-04-06 17:30:00     2     4    0      0\n",
       "2019-04-06 17:35:00     0     3    0      2\n",
       "2019-04-06 17:40:00     3     4    3      3"
      ]
     },
     "execution_count": 18,
     "metadata": {},
     "output_type": "execute_result"
    }
   ],
   "source": [
    "requests_min.resample(\"5min\").ohlc()"
   ]
  },
  {
   "cell_type": "markdown",
   "metadata": {},
   "source": [
    "### Up Sampling"
   ]
  },
  {
   "cell_type": "code",
   "execution_count": 27,
   "metadata": {},
   "outputs": [
    {
     "data": {
      "text/plain": [
       "2019-04-06 17:00:00    0.0\n",
       "2019-04-06 17:01:00    NaN\n",
       "2019-04-06 17:02:00    NaN\n",
       "2019-04-06 17:03:00    NaN\n",
       "2019-04-06 17:04:00    NaN\n",
       "2019-04-06 17:05:00    8.0\n",
       "2019-04-06 17:06:00    NaN\n",
       "2019-04-06 17:07:00    NaN\n",
       "2019-04-06 17:08:00    NaN\n",
       "2019-04-06 17:09:00    NaN\n",
       "Freq: T, dtype: float64"
      ]
     },
     "execution_count": 27,
     "metadata": {},
     "output_type": "execute_result"
    }
   ],
   "source": [
    "requests_5min.resample(\"min\").asfreq().head(10) ## it is same as requests_5min.asfreq(\"min\")"
   ]
  },
  {
   "cell_type": "code",
   "execution_count": 33,
   "metadata": {},
   "outputs": [
    {
     "data": {
      "text/plain": [
       "2019-04-06 17:00:00    0\n",
       "2019-04-06 17:01:00    0\n",
       "2019-04-06 17:02:00    0\n",
       "2019-04-06 17:03:00    0\n",
       "2019-04-06 17:04:00    0\n",
       "2019-04-06 17:05:00    8\n",
       "2019-04-06 17:06:00    8\n",
       "2019-04-06 17:07:00    8\n",
       "2019-04-06 17:08:00    8\n",
       "2019-04-06 17:09:00    8\n",
       "Freq: T, dtype: int64"
      ]
     },
     "execution_count": 33,
     "metadata": {},
     "output_type": "execute_result"
    }
   ],
   "source": [
    "requests_5min.resample(\"min\").ffill().head(10)"
   ]
  },
  {
   "cell_type": "code",
   "execution_count": 34,
   "metadata": {},
   "outputs": [
    {
     "data": {
      "text/plain": [
       "2019-04-06 17:00:00    0.0\n",
       "2019-04-06 17:01:00    0.0\n",
       "2019-04-06 17:02:00    0.0\n",
       "2019-04-06 17:03:00    NaN\n",
       "2019-04-06 17:04:00    NaN\n",
       "2019-04-06 17:05:00    8.0\n",
       "2019-04-06 17:06:00    8.0\n",
       "2019-04-06 17:07:00    8.0\n",
       "2019-04-06 17:08:00    NaN\n",
       "2019-04-06 17:09:00    NaN\n",
       "Freq: T, dtype: float64"
      ]
     },
     "execution_count": 34,
     "metadata": {},
     "output_type": "execute_result"
    }
   ],
   "source": [
    "requests_5min.resample(\"min\").ffill(limit=2).head(10)"
   ]
  },
  {
   "cell_type": "code",
   "execution_count": null,
   "metadata": {},
   "outputs": [],
   "source": []
  }
 ],
 "metadata": {
  "kernelspec": {
   "display_name": "Python 3",
   "language": "python",
   "name": "python3"
  },
  "language_info": {
   "codemirror_mode": {
    "name": "ipython",
    "version": 3
   },
   "file_extension": ".py",
   "mimetype": "text/x-python",
   "name": "python",
   "nbconvert_exporter": "python",
   "pygments_lexer": "ipython3",
   "version": "3.6.5"
  }
 },
 "nbformat": 4,
 "nbformat_minor": 2
}
