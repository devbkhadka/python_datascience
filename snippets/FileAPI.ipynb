{
 "cells": [
  {
   "cell_type": "markdown",
   "metadata": {},
   "source": [
    "### Open and Read File"
   ]
  },
  {
   "cell_type": "code",
   "execution_count": 15,
   "metadata": {},
   "outputs": [
    {
     "name": "stdout",
     "output_type": "stream",
     "text": [
      "['Canidae\\n', 'Felidae\\n', 'Cat\\n', 'Cattle\\n', 'Dog\\n', 'Donkey\\n', 'Goat\\n', 'Guinea pig\\n', 'Horse\\n', 'Pig\\n', 'Rabbit\\n', 'Fancy rat varieties\\n', 'laboratory rat strains\\n', 'Sheep breeds\\n', 'Water buffalo breeds\\n', 'Chicken breeds\\n', 'Duck breeds\\n', 'Goose breeds\\n', 'Pigeon breeds\\n', 'Turkey breeds\\n', 'Aardvark\\n', 'Aardwolf\\n']\n"
     ]
    }
   ],
   "source": [
    "path = 'animals.txt'\n",
    "lines = []\n",
    "with open(path) as f:\n",
    "    for i, line in enumerate(f):\n",
    "        lines.append(line)\n",
    "        if i>20:\n",
    "            break\n",
    "    \n",
    "print(lines)   "
   ]
  },
  {
   "cell_type": "markdown",
   "metadata": {},
   "source": [
    "### Write to File"
   ]
  },
  {
   "cell_type": "code",
   "execution_count": 28,
   "metadata": {},
   "outputs": [],
   "source": [
    "wpath = 'write.txt'\n",
    "with open(wpath, 'w') as f:\n",
    "    f.writelines(lines)\n"
   ]
  },
  {
   "cell_type": "markdown",
   "metadata": {},
   "source": [
    "### Read Unicode Characters"
   ]
  },
  {
   "cell_type": "code",
   "execution_count": 49,
   "metadata": {},
   "outputs": [
    {
     "name": "stdout",
     "output_type": "stream",
     "text": [
      "Οὐχὶ ταὐτὰ παρίσταταί μοι γιγνώσκειν, ὦ ἄνδρες ᾿Αθηναῖοι,\n",
      "ὅταν τ᾿ εἰς τὰ πράγματα ἀποβλέψω καὶ ὅταν \n",
      "202\n",
      "πρὸς τοὺς\n",
      "\n",
      "b'\\xce\\x9f\\xe1\\xbd\\x90\\xcf\\x87\\xe1\\xbd\\xb6 \\xcf\\x84\\xce\\xb1\\xe1\\xbd\\x90\\xcf\\x84\\xe1\\xbd\\xb0 \\xcf\\x80\\xce\\xb1\\xcf\\x81\\xe1\\xbd\\xb7\\xcf\\x83\\xcf\\x84\\xce\\xb1\\xcf\\x84\\xce\\xb1\\xe1\\xbd\\xb7 \\xce\\xbc\\xce\\xbf\\xce\\xb9 \\xce\\xb3\\xce\\xb9\\xce\\xb3\\xce\\xbd\\xe1\\xbd\\xbd\\xcf\\x83\\xce\\xba\\xce\\xb5\\xce\\xb9\\xce\\xbd, \\xe1\\xbd\\xa6 \\xe1\\xbc\\x84\\xce\\xbd\\xce\\xb4\\xcf\\x81\\xce\\xb5\\xcf\\x82 \\xe1\\xbe\\xbf\\xce\\x91\\xce\\xb8\\xce\\xb7\\xce\\xbd\\xce\\xb1\\xe1\\xbf\\x96\\xce\\xbf\\xce\\xb9,\\n\\xe1\\xbd\\x85\\xcf\\x84\\xce\\xb1\\xce\\xbd \\xcf\\x84\\xe1\\xbe\\xbf \\xce\\xb5\\xe1\\xbc\\xb0\\xcf\\x82 \\xcf\\x84\\xe1\\xbd\\xb0 \\xcf\\x80\\xcf\\x81\\xe1\\xbd\\xb1\\xce\\xb3\\xce\\xbc\\xce\\xb1\\xcf\\x84\\xce\\xb1 \\xe1\\xbc\\x80\\xcf\\x80\\xce\\xbf\\xce\\xb2\\xce\\xbb\\xe1\\xbd\\xb3\\xcf\\x88\\xcf\\x89 \\xce\\xba\\xce\\xb1\\xe1\\xbd\\xb6 \\xe1\\xbd\\x85\\xcf\\x84\\xce\\xb1\\xce\\xbd '\n",
      "Οὐχὶ ταὐτὰ παρίσταταί μοι γιγνώσκειν, ὦ ἄνδρες ᾿Αθηναῖοι,\n",
      "ὅταν τ᾿ εἰς τὰ πράγματα ἀποβλέψω καὶ ὅταν \n"
     ]
    }
   ],
   "source": [
    "with open('unicode.txt','r',encoding='utf-8') as f:\n",
    "    txts = f.read(100)\n",
    "    print(txts)\n",
    "    print(f.tell())\n",
    "    print(f.readline())\n",
    "    byts = txts.encode('utf-8')\n",
    "    print(byts)\n",
    "    print(byts.decode('utf-8'))"
   ]
  },
  {
   "cell_type": "code",
   "execution_count": null,
   "metadata": {},
   "outputs": [],
   "source": []
  }
 ],
 "metadata": {
  "kernelspec": {
   "display_name": "Python 3",
   "language": "python",
   "name": "python3"
  },
  "language_info": {
   "codemirror_mode": {
    "name": "ipython",
    "version": 3
   },
   "file_extension": ".py",
   "mimetype": "text/x-python",
   "name": "python",
   "nbconvert_exporter": "python",
   "pygments_lexer": "ipython3",
   "version": "3.6.5"
  }
 },
 "nbformat": 4,
 "nbformat_minor": 2
}
